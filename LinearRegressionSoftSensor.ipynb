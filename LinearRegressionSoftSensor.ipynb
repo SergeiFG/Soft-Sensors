{
 "cells": [
  {
   "cell_type": "code",
   "execution_count": 1,
   "id": "fd089e5c-073c-4899-b1fc-e51d8550cc19",
   "metadata": {},
   "outputs": [],
   "source": [
    "import sys\n",
    "sys.path.append(\"..\")\n",
    "\n",
    "import Essentials"
   ]
  },
  {
   "cell_type": "code",
   "execution_count": 3,
   "id": "13d89c2c-e559-41ad-bff9-dbc07c7793bc",
   "metadata": {},
   "outputs": [],
   "source": [
    "import numpy as np\n",
    "from sklearn.linear_model import LinearRegression\n",
    "from sklearn.preprocessing import StandardScaler"
   ]
  },
  {
   "cell_type": "code",
   "execution_count": 4,
   "id": "dd53eeb4-e972-45e1-850d-de1c2920ca30",
   "metadata": {},
   "outputs": [],
   "source": [
    "a = np.load('Data_Average.npz', allow_pickle=True)"
   ]
  },
  {
   "cell_type": "code",
   "execution_count": 5,
   "id": "ea1726ec-2d6e-4e3f-85da-1ed6f0b48172",
   "metadata": {},
   "outputs": [],
   "source": [
    "x1 = a['X_test_1']\n",
    "x2 = a['X_train_1']\n",
    "\n",
    "y1 = a['Y_test_1']\n",
    "y2 = a['Y_train_1']"
   ]
  },
  {
   "cell_type": "code",
   "execution_count": 6,
   "id": "0c876d2c-d134-497d-ae6b-5d0227621837",
   "metadata": {},
   "outputs": [
    {
     "name": "stderr",
     "output_type": "stream",
     "text": [
      "C:\\Users\\PC\\AppData\\Local\\Temp\\ipykernel_9076\\3146428066.py:5: DeprecationWarning: Conversion of an array with ndim > 0 to a scalar is deprecated, and will error in future. Ensure you extract a single element from your array before performing this operation. (Deprecated NumPy 1.25.)\n",
      "  y1 = y1.astype(np.float64)\n",
      "C:\\Users\\PC\\AppData\\Local\\Temp\\ipykernel_9076\\3146428066.py:7: DeprecationWarning: Conversion of an array with ndim > 0 to a scalar is deprecated, and will error in future. Ensure you extract a single element from your array before performing this operation. (Deprecated NumPy 1.25.)\n",
      "  y2 = y2.astype(np.float64)\n"
     ]
    }
   ],
   "source": [
    "timestamp1 = y1[:, 1]\n",
    "timestamp2 = y2[:, 1]\n",
    "\n",
    "y1 = y1[:, 0].reshape(len(y1), 1)\n",
    "y1 = y1.astype(np.float64)\n",
    "y2 = y2[:, 0].reshape(len(y2), 1)\n",
    "y2 = y2.astype(np.float64)"
   ]
  },
  {
   "cell_type": "code",
   "execution_count": 7,
   "id": "8782437b-d22a-436b-9bf0-f7622e3b228e",
   "metadata": {},
   "outputs": [
    {
     "data": {
      "text/plain": [
       "(74, 1)"
      ]
     },
     "execution_count": 7,
     "metadata": {},
     "output_type": "execute_result"
    }
   ],
   "source": [
    "y1.shape"
   ]
  },
  {
   "cell_type": "code",
   "execution_count": 8,
   "id": "b449c11b-3492-491d-be77-5973b9bd8d0d",
   "metadata": {},
   "outputs": [
    {
     "data": {
      "text/plain": [
       "(74, 98)"
      ]
     },
     "execution_count": 8,
     "metadata": {},
     "output_type": "execute_result"
    }
   ],
   "source": [
    "x1.shape"
   ]
  },
  {
   "cell_type": "code",
   "execution_count": 42,
   "id": "2a0f8950-7408-41c6-ae1b-7341fcf8059c",
   "metadata": {},
   "outputs": [],
   "source": [
    "class TestSoftSensor(Essentials.SoftSensor):\n",
    "    def __init__(self, x_train, y_train):\n",
    "        super().__init__('Test')\n",
    "        self.x_scaler = StandardScaler() \n",
    "        self.y_scaler = StandardScaler()\n",
    "        self.x_scaler.fit(x_train)\n",
    "        self.y_scaler.fit(y_train)\n",
    "        self.train(x_train, y_train)\n",
    "\n",
    "    def prepocessing(self, x):\n",
    "        try:\n",
    "            return self.x_scaler.transform(x)\n",
    "        except:\n",
    "            try:\n",
    "               return self.y_scaler.transform(x)\n",
    "            except BaseException as err:\n",
    "                print(\"Ошибка скейлера\")\n",
    "                raise err\n",
    "            \n",
    "\n",
    "    def postprocessing(self, x):\n",
    "        try:\n",
    "            return self.x_scaler.inverse_transform(x)\n",
    "        except:\n",
    "            try:\n",
    "               return self.y_scaler.inverse_transform(x)\n",
    "            except BaseException as err:\n",
    "                print(\"Ошибка скейлера\")\n",
    "                raise err\n",
    "\n",
    "    def evaluate_model(self, x):\n",
    "        preproc_x = self.prepocessing(x)\n",
    "        predictions = self.get_model().predict(preproc_x)\n",
    "        return predictions\n",
    "\n",
    "    def train(self, x_train, y_train):\n",
    "        model = LinearRegression()\n",
    "        preproc_x = self.prepocessing(x_train)\n",
    "        preproc_y = self.prepocessing(y_train)\n",
    "        model.fit(preproc_x,preproc_y)\n",
    "        self.set_model(model)\n",
    "\n",
    "    def __str__(self):\n",
    "        model = self.get_model()\n",
    "        coefficients = model.coef_\n",
    "        intercept = model.intercept_\n",
    "        return (f\"Линейная регрессия, коэффициенты: {coefficients}, \"\n",
    "                f\"Интерсепт: {self.postprocessing(intercept.reshape(-1, 1))[0, 0]}\")"
   ]
  },
  {
   "cell_type": "code",
   "execution_count": 43,
   "id": "02fc1be8-6972-4342-9162-22d026a3fc3f",
   "metadata": {},
   "outputs": [],
   "source": [
    "Test_sensor_1 = TestSoftSensor(x2, y2)"
   ]
  },
  {
   "cell_type": "code",
   "execution_count": 44,
   "id": "6cfb4c64-d9d4-4f01-85c2-f5731d2fe78b",
   "metadata": {},
   "outputs": [
    {
     "name": "stdout",
     "output_type": "stream",
     "text": [
      "Линейная регрессия, коэффициенты: [[ 0.3137575   0.18611091 -0.14722911 -0.10137461  0.04420037 -0.53565132\n",
      "   0.04391461 -0.03133924 -0.38385685 -0.15024899 -0.39797301 -0.28720536\n",
      "  -0.20706543  0.23783191 -0.36786796  0.35352292 -0.08000195  0.01834674\n",
      "  -0.16087798  0.39081132  0.05223862  0.25000622 -0.03328127  0.17959523\n",
      "   0.18048184 -0.0028636  -0.47008378  0.430954   -0.41333104  0.97447343\n",
      "  -0.1151218  -0.13066925  0.14263782  0.21502953  0.13013467  0.32133184\n",
      "  -0.2002551   0.19865264 -0.21171254  0.62190551 -0.19158178  0.2391295\n",
      "   0.16661098 -0.58706234  0.69175244  0.09438131 -0.24109442 -0.45045215\n",
      "  -0.42841731  0.1284568  -0.03851522 -0.76218934  0.50278088  0.28852457\n",
      "  -0.12450194  0.14182576 -0.33800605  0.65840823  0.12493943 -0.61294151\n",
      "  -0.36447768  0.00752081 -0.09085792  0.12940936  0.00185973  0.17695025\n",
      "  -0.10299971 -0.42609976  0.1699502  -0.00245239 -0.13037951 -0.05702275\n",
      "  -0.26062843 -0.0490003   0.1195258  -0.05240974 -0.25594044  0.31649772\n",
      "   0.15123354 -0.13263285 -0.28064575 -0.14417841  0.61254686 -0.42669934\n",
      "  -0.00341429 -0.18843412  0.11804378  0.13820456 -0.04244833 -0.43890633\n",
      "   0.28904843  0.3108221   0.19040253 -0.14539495 -0.07485283  0.66696757\n",
      "  -0.15877925  0.50076609]], Интерсепт: 57.27368421052368\n"
     ]
    }
   ],
   "source": [
    "print(Test_sensor_1)"
   ]
  },
  {
   "cell_type": "code",
   "execution_count": 45,
   "id": "8f472de4-3a08-449c-b2cf-c479921407e9",
   "metadata": {},
   "outputs": [],
   "source": [
    "metric = Essentials.R2Metric()"
   ]
  },
  {
   "cell_type": "code",
   "execution_count": 46,
   "id": "1f63ce08-c62c-4e66-b0cb-094dd10a7337",
   "metadata": {},
   "outputs": [],
   "source": [
    "test_visual = Essentials.Visualizer(x1, y1, timestamp1, [metric], 'Test SoftSensor R2 metric')"
   ]
  },
  {
   "cell_type": "code",
   "execution_count": 47,
   "id": "2f219dd1-4058-4ce6-9376-0b07a1229326",
   "metadata": {},
   "outputs": [
    {
     "name": "stdout",
     "output_type": "stream",
     "text": [
      "      Coefficient of determination\n",
      "Test                 -3.497701e+06\n"
     ]
    },
    {
     "data": {
      "image/png": "[encoded data removed]",
      "text/plain": [
       "<Figure size 640x480 with 1 Axes>"
      ]
     },
     "metadata": {},
     "output_type": "display_data"
    }
   ],
   "source": [
    "test_visual.visualize([Test_sensor_1])"
   ]
  },
  {
   "cell_type": "code",
   "execution_count": null,
   "id": "f0ab78b9-1742-4e81-8b94-622231eb5ae2",
   "metadata": {},
   "outputs": [],
   "source": []
  }
 ],
 "metadata": {
  "kernelspec": {
   "display_name": "Python 3 (ipykernel)",
   "language": "python",
   "name": "python3"
  },
  "language_info": {
   "codemirror_mode": {
    "name": "ipython",
    "version": 3
   },
   "file_extension": ".py",
   "mimetype": "text/x-python",
   "name": "python",
   "nbconvert_exporter": "python",
   "pygments_lexer": "ipython3",
   "version": "3.11.7"
  }
 },
 "nbformat": 4,
 "nbformat_minor": 5
}
