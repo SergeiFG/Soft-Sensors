{
 "cells": [
  {
   "cell_type": "code",
   "execution_count": 70,
   "id": "dffd2584-e1b4-4d7b-84b7-08ab0b187025",
   "metadata": {},
   "outputs": [],
   "source": [
    "import sys\n",
    "\n",
    "sys.path.append(\"...\")\n",
    "\n",
    "import Essentials"
   ]
  },
  {
   "cell_type": "code",
   "execution_count": 71,
   "id": "40efebc7-a4d7-443a-8d9d-aff4eee11659",
   "metadata": {},
   "outputs": [],
   "source": [
    "import os\n",
    "os.environ[\"PATH\"] += os.pathsep + 'C:/Path/To/Graphviz/bin'"
   ]
  },
  {
   "cell_type": "code",
   "execution_count": 72,
   "id": "02ee68c8-200f-4bce-aac6-790371f776d9",
   "metadata": {},
   "outputs": [],
   "source": [
    "import numpy as np\n",
    "from sklearn.tree import DecisionTreeRegressor\n",
    "from sklearn.preprocessing import StandardScaler\n",
    "from sklearn.linear_model import LinearRegression\n",
    "import matplotlib.pyplot as plt\n",
    "from sklearn.ensemble import RandomForestRegressor\n",
    "from sklearn.model_selection import train_test_split\n",
    "from sklearn.tree import export_graphviz\n",
    "import graphviz\n",
    "import pandas as pd\n",
    "from sklearn.tree import plot_tree"
   ]
  },
  {
   "cell_type": "code",
   "execution_count": 73,
   "id": "f128aca0-7f97-4384-bfa5-8841e9d5c593",
   "metadata": {},
   "outputs": [],
   "source": [
    "data_archive = np.load('Data_First_newest.npz', allow_pickle=True)"
   ]
  },
  {
   "cell_type": "code",
   "execution_count": 74,
   "id": "c4a73313-d75f-461d-bcee-e530af651fbe",
   "metadata": {},
   "outputs": [],
   "source": [
    "def prepare_Y(y):\n",
    "    timestamp = y[:, 1]   \n",
    "    y = y[:, 0].reshape(len(y), 1)\n",
    "    y = y.astype(np.float64)\n",
    "\n",
    "    return y, timestamp"
   ]
  },
  {
   "cell_type": "code",
   "execution_count": 75,
   "id": "a9aa035c-b190-4c5b-bf4d-45747fb31530",
   "metadata": {},
   "outputs": [],
   "source": [
    "all_X_1 = data_archive['all_X_1']\n",
    "all_Y_1 = data_archive['all_Y_1']\n",
    "\n",
    "all_X_2 = data_archive['all_X_2']\n",
    "all_Y_2 = data_archive['all_Y_2']\n",
    "\n",
    "all_X_3 = data_archive['all_X_3']\n",
    "all_Y_3 = data_archive['all_Y_3']"
   ]
  },
  {
   "cell_type": "code",
   "execution_count": 76,
   "id": "06939f91-b4a2-4e65-ac8b-ede550d4358a",
   "metadata": {},
   "outputs": [],
   "source": [
    "df_X1 = pd.read_csv(r'raw_X1.csv', index_col=0)\n",
    "df_X2 = pd.read_csv(r'raw_X2.csv', index_col=0)\n",
    "df_X3 = pd.read_csv(r'raw_X3.csv', index_col=0)\n",
    "df_Y1 = pd.read_csv(r'raw_Y1.csv', index_col=0)\n",
    "df_Y2 = pd.read_csv(r'raw_Y1.csv', index_col=0)\n",
    "df_Y3 = pd.read_csv(r'raw_Y1.csv', index_col=0)"
   ]
  },
  {
   "cell_type": "code",
   "execution_count": 77,
   "id": "bbf44a0f-67b4-4b75-910b-15737bd29f7d",
   "metadata": {},
   "outputs": [],
   "source": [
    "column_names_X1 = df_X1.columns.tolist()\n",
    "column_names_X2 = df_X2.columns.tolist()\n",
    "column_names_X3 = df_X3.columns.tolist()\n",
    "column_name_Y1 = 'Давление насыщенных паров в зимний период'\n",
    "column_name_Y2 = 'Конец кипения легкого бензина'\n",
    "column_name_Y3 = 'Содержание олефинов в продукте'"
   ]
  },
  {
   "cell_type": "code",
   "execution_count": 78,
   "id": "fb51ecf8-edf0-444e-97f8-b2078d96d53f",
   "metadata": {},
   "outputs": [
    {
     "data": {
      "text/plain": [
       "'DateTime'"
      ]
     },
     "execution_count": 78,
     "metadata": {},
     "output_type": "execute_result"
    }
   ],
   "source": [
    "column_names_X1.pop()"
   ]
  },
  {
   "cell_type": "code",
   "execution_count": 79,
   "id": "062f2017-00a3-4bfe-a2d2-8d3c208a5576",
   "metadata": {},
   "outputs": [],
   "source": [
    "feature_names_1 = column_names_X1\n",
    "feature_names_2 = column_names_X2\n",
    "feature_names_3 = column_names_X3"
   ]
  },
  {
   "cell_type": "code",
   "execution_count": 89,
   "id": "085df999-796b-4172-9470-be0a7196823d",
   "metadata": {},
   "outputs": [
    {
     "data": {
      "text/plain": [
       "['Расход бензина ККР на установку',\n",
       " 'Расход нафты ККР на установку',\n",
       " 'Расход бензина на рециркуляцию от Е-1205',\n",
       " 'Температура бензина ККР на установку',\n",
       " 'Расход сырья после Р-1101',\n",
       " 'Показатель соотношения водород к углероду',\n",
       " 'Расход водорода на смешение перед Е-1101',\n",
       " 'Температура сырья перед Е-1101',\n",
       " 'Давление сырья перед Е-1101',\n",
       " 'Температура сырья после Е-1103',\n",
       " 'Температура бензина перед Е-1102',\n",
       " 'Давление бензина после Е-1102',\n",
       " 'Давление на входе в R-1101',\n",
       " 'Температура на входе в R-1101',\n",
       " 'Перепад давления реактора R-1101',\n",
       " 'Температура на входе в С-1101',\n",
       " 'Давление верха С-1101',\n",
       " 'Температура 2-ой тарелки С-1101',\n",
       " 'Расход ЛБ от С-1101',\n",
       " 'Температура ЛБ от С-1101',\n",
       " 'Температура 9-ой тарелки С-1101',\n",
       " 'Температура куба С-1101',\n",
       " 'Уровень куба С-1101',\n",
       " 'Расход ТБ с куба С-1101',\n",
       " 'Расход пара на ребойлеры Е-1105',\n",
       " 'Температура пара на ребойлеры Е-1105',\n",
       " 'Давление ЛБ после АВО А-1101',\n",
       " 'Температура ЛБ после АВО А-1101',\n",
       " 'Давление в емкости V-1102',\n",
       " 'Уровень в емкости V-1102',\n",
       " 'Температура окружающей среды',\n",
       " 'Расход ЛБ на орошение С-1101',\n",
       " 'Температура на входе в R-1201',\n",
       " 'Давление ЛБ перед А-1203',\n",
       " 'Температура продукта после А-1203',\n",
       " 'Температура продукта после Е-1205',\n",
       " 'Давление продукта после Е-1205',\n",
       " 'Давление продукта на выходе с установки',\n",
       " 'Расход продукта на выходе с установки',\n",
       " 'Температура ВСГ на входе в К-1201',\n",
       " 'Давление ВСГ на входе в К-1201',\n",
       " 'Давление ВСГ на выходе из К-1201А',\n",
       " 'Давление ВСГ на выходе из К-1201В',\n",
       " 'Температура ВСГ на выходе из К-1201',\n",
       " 'Расход ВСГ от К-1201',\n",
       " 'DateTime']"
      ]
     },
     "execution_count": 89,
     "metadata": {},
     "output_type": "execute_result"
    }
   ],
   "source": [
    "feature_names_2"
   ]
  },
  {
   "cell_type": "code",
   "execution_count": 80,
   "id": "05831ffa-8d79-4d69-823f-3e1ebda2e366",
   "metadata": {},
   "outputs": [],
   "source": [
    "x_train, x_test, y_train, y_test = train_test_split(all_X_1, all_Y_1, test_size=0.25, random_state=42)"
   ]
  },
  {
   "cell_type": "code",
   "execution_count": 81,
   "id": "d91e4fe3-33e4-4481-9fb2-765400a34099",
   "metadata": {},
   "outputs": [],
   "source": [
    "y_train, timestamp_train = prepare_Y(y_train)"
   ]
  },
  {
   "cell_type": "code",
   "execution_count": 82,
   "id": "6829820a-a608-4c4f-a62c-915027461445",
   "metadata": {},
   "outputs": [],
   "source": [
    "y_test, timestamp_test = prepare_Y(y_test)"
   ]
  },
  {
   "cell_type": "code",
   "execution_count": 83,
   "id": "a2701eca-eeed-4d07-a63a-0066206f9e56",
   "metadata": {},
   "outputs": [
    {
     "data": {
      "text/plain": [
       "(33, 1)"
      ]
     },
     "execution_count": 83,
     "metadata": {},
     "output_type": "execute_result"
    }
   ],
   "source": [
    "all_X_1.shape\n",
    "all_Y_1.shape\n",
    "x_train.shape\n",
    "y_test.shape"
   ]
  },
  {
   "cell_type": "code",
   "execution_count": 84,
   "id": "6c468fee-5c77-46a6-bb26-d1a3397fb630",
   "metadata": {},
   "outputs": [],
   "source": [
    "class RandomForest(Essentials.SoftSensor):\n",
    "    def __init__(self, x_train, y_train, **kwargs):\n",
    "        super().__init__('Test')\n",
    "        self.parameters = kwargs\n",
    "        self.model = RandomForestRegressor(**self.parameters)\n",
    "        self.x_scaler = StandardScaler() \n",
    "        self.y_scaler = StandardScaler()\n",
    "        self.x_scaler.fit(x_train)\n",
    "        self.y_scaler.fit(y_train)\n",
    "        self.train(x_train, y_train)\n",
    "        \n",
    "    \n",
    "    def preprocessing(self, x):\n",
    "        try:\n",
    "            return self.x_scaler.transform(x)\n",
    "        except:\n",
    "            try:\n",
    "               return self.y_scaler.transform(x)\n",
    "            except BaseException as err:\n",
    "                print(\"Ошибка скейлера\")\n",
    "                raise err\n",
    "    def postprocessing(self, x):\n",
    "        return x\n",
    "                \n",
    "    def evaluate_model(self, x):\n",
    "        predictions = self.get_model().predict(x)\n",
    "        return predictions.reshape(-1, 1)\n",
    "\n",
    "    def train(self, x_train, y_train):\n",
    "        x_train = self.preprocessing(x_train)\n",
    "        self.model.fit(x_train, y_train)\n",
    "        self.set_model(self.model)\n",
    "\n",
    "    def tree_viz(self, feature_names):\n",
    "        random_tree = self.model.estimators_[0]\n",
    "        plt.figure(figsize=(10, 8))\n",
    "        plot_tree(random_tree, feature_names=feature_names, class_names=None, filled=True)\n",
    "        plt.show()\n",
    "        \n",
    "    def __str__(self):\n",
    "        pass\n",
    "    def predict(self, x):\n",
    "        return self.evaluate_model(self.preprocessing(x))"
   ]
  },
  {
   "cell_type": "code",
   "execution_count": 85,
   "id": "cdc69f54-2ecc-46f2-9eb3-f64dca736c42",
   "metadata": {},
   "outputs": [
    {
     "name": "stderr",
     "output_type": "stream",
     "text": [
      "C:\\Users\\Admin\\AppData\\Local\\Temp\\ipykernel_13372\\3500379576.py:31: DataConversionWarning: A column-vector y was passed when a 1d array was expected. Please change the shape of y to (n_samples,), for example using ravel().\n",
      "  self.model.fit(x_train, y_train)\n"
     ]
    }
   ],
   "source": [
    "test_soft_sensor = RandomForest(x_train, y_train, n_estimators=100, max_depth=8, min_samples_split= 3)"
   ]
  },
  {
   "cell_type": "code",
   "execution_count": 86,
   "id": "6bb76d7e-c0fc-40eb-9f76-5098edc4676a",
   "metadata": {},
   "outputs": [],
   "source": [
    "metric = Essentials.R2Metric()"
   ]
  },
  {
   "cell_type": "code",
   "execution_count": 87,
   "id": "f7617ba2-e7e9-49ee-aeb8-ce23e302bf2b",
   "metadata": {},
   "outputs": [
    {
     "ename": "IndexError",
     "evalue": "list index out of range",
     "output_type": "error",
     "traceback": [
      "\u001b[1;31m---------------------------------------------------------------------------\u001b[0m",
      "\u001b[1;31mIndexError\u001b[0m                                Traceback (most recent call last)",
      "Cell \u001b[1;32mIn[87], line 1\u001b[0m\n\u001b[1;32m----> 1\u001b[0m test_soft_sensor\u001b[38;5;241m.\u001b[39mtree_viz(feature_names_2)\n",
      "Cell \u001b[1;32mIn[84], line 37\u001b[0m, in \u001b[0;36mRandomForest.tree_viz\u001b[1;34m(self, feature_names)\u001b[0m\n\u001b[0;32m     35\u001b[0m random_tree \u001b[38;5;241m=\u001b[39m \u001b[38;5;28mself\u001b[39m\u001b[38;5;241m.\u001b[39mmodel\u001b[38;5;241m.\u001b[39mestimators_[\u001b[38;5;241m0\u001b[39m]\n\u001b[0;32m     36\u001b[0m plt\u001b[38;5;241m.\u001b[39mfigure(figsize\u001b[38;5;241m=\u001b[39m(\u001b[38;5;241m10\u001b[39m, \u001b[38;5;241m8\u001b[39m))\n\u001b[1;32m---> 37\u001b[0m plot_tree(random_tree, feature_names\u001b[38;5;241m=\u001b[39mfeature_names, class_names\u001b[38;5;241m=\u001b[39m\u001b[38;5;28;01mNone\u001b[39;00m, filled\u001b[38;5;241m=\u001b[39m\u001b[38;5;28;01mTrue\u001b[39;00m)\n\u001b[0;32m     38\u001b[0m plt\u001b[38;5;241m.\u001b[39mshow()\n",
      "File \u001b[1;32mC:\\ProgramData\\anaconda3\\Lib\\site-packages\\sklearn\\tree\\_export.py:194\u001b[0m, in \u001b[0;36mplot_tree\u001b[1;34m(decision_tree, max_depth, feature_names, class_names, label, filled, impurity, node_ids, proportion, rounded, precision, ax, fontsize)\u001b[0m\n\u001b[0;32m    179\u001b[0m check_is_fitted(decision_tree)\n\u001b[0;32m    181\u001b[0m exporter \u001b[38;5;241m=\u001b[39m _MPLTreeExporter(\n\u001b[0;32m    182\u001b[0m     max_depth\u001b[38;5;241m=\u001b[39mmax_depth,\n\u001b[0;32m    183\u001b[0m     feature_names\u001b[38;5;241m=\u001b[39mfeature_names,\n\u001b[1;32m   (...)\u001b[0m\n\u001b[0;32m    192\u001b[0m     fontsize\u001b[38;5;241m=\u001b[39mfontsize,\n\u001b[0;32m    193\u001b[0m )\n\u001b[1;32m--> 194\u001b[0m \u001b[38;5;28;01mreturn\u001b[39;00m exporter\u001b[38;5;241m.\u001b[39mexport(decision_tree, ax\u001b[38;5;241m=\u001b[39max)\n",
      "File \u001b[1;32mC:\\ProgramData\\anaconda3\\Lib\\site-packages\\sklearn\\tree\\_export.py:655\u001b[0m, in \u001b[0;36m_MPLTreeExporter.export\u001b[1;34m(self, decision_tree, ax)\u001b[0m\n\u001b[0;32m    653\u001b[0m ax\u001b[38;5;241m.\u001b[39mclear()\n\u001b[0;32m    654\u001b[0m ax\u001b[38;5;241m.\u001b[39mset_axis_off()\n\u001b[1;32m--> 655\u001b[0m my_tree \u001b[38;5;241m=\u001b[39m \u001b[38;5;28mself\u001b[39m\u001b[38;5;241m.\u001b[39m_make_tree(\u001b[38;5;241m0\u001b[39m, decision_tree\u001b[38;5;241m.\u001b[39mtree_, decision_tree\u001b[38;5;241m.\u001b[39mcriterion)\n\u001b[0;32m    656\u001b[0m draw_tree \u001b[38;5;241m=\u001b[39m buchheim(my_tree)\n\u001b[0;32m    658\u001b[0m \u001b[38;5;66;03m# important to make sure we're still\u001b[39;00m\n\u001b[0;32m    659\u001b[0m \u001b[38;5;66;03m# inside the axis after drawing the box\u001b[39;00m\n\u001b[0;32m    660\u001b[0m \u001b[38;5;66;03m# this makes sense because the width of a box\u001b[39;00m\n\u001b[0;32m    661\u001b[0m \u001b[38;5;66;03m# is about the same as the distance between boxes\u001b[39;00m\n",
      "File \u001b[1;32mC:\\ProgramData\\anaconda3\\Lib\\site-packages\\sklearn\\tree\\_export.py:631\u001b[0m, in \u001b[0;36m_MPLTreeExporter._make_tree\u001b[1;34m(self, node_id, et, criterion, depth)\u001b[0m\n\u001b[0;32m    628\u001b[0m \u001b[38;5;28;01mdef\u001b[39;00m \u001b[38;5;21m_make_tree\u001b[39m(\u001b[38;5;28mself\u001b[39m, node_id, et, criterion, depth\u001b[38;5;241m=\u001b[39m\u001b[38;5;241m0\u001b[39m):\n\u001b[0;32m    629\u001b[0m     \u001b[38;5;66;03m# traverses _tree.Tree recursively, builds intermediate\u001b[39;00m\n\u001b[0;32m    630\u001b[0m     \u001b[38;5;66;03m# \"_reingold_tilford.Tree\" object\u001b[39;00m\n\u001b[1;32m--> 631\u001b[0m     name \u001b[38;5;241m=\u001b[39m \u001b[38;5;28mself\u001b[39m\u001b[38;5;241m.\u001b[39mnode_to_str(et, node_id, criterion\u001b[38;5;241m=\u001b[39mcriterion)\n\u001b[0;32m    632\u001b[0m     \u001b[38;5;28;01mif\u001b[39;00m et\u001b[38;5;241m.\u001b[39mchildren_left[node_id] \u001b[38;5;241m!=\u001b[39m _tree\u001b[38;5;241m.\u001b[39mTREE_LEAF \u001b[38;5;129;01mand\u001b[39;00m (\n\u001b[0;32m    633\u001b[0m         \u001b[38;5;28mself\u001b[39m\u001b[38;5;241m.\u001b[39mmax_depth \u001b[38;5;129;01mis\u001b[39;00m \u001b[38;5;28;01mNone\u001b[39;00m \u001b[38;5;129;01mor\u001b[39;00m depth \u001b[38;5;241m<\u001b[39m\u001b[38;5;241m=\u001b[39m \u001b[38;5;28mself\u001b[39m\u001b[38;5;241m.\u001b[39mmax_depth\n\u001b[0;32m    634\u001b[0m     ):\n\u001b[0;32m    635\u001b[0m         children \u001b[38;5;241m=\u001b[39m [\n\u001b[0;32m    636\u001b[0m             \u001b[38;5;28mself\u001b[39m\u001b[38;5;241m.\u001b[39m_make_tree(\n\u001b[0;32m    637\u001b[0m                 et\u001b[38;5;241m.\u001b[39mchildren_left[node_id], et, criterion, depth\u001b[38;5;241m=\u001b[39mdepth \u001b[38;5;241m+\u001b[39m \u001b[38;5;241m1\u001b[39m\n\u001b[1;32m   (...)\u001b[0m\n\u001b[0;32m    641\u001b[0m             ),\n\u001b[0;32m    642\u001b[0m         ]\n",
      "File \u001b[1;32mC:\\ProgramData\\anaconda3\\Lib\\site-packages\\sklearn\\tree\\_export.py:291\u001b[0m, in \u001b[0;36m_BaseTreeExporter.node_to_str\u001b[1;34m(self, tree, node_id, criterion)\u001b[0m\n\u001b[0;32m    288\u001b[0m \u001b[38;5;28;01mif\u001b[39;00m tree\u001b[38;5;241m.\u001b[39mchildren_left[node_id] \u001b[38;5;241m!=\u001b[39m _tree\u001b[38;5;241m.\u001b[39mTREE_LEAF:\n\u001b[0;32m    289\u001b[0m     \u001b[38;5;66;03m# Always write node decision criteria, except for leaves\u001b[39;00m\n\u001b[0;32m    290\u001b[0m     \u001b[38;5;28;01mif\u001b[39;00m \u001b[38;5;28mself\u001b[39m\u001b[38;5;241m.\u001b[39mfeature_names \u001b[38;5;129;01mis\u001b[39;00m \u001b[38;5;129;01mnot\u001b[39;00m \u001b[38;5;28;01mNone\u001b[39;00m:\n\u001b[1;32m--> 291\u001b[0m         feature \u001b[38;5;241m=\u001b[39m \u001b[38;5;28mself\u001b[39m\u001b[38;5;241m.\u001b[39mfeature_names[tree\u001b[38;5;241m.\u001b[39mfeature[node_id]]\n\u001b[0;32m    292\u001b[0m     \u001b[38;5;28;01melse\u001b[39;00m:\n\u001b[0;32m    293\u001b[0m         feature \u001b[38;5;241m=\u001b[39m \u001b[38;5;124m\"\u001b[39m\u001b[38;5;124mx\u001b[39m\u001b[38;5;132;01m%s\u001b[39;00m\u001b[38;5;132;01m%s\u001b[39;00m\u001b[38;5;132;01m%s\u001b[39;00m\u001b[38;5;124m\"\u001b[39m \u001b[38;5;241m%\u001b[39m (\n\u001b[0;32m    294\u001b[0m             characters[\u001b[38;5;241m1\u001b[39m],\n\u001b[0;32m    295\u001b[0m             tree\u001b[38;5;241m.\u001b[39mfeature[node_id],\n\u001b[0;32m    296\u001b[0m             characters[\u001b[38;5;241m2\u001b[39m],\n\u001b[0;32m    297\u001b[0m         )\n",
      "\u001b[1;31mIndexError\u001b[0m: list index out of range"
     ]
    },
    {
     "data": {
      "image/png": "[encoded data removed]",
      "text/plain": [
       "<Figure size 1000x800 with 1 Axes>"
      ]
     },
     "metadata": {},
     "output_type": "display_data"
    }
   ],
   "source": [
    "test_soft_sensor.tree_viz(feature_names_2)"
   ]
  },
  {
   "cell_type": "code",
   "execution_count": null,
   "id": "72eaa85f-5341-42bf-893c-0ec645edc39c",
   "metadata": {},
   "outputs": [],
   "source": [
    "test_soft_sensor.test(x_test, y_test, metric)"
   ]
  },
  {
   "cell_type": "code",
   "execution_count": null,
   "id": "769e8077-e1c1-49bc-baa3-1209cc962097",
   "metadata": {},
   "outputs": [],
   "source": [
    "test_visual = Essentials.Visualizer(x_test, y_test, timestamp_test, [metric], 'RandomForest SoftSensor R2 metric on Test')"
   ]
  },
  {
   "cell_type": "code",
   "execution_count": null,
   "id": "79ec2f1a-562f-496c-9147-1ee191e1e212",
   "metadata": {},
   "outputs": [],
   "source": [
    "test_visual.visualize([test_soft_sensor])"
   ]
  },
  {
   "cell_type": "code",
   "execution_count": null,
   "id": "a1c3106e-f1fe-48dc-b657-eb511e62fe3d",
   "metadata": {},
   "outputs": [],
   "source": [
    "PCA_LR_test_visual_train = Essentials.Visualizer(x_train, y_train, timestamp_train, [metric], 'RandomForest SoftSensor R2 metric on Train')"
   ]
  },
  {
   "cell_type": "code",
   "execution_count": null,
   "id": "d12fd598-7a95-4890-968e-f0720eeb2330",
   "metadata": {},
   "outputs": [],
   "source": [
    "PCA_LR_test_visual_train.visualize([test_soft_sensor])"
   ]
  },
  {
   "cell_type": "code",
   "execution_count": null,
   "id": "1a5aa0eb-5863-4447-8e66-1fb5e6f595de",
   "metadata": {},
   "outputs": [],
   "source": []
  }
 ],
 "metadata": {
  "kernelspec": {
   "display_name": "Python 3 (ipykernel)",
   "language": "python",
   "name": "python3"
  },
  "language_info": {
   "codemirror_mode": {
    "name": "ipython",
    "version": 3
   },
   "file_extension": ".py",
   "mimetype": "text/x-python",
   "name": "python",
   "nbconvert_exporter": "python",
   "pygments_lexer": "ipython3",
   "version": "3.11.7"
  }
 },
 "nbformat": 4,
 "nbformat_minor": 5
}
