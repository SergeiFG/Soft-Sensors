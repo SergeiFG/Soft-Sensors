{
 "cells": [
  {
   "cell_type": "markdown",
   "id": "4632b8f6-e202-4ba7-aefa-85b358176a1e",
   "metadata": {},
   "source": [
    "Подключение файла Essentials, содержащего все необходимые шаблоны"
   ]
  },
  {
   "cell_type": "code",
   "execution_count": 461,
   "id": "ef4eb98b-798a-4e71-b982-a86c4aa12ba5",
   "metadata": {
    "editable": true,
    "slideshow": {
     "slide_type": ""
    },
    "tags": []
   },
   "outputs": [],
   "source": [
    "import sys\n",
    "sys.path.append(\"..\")\n",
    "\n",
    "import Essentials\n",
    "from sklearn.cross_decomposition import PLSRegression\n",
    "from sklearn.preprocessing import StandardScaler\n",
    "import numpy as np\n",
    "from abc import ABC, abstractmethod\n",
    "from sklearn.model_selection import cross_val_score\n",
    "import numpy as np\n"
   ]
  },
  {
   "cell_type": "markdown",
   "id": "8fc37c84-88f1-4a31-9cc1-432027e69a2a",
   "metadata": {},
   "source": [
    "Подключение необходимых для алгоритма библиотек, numpy понадобится всем"
   ]
  },
  {
   "cell_type": "code",
   "execution_count": 462,
   "id": "ddfd73aa-5dd4-4f6d-9b27-79e640a9f3bc",
   "metadata": {},
   "outputs": [],
   "source": [
    "import numpy as np\n",
    "\n",
    "from sklearn.preprocessing import StandardScaler"
   ]
  },
  {
   "cell_type": "code",
   "execution_count": 463,
   "id": "abe1e9e4-447a-4089-954e-50325ebc8d6d",
   "metadata": {},
   "outputs": [],
   "source": [
    "a = np.load('C:\\\\Users\\\\misha\\\\PLSSVD\\\\Data_Average.npz', allow_pickle=True)"
   ]
  },
  {
   "cell_type": "code",
   "execution_count": 464,
   "id": "73e00243-614b-4301-9ee3-7a3ce639983f",
   "metadata": {
    "editable": true,
    "slideshow": {
     "slide_type": ""
    },
    "tags": []
   },
   "outputs": [],
   "source": [
    "x1 = a['X_test_1']\n",
    "x2 = a['X_train_1']\n",
    "\n",
    "y1 = a['Y_test_1']\n",
    "y2 = a['Y_train_1']"
   ]
  },
  {
   "cell_type": "code",
   "execution_count": 465,
   "id": "b3c4c301-3d6e-497f-b886-83cf254467a6",
   "metadata": {
    "editable": true,
    "slideshow": {
     "slide_type": ""
    },
    "tags": []
   },
   "outputs": [
    {
     "name": "stderr",
     "output_type": "stream",
     "text": [
      "C:\\Users\\misha\\AppData\\Local\\Temp\\ipykernel_7520\\3146428066.py:5: DeprecationWarning: Conversion of an array with ndim > 0 to a scalar is deprecated, and will error in future. Ensure you extract a single element from your array before performing this operation. (Deprecated NumPy 1.25.)\n",
      "  y1 = y1.astype(np.float64)\n",
      "C:\\Users\\misha\\AppData\\Local\\Temp\\ipykernel_7520\\3146428066.py:7: DeprecationWarning: Conversion of an array with ndim > 0 to a scalar is deprecated, and will error in future. Ensure you extract a single element from your array before performing this operation. (Deprecated NumPy 1.25.)\n",
      "  y2 = y2.astype(np.float64)\n"
     ]
    }
   ],
   "source": [
    "timestamp1 = y1[:, 1]\n",
    "timestamp2 = y2[:, 1]\n",
    "\n",
    "y1 = y1[:, 0].reshape(len(y1), 1)\n",
    "y1 = y1.astype(np.float64)\n",
    "y2 = y2[:, 0].reshape(len(y2), 1)\n",
    "y2 = y2.astype(np.float64)"
   ]
  },
  {
   "cell_type": "code",
   "execution_count": 466,
   "id": "70ad3f52-dff8-4acb-a3d7-625b3af4ad22",
   "metadata": {},
   "outputs": [
    {
     "data": {
      "text/plain": [
       "(74, 1)"
      ]
     },
     "execution_count": 466,
     "metadata": {},
     "output_type": "execute_result"
    }
   ],
   "source": [
    "y1.shape"
   ]
  },
  {
   "cell_type": "code",
   "execution_count": 467,
   "id": "8456adaa-e528-4701-b564-38fb45911064",
   "metadata": {},
   "outputs": [
    {
     "data": {
      "text/plain": [
       "(74, 96)"
      ]
     },
     "execution_count": 467,
     "metadata": {},
     "output_type": "execute_result"
    }
   ],
   "source": [
    "x1.shape"
   ]
  },
  {
   "cell_type": "code",
   "execution_count": 468,
   "id": "034794af-eb1d-4d01-ab60-488029685820",
   "metadata": {
    "editable": true,
    "slideshow": {
     "slide_type": ""
    },
    "tags": []
   },
   "outputs": [],
   "source": [
    "class PLSSVDSoftSensor(Essentials.SoftSensor):\n",
    "    def __init__(self, x_train, y_train, n_components=2):  # По умолчанию используем 2 компонента\n",
    "        super().__init__('PLSSVDSoftSensor')  # Имя сенсора задаем внутри конструктора\n",
    "        self.x_scaler = StandardScaler()\n",
    "        self.y_scaler = StandardScaler()\n",
    "        self.model = PLSRegression(n_components=n_components)\n",
    "        self.coefficients = None\n",
    "        self.test_score = None  # Для хранения R^2 на тестовых данных\n",
    "        self.train(x_train, y_train)\n",
    "\n",
    "    def preprocessing(self, x):\n",
    "        return self.x_scaler.transform(x)\n",
    "\n",
    "    def postprocessing(self, y):\n",
    "        return self.y_scaler.inverse_transform(y)\n",
    "\n",
    "    def evaluate_model(self, x):\n",
    "        x_scaled = self.preprocessing(x)\n",
    "        y_pred = self.model.predict(x_scaled)\n",
    "        return y_pred\n",
    "\n",
    "    def train(self, x_train, y_train, max_components=10):\n",
    "        x_train_scaled = self.x_scaler.fit_transform(x_train)\n",
    "        y_train_scaled = self.y_scaler.fit_transform(y_train)\n",
    "        \n",
    "        # Поиск оптимального количества компонентов с использованием кросс-валидации\n",
    "        best_score = -np.inf\n",
    "        best_n_components = 0\n",
    "        for n_components in range(1, max_components + 1):\n",
    "            model = PLSRegression(n_components=n_components)\n",
    "            scores = cross_val_score(model, x_train_scaled, y_train_scaled, cv=3, scoring='r2')\n",
    "            mean_score = np.mean(scores)\n",
    "            if mean_score > best_score:\n",
    "                best_score = mean_score\n",
    "                best_n_components = n_components\n",
    "        \n",
    "        # Обучение модели с оптимальным количеством компонентов\n",
    "        self.model = PLSRegression(n_components=best_n_components)\n",
    "        self.model.fit(x_train_scaled, y_train_scaled)\n",
    "        self.coefficients = self.model.coef_\n",
    "        self.n_components = best_n_components  # Сохраняем оптимальное количество компонентов\n",
    "        self.best_cv_score = best_score  # Сохраняем лучший средний R^2 кросс-валидации\n",
    "\n",
    "    def test(self, x_test, y_test):\n",
    "        x_test_scaled = self.x_scaler.transform(x_test)\n",
    "        y_test_scaled = self.y_scaler.transform(y_test)\n",
    "        self.test_score = self.model.score(x_test_scaled, y_test_scaled)  # Вычисляем R^2 на тестовых данных\n",
    "\n",
    "    def __str__(self):\n",
    "        coefs_str = \", \".join([f\"{coef:.3f}\" for coef in self.coefficients.ravel()])\n",
    "        return (f\"Модель PLSSVD с {self.model.n_components} компонентами (оптимальное количество компонентов: {self.n_components}).\\n\"\n",
    "                f\"Коэффициенты линейной регрессии: {coefs_str}\\n\"\n",
    "                f\"Средний коэффициент детерминации (R^2) на кросс-валидации: {self.best_cv_score:.3f}\\n\"\n",
    "                f\"Коэффициент детерминации (R^2) на тестовых данных: {self.test_score:.3f}\" if self.test_score is not None else \"Тестовые данные не были предоставлены.\")"
   ]
  },
  {
   "cell_type": "code",
   "execution_count": 469,
   "id": "6880aa9f-2389-4ddf-85f2-a8f62be47dc3",
   "metadata": {
    "editable": true,
    "slideshow": {
     "slide_type": ""
    },
    "tags": []
   },
   "outputs": [],
   "source": [
    "sensor = PLSSVDSoftSensor(x2, y2)"
   ]
  },
  {
   "cell_type": "code",
   "execution_count": 470,
   "id": "336b1a5a",
   "metadata": {},
   "outputs": [],
   "source": [
    "sensor.test(x1, y1)"
   ]
  },
  {
   "cell_type": "code",
   "execution_count": 471,
   "id": "84cc23df",
   "metadata": {},
   "outputs": [
    {
     "name": "stdout",
     "output_type": "stream",
     "text": [
      "Модель PLSSVD с 2 компонентами (оптимальное количество компонентов: 2).\n",
      "Коэффициенты линейной регрессии: 0.024, 0.011, -0.023, 0.013, 0.015, -0.008, 0.001, 0.013, -0.016, 0.006, 0.013, -0.022, 0.032, 0.007, 0.025, 0.009, 0.021, 0.018, -0.034, -0.014, -0.003, -0.039, 0.032, 0.033, 0.000, 0.033, -0.040, 0.020, -0.061, -0.028, -0.019, 0.003, 0.009, 0.024, -0.015, 0.034, -0.048, 0.033, 0.011, -0.027, -0.027, -0.012, 0.011, 0.023, 0.018, 0.007, 0.008, 0.023, 0.016, 0.015, 0.014, 0.016, 0.019, 0.016, 0.019, 0.017, 0.021, -0.021, 0.056, 0.009, 0.007, 0.013, -0.016, 0.003, -0.018, 0.040, -0.030, -0.008, -0.013, 0.017, 0.040, 0.005, -0.003, -0.032, -0.026, -0.004, -0.004, -0.010, 0.009, 0.003, 0.029, 0.043, 0.027, -0.034, 0.011, 0.022, 0.021, -0.002, 0.013, 0.024, -0.012, -0.011, 0.030, -0.011, 0.014, 0.020\n",
      "Средний коэффициент детерминации (R^2) на кросс-валидации: 0.474\n",
      "Коэффициент детерминации (R^2) на тестовых данных: -23.307\n"
     ]
    }
   ],
   "source": [
    "print(sensor)"
   ]
  },
  {
   "cell_type": "markdown",
   "id": "6062abfc-920d-42de-8f72-a2ab0e9a27e2",
   "metadata": {},
   "source": [
    "Создание экземпляра метрики, достаточно одного для тестирования"
   ]
  },
  {
   "cell_type": "code",
   "execution_count": 472,
   "id": "a7b09359-82c3-4e4e-be6f-7f8534041b69",
   "metadata": {},
   "outputs": [],
   "source": [
    "metric = Essentials.R2Metric()"
   ]
  },
  {
   "cell_type": "code",
   "execution_count": 473,
   "id": "1e1a93af-4683-4a4f-81d6-145da6f2a13a",
   "metadata": {
    "editable": true,
    "slideshow": {
     "slide_type": ""
    },
    "tags": []
   },
   "outputs": [],
   "source": [
    "test_visual = Essentials.Visualizer(x1, y1, timestamp1, [metric], 'Test SoftSensor R2 metric')"
   ]
  },
  {
   "cell_type": "code",
   "execution_count": 474,
   "id": "a26075ec",
   "metadata": {},
   "outputs": [
    {
     "ename": "TypeError",
     "evalue": "PLSSVDSoftSensor.test() takes 3 positional arguments but 4 were given",
     "output_type": "error",
     "traceback": [
      "\u001b[1;31m---------------------------------------------------------------------------\u001b[0m",
      "\u001b[1;31mTypeError\u001b[0m                                 Traceback (most recent call last)",
      "Cell \u001b[1;32mIn[474], line 1\u001b[0m\n\u001b[1;32m----> 1\u001b[0m \u001b[43msensor\u001b[49m\u001b[38;5;241;43m.\u001b[39;49m\u001b[43mtest\u001b[49m\u001b[43m(\u001b[49m\u001b[43mx1\u001b[49m\u001b[43m,\u001b[49m\u001b[43my1\u001b[49m\u001b[43m,\u001b[49m\u001b[43mmetric\u001b[49m\u001b[43m)\u001b[49m\n",
      "\u001b[1;31mTypeError\u001b[0m: PLSSVDSoftSensor.test() takes 3 positional arguments but 4 were given"
     ]
    }
   ],
   "source": [
    "sensor.test(x1,y1,metric)"
   ]
  },
  {
   "cell_type": "code",
   "execution_count": null,
   "id": "51589a95-805d-4a53-b1a1-476893091791",
   "metadata": {
    "editable": true,
    "scrolled": true,
    "slideshow": {
     "slide_type": ""
    },
    "tags": []
   },
   "outputs": [
    {
     "name": "stdout",
     "output_type": "stream",
     "text": [
      "                  Coefficient of determination\n",
      "PLSSVDSoftSensor                 -16537.584508\n"
     ]
    },
    {
     "data": {
      "image/png": "[encoded data removed]",
      "text/plain": [
       "<Figure size 640x480 with 1 Axes>"
      ]
     },
     "metadata": {},
     "output_type": "display_data"
    }
   ],
   "source": [
    "test_visual.visualize([Test_sensor_1])"
   ]
  },
  {
   "cell_type": "code",
   "execution_count": null,
   "id": "e2c0fbd1-de93-437f-a860-0008b5edf042",
   "metadata": {},
   "outputs": [],
   "source": []
  }
 ],
 "metadata": {
  "kernelspec": {
   "display_name": "Python 3 (ipykernel)",
   "language": "python",
   "name": "python3"
  },
  "language_info": {
   "codemirror_mode": {
    "name": "ipython",
    "version": 3
   },
   "file_extension": ".py",
   "mimetype": "text/x-python",
   "name": "python",
   "nbconvert_exporter": "python",
   "pygments_lexer": "ipython3",
   "version": "3.12.0"
  }
 },
 "nbformat": 4,
 "nbformat_minor": 5
}
