{
 "cells": [
  {
   "cell_type": "markdown",
   "id": "4632b8f6-e202-4ba7-aefa-85b358176a1e",
   "metadata": {},
   "source": [
    "Подключение файла Essentials, содержащего все необходимые шаблоны"
   ]
  },
  {
   "cell_type": "code",
   "execution_count": 1,
   "id": "ef4eb98b-798a-4e71-b982-a86c4aa12ba5",
   "metadata": {
    "editable": true,
    "slideshow": {
     "slide_type": ""
    },
    "tags": []
   },
   "outputs": [],
   "source": [
    "import sys\n",
    "sys.path.append(\"..\")\n",
    "\n",
    "import Essentials\n"
   ]
  },
  {
   "cell_type": "markdown",
   "id": "8fc37c84-88f1-4a31-9cc1-432027e69a2a",
   "metadata": {},
   "source": [
    "Подключение необходимых для алгоритма библиотек, numpy понадобится всем"
   ]
  },
  {
   "cell_type": "code",
   "execution_count": 2,
   "id": "ddfd73aa-5dd4-4f6d-9b27-79e640a9f3bc",
   "metadata": {},
   "outputs": [],
   "source": [
    "import numpy as np\n",
    "\n",
    "from sklearn.preprocessing import StandardScaler"
   ]
  },
  {
   "cell_type": "markdown",
   "id": "06aed4bf-511d-4163-8b40-d0a0a2a3d019",
   "metadata": {},
   "source": [
    "Загрузка данных. Есть несколько вариантов датасетов (.npz архивов), в каждом содержится несколько массивов с данными. Чтобы понять, что есть что, нужно смотреть файл Data_preparation.ipynb,\n",
    "там всё закомментированно и понятно описано."
   ]
  },
  {
   "cell_type": "code",
   "execution_count": 3,
   "id": "abe1e9e4-447a-4089-954e-50325ebc8d6d",
   "metadata": {},
   "outputs": [],
   "source": [
    "a = np.load('Data_Average.npz', allow_pickle=True)"
   ]
  },
  {
   "cell_type": "markdown",
   "id": "a28fe38c-7d18-49dc-912a-16fbdecc9c53",
   "metadata": {},
   "source": [
    "Загрузка и подготовка данных. Сейчас классы построены таким образом, чтобы работать с numpy массивами X типа {N, C} и numpy массивами Y типа {N, 1}. Необходимо привести данные к такому виду для единнобразия обработки\n",
    "\n",
    "N - количество точек, \n",
    "С - количестов каналов данных Х"
   ]
  },
  {
   "cell_type": "code",
   "execution_count": 4,
   "id": "73e00243-614b-4301-9ee3-7a3ce639983f",
   "metadata": {
    "editable": true,
    "slideshow": {
     "slide_type": ""
    },
    "tags": []
   },
   "outputs": [],
   "source": [
    "x1 = a['X_test_1']\n",
    "x2 = a['X_train_1']\n",
    "\n",
    "y1 = a['Y_test_1']\n",
    "y2 = a['Y_train_1']"
   ]
  },
  {
   "cell_type": "code",
   "execution_count": 5,
   "id": "b3c4c301-3d6e-497f-b886-83cf254467a6",
   "metadata": {
    "editable": true,
    "slideshow": {
     "slide_type": ""
    },
    "tags": []
   },
   "outputs": [],
   "source": [
    "timestamp1 = y1[:, 1]\n",
    "timestamp2 = y2[:, 1]\n",
    "\n",
    "y1 = y1[:, 0].reshape(len(y1), 1)\n",
    "y1 = y1.astype(np.float64)\n",
    "y2 = y2[:, 0].reshape(len(y2), 1)\n",
    "y2 = y2.astype(np.float64)"
   ]
  },
  {
   "cell_type": "markdown",
   "id": "fa32662c-26ff-4a8e-b365-6709df5f4571",
   "metadata": {},
   "source": [
    "Покажем, что данные действительно нужной размерности"
   ]
  },
  {
   "cell_type": "code",
   "execution_count": 6,
   "id": "70ad3f52-dff8-4acb-a3d7-625b3af4ad22",
   "metadata": {},
   "outputs": [
    {
     "data": {
      "text/plain": [
       "(74, 1)"
      ]
     },
     "execution_count": 6,
     "metadata": {},
     "output_type": "execute_result"
    }
   ],
   "source": [
    "y1.shape"
   ]
  },
  {
   "cell_type": "code",
   "execution_count": 7,
   "id": "8456adaa-e528-4701-b564-38fb45911064",
   "metadata": {},
   "outputs": [
    {
     "data": {
      "text/plain": [
       "(74, 98)"
      ]
     },
     "execution_count": 7,
     "metadata": {},
     "output_type": "execute_result"
    }
   ],
   "source": [
    "x1.shape"
   ]
  },
  {
   "cell_type": "markdown",
   "id": "d5744cf2-959d-46bd-b6a9-dd72dd73fb46",
   "metadata": {},
   "source": [
    "Далее необходимо создать собственный класс с Виртуальным анализатором на основе шаблона SoftSensor из файла Essentials.py.\n",
    "\n",
    "В данном случае создан тестовый вариант, модель которого заключается в вычислении тестового значения по обучающей выборке вне зависимости от вектора X тестовой выборки (по сути линейная регрессия с одним только постоянным членом в базисе).\n",
    "\n",
    "Для правильной работы необходимо везде соблюдать нужную размерность. Описание собственного класса заключается в наследовании шаблона и переопределении всех абстрактных методов. При необходимости можно добавлять собственные методы и атрибуты"
   ]
  },
  {
   "cell_type": "code",
   "execution_count": 8,
   "id": "034794af-eb1d-4d01-ab60-488029685820",
   "metadata": {
    "editable": true,
    "slideshow": {
     "slide_type": ""
    },
    "tags": []
   },
   "outputs": [],
   "source": [
    "class TestSoftSensor(Essentials.SoftSensor):\n",
    "    def __init__(self, x_train, y_train):\n",
    "        super().__init__('Test')\n",
    "        self.x_scaler = StandardScaler() \n",
    "        self.y_scaler = StandardScaler()\n",
    "        self.x_scaler.fit(x_train)\n",
    "        self.y_scaler.fit(y_train)\n",
    "        self.train(x_train, y_train)\n",
    "\n",
    "    def prepocessing(self, x):\n",
    "        try:\n",
    "            return self.x_scaler.transform(x)\n",
    "        except:\n",
    "            try:\n",
    "               return self.y_scaler.transform(x)\n",
    "            except BaseException as err:\n",
    "                print(\"Ошибка скейлера\")\n",
    "                raise err\n",
    "            \n",
    "\n",
    "    def postprocessing(self, x):\n",
    "        try:\n",
    "            return self.x_scaler.inverse_transform(x)\n",
    "        except:\n",
    "            try:\n",
    "               return self.y_scaler.inverse_transform(x)\n",
    "            except BaseException as err:\n",
    "                print(\"Ошибка скейлера\")\n",
    "                raise err\n",
    "\n",
    "    def evaluate_model(self, x):\n",
    "        preproc_x = self.prepocessing(x)\n",
    "        return np.zeros([len(x), 1]) + self.get_model()\n",
    "\n",
    "\n",
    "    def train(self, x_train, y_train):\n",
    "        preproc_y = self.prepocessing(y_train)\n",
    "        self.set_model(preproc_y.mean())\n",
    "\n",
    "\n",
    "    def __str__(self):\n",
    "        return f\"Тестовая модель, вычисляющее среднее. Для этого экземпляра model_avg = {self.get_model()}, после постобработки avg = {self.postprocessing(self.get_model().reshape(1,1))}\""
   ]
  },
  {
   "cell_type": "markdown",
   "id": "6bc735e5-4331-41a7-9cae-040bba9ef0f6",
   "metadata": {},
   "source": [
    "Создаём экземпляр класса с нашим алгоритмом. Имеет смысл создать по экземпляру на каждый из рассматриваемых наборов данных, данные необходимые для создания определяются в методе __init__(), там же определяется некоторые опреации, выполняемые автоматически при создании (в данном случае имя железно прописано, не делайте так, + сразу оюучаются функции для предобработки)"
   ]
  },
  {
   "cell_type": "code",
   "execution_count": 9,
   "id": "6880aa9f-2389-4ddf-85f2-a8f62be47dc3",
   "metadata": {
    "editable": true,
    "slideshow": {
     "slide_type": ""
    },
    "tags": []
   },
   "outputs": [],
   "source": [
    "Test_sensor_1 = TestSoftSensor(x2, y2)"
   ]
  },
  {
   "cell_type": "markdown",
   "id": "e08755fa-2920-45c7-8548-ba33a71d435a",
   "metadata": {},
   "source": [
    "Пример работы метода __str__. Функция print() выдаёт нужную строку, полезно для тестирования и наглядности"
   ]
  },
  {
   "cell_type": "code",
   "execution_count": 10,
   "id": "06d778a4-61a1-4b63-aece-f1fdc45c5383",
   "metadata": {
    "editable": true,
    "slideshow": {
     "slide_type": ""
    },
    "tags": []
   },
   "outputs": [
    {
     "name": "stdout",
     "output_type": "stream",
     "text": [
      "Тестовая модель, вычисляющее среднее. Для этого экземпляра model_avg = 8.258501095457305e-16, после постобработки avg = [[57.27368421]]\n"
     ]
    }
   ],
   "source": [
    "print(Test_sensor_1)"
   ]
  },
  {
   "cell_type": "markdown",
   "id": "6062abfc-920d-42de-8f72-a2ab0e9a27e2",
   "metadata": {},
   "source": [
    "Создание экземпляра метрики, достаточно одного для тестирования"
   ]
  },
  {
   "cell_type": "code",
   "execution_count": 11,
   "id": "a7b09359-82c3-4e4e-be6f-7f8534041b69",
   "metadata": {},
   "outputs": [],
   "source": [
    "metric = Essentials.R2Metric()"
   ]
  },
  {
   "cell_type": "markdown",
   "id": "86b53a9d-142d-47e4-b909-acbbe57e07b5",
   "metadata": {},
   "source": [
    "Визуализация работы алгоритма, для этого необходимо создать экземпляр класса Visualizer из Essentials.py. При создании такого экземпляра необходимо задать тестовые значения и метки X (их мы загрузили заранее), необходимо создать такой экземпляр для каждого из набора данных"
   ]
  },
  {
   "cell_type": "code",
   "execution_count": 12,
   "id": "1e1a93af-4683-4a4f-81d6-145da6f2a13a",
   "metadata": {
    "editable": true,
    "slideshow": {
     "slide_type": ""
    },
    "tags": []
   },
   "outputs": [],
   "source": [
    "test_visual = Essentials.Visualizer(x1, y1, timestamp1, [metric], 'Test SoftSensor R2 metric')"
   ]
  },
  {
   "cell_type": "code",
   "execution_count": 13,
   "id": "51589a95-805d-4a53-b1a1-476893091791",
   "metadata": {
    "editable": true,
    "scrolled": true,
    "slideshow": {
     "slide_type": ""
    },
    "tags": []
   },
   "outputs": [
    {
     "name": "stdout",
     "output_type": "stream",
     "text": [
      "      Coefficient of determination\n",
      "Test                     -0.004859\n"
     ]
    },
    {
     "data": {
      "image/png": "[encoded data removed]",
      "text/plain": [
       "<Figure size 640x480 with 1 Axes>"
      ]
     },
     "metadata": {},
     "output_type": "display_data"
    }
   ],
   "source": [
    "test_visual.visualize([Test_sensor_1])"
   ]
  },
  {
   "cell_type": "markdown",
   "id": "f49e89ef-91ca-4216-9f54-3a3e11020373",
   "metadata": {
    "editable": true,
    "slideshow": {
     "slide_type": ""
    },
    "tags": []
   },
   "source": [
    "На выходе получаем ожидаемую картинку. Тестовая модель выдаёт постоянные значения для любых Х. Значение метрики ожидаемо близко к 0 так как коэффициент детерминации сравнивает качество работы как раз со моделью среднего значения"
   ]
  },
  {
   "cell_type": "markdown",
   "id": "0a67c110-195e-492f-928e-12a2d4ee227f",
   "metadata": {},
   "source": [
    "На практике при работе в IDE рекомендуется сверху описать все необходимые классы, а тестирование производить нижу внутри конструкции \n",
    "\n",
    "if __name__ == '__main__':\n",
    "\n",
    "\n",
    "Это точка входа в программу, которая выполняется только если запускается именно ваш файл и игнорируется, если файл импортируется. Это поможет нам избежать конфликтов и ненужных операции при импортировании моделей. Если ваша модель долго обучается, то имеет смысл описать методы save() и load() для загрузки заранее обученной модели."
   ]
  },
  {
   "cell_type": "code",
   "execution_count": null,
   "id": "e2c0fbd1-de93-437f-a860-0008b5edf042",
   "metadata": {},
   "outputs": [],
   "source": []
  }
 ],
 "metadata": {
  "kernelspec": {
   "display_name": "Python 3 (ipykernel)",
   "language": "python",
   "name": "python3"
  },
  "language_info": {
   "codemirror_mode": {
    "name": "ipython",
    "version": 3
   },
   "file_extension": ".py",
   "mimetype": "text/x-python",
   "name": "python",
   "nbconvert_exporter": "python",
   "pygments_lexer": "ipython3",
   "version": "3.11.7"
  }
 },
 "nbformat": 4,
 "nbformat_minor": 5
}
