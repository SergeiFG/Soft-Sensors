{
 "cells": [
  {
   "cell_type": "code",
   "execution_count": 1,
   "id": "46860f3b-616a-4e90-a966-3e9ede9748d6",
   "metadata": {},
   "outputs": [],
   "source": [
    "import numpy as np\n",
    "import pandas as pd"
   ]
  },
  {
   "cell_type": "code",
   "execution_count": 4,
   "id": "0ad2493c-ae9d-43a0-a207-b3656a97d391",
   "metadata": {},
   "outputs": [],
   "source": [
    "data = np.load(\"C:/Users/PC/Downloads/Data_First.npz\")\n"
   ]
  },
  {
   "cell_type": "code",
   "execution_count": 7,
   "id": "00196184-03c3-40b6-8d64-8d8e234690f4",
   "metadata": {},
   "outputs": [],
   "source": [
    "data\n",
    "X_test_1 = data[\"X_test_1\",\"]"
   ]
  },
  {
   "cell_type": "code",
   "execution_count": 8,
   "id": "afb643f5-d4c2-43ed-a4b6-de369ad91bac",
   "metadata": {},
   "outputs": [
    {
     "name": "stdout",
     "output_type": "stream",
     "text": [
      "[[95.67 32.51  0.   ... 25.8  14.74 14.88]\n",
      " [97.63 32.31  0.   ... 27.49 14.74 14.88]\n",
      " [95.19 37.79  0.   ... 26.06 14.74 14.88]\n",
      " ...\n",
      " [96.16  0.   11.72 ... 26.39 14.76 14.89]\n",
      " [82.14  0.   10.53 ... 23.78 14.74 14.88]\n",
      " [99.06  0.    2.38 ... 29.62 14.75 14.88]]\n"
     ]
    }
   ],
   "source": [
    "print(X_test_1)"
   ]
  },
  {
   "cell_type": "code",
   "execution_count": null,
   "id": "0e30464a-7fdf-47e9-a76c-0314385e9687",
   "metadata": {},
   "outputs": [],
   "source": []
  }
 ],
 "metadata": {
  "kernelspec": {
   "display_name": "Python 3 (ipykernel)",
   "language": "python",
   "name": "python3"
  },
  "language_info": {
   "codemirror_mode": {
    "name": "ipython",
    "version": 3
   },
   "file_extension": ".py",
   "mimetype": "text/x-python",
   "name": "python",
   "nbconvert_exporter": "python",
   "pygments_lexer": "ipython3",
   "version": "3.11.7"
  }
 },
 "nbformat": 4,
 "nbformat_minor": 5
}
