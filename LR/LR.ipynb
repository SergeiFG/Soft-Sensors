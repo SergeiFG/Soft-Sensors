{
 "cells": [
  {
   "cell_type": "code",
   "execution_count": 146,
   "id": "fd089e5c-073c-4899-b1fc-e51d8550cc19",
   "metadata": {},
   "outputs": [],
   "source": [
    "import sys\n",
    "sys.path.append(\"..\")\n",
    "\n",
    "import Essentials"
   ]
  },
  {
   "cell_type": "code",
   "execution_count": 147,
   "id": "13d89c2c-e559-41ad-bff9-dbc07c7793bc",
   "metadata": {},
   "outputs": [],
   "source": [
    "import numpy as np\n",
    "from sklearn.linear_model import LinearRegression\n",
    "from sklearn.model_selection import train_test_split\n",
    "from sklearn.preprocessing import StandardScaler"
   ]
  },
  {
   "cell_type": "code",
   "execution_count": 148,
   "id": "dd53eeb4-e972-45e1-850d-de1c2920ca30",
   "metadata": {},
   "outputs": [],
   "source": [
    "data_archive = np.load('../Data_First.npz', allow_pickle=True)"
   ]
  },
  {
   "cell_type": "code",
   "execution_count": 149,
   "id": "85169fed-92f7-4245-8939-d998ab19f306",
   "metadata": {},
   "outputs": [],
   "source": [
    "def prepare_Y(y):\n",
    "    timestamp = y[:, 1]   \n",
    "    y = y[:, 0].reshape(len(y), 1)\n",
    "    y = y.astype(np.float64)\n",
    "\n",
    "    return y, timestamp"
   ]
  },
  {
   "cell_type": "code",
   "execution_count": 150,
   "id": "ea1726ec-2d6e-4e3f-85da-1ed6f0b48172",
   "metadata": {},
   "outputs": [],
   "source": [
    "all_X_1 = data_archive['all_X_1']\n",
    "all_Y_1 = data_archive['all_Y_1']\n",
    "\n",
    "all_X_2 = data_archive['all_X_2']\n",
    "all_Y_2 = data_archive['all_Y_2']\n",
    "\n",
    "all_X_3 = data_archive['all_X_3']\n",
    "all_Y_3 = data_archive['all_Y_3']\n",
    "\n",
    "x_summer_half_2 = data_archive['x_summer_half_2']\n",
    "y_summer_half_2 = data_archive['y_summer_half_2']\n",
    "x_winter_half_2 = data_archive['x_winter_half_2']\n",
    "y_winter_half_2 = data_archive['y_winter_half_2']\n",
    "\n",
    "x_summer_half_3 = data_archive['x_summer_half_3']\n",
    "y_summer_half_3 = data_archive['y_summer_half_3']\n",
    "x_winter_half_3 = data_archive['x_winter_half_3']\n",
    "y_winter_half_3 = data_archive['y_winter_half_3']"
   ]
  },
  {
   "cell_type": "code",
   "execution_count": 151,
   "id": "ac01c4a1-95d2-4f33-9664-afacc0265bec",
   "metadata": {},
   "outputs": [],
   "source": [
    "x_train, x_test, y_train, y_test = train_test_split(all_X_3, all_Y_3, test_size=0.3, random_state=42)"
   ]
  },
  {
   "cell_type": "code",
   "execution_count": 152,
   "id": "8293daa0-34e1-4521-aa0f-fb9847d0599b",
   "metadata": {},
   "outputs": [],
   "source": [
    "y_train, timestamp_train = prepare_Y(y_train)"
   ]
  },
  {
   "cell_type": "code",
   "execution_count": 153,
   "id": "3062d47e-1b33-44de-9afa-f163e8f60775",
   "metadata": {},
   "outputs": [],
   "source": [
    "y_test, timestamp_test = prepare_Y(y_test)"
   ]
  },
  {
   "cell_type": "code",
   "execution_count": 154,
   "id": "114b0910-2936-4510-98b7-96d60975c1a0",
   "metadata": {},
   "outputs": [],
   "source": [
    "x_train_summer, x_test_summer, y_train_summer, y_test_summer = train_test_split(x_summer_half_2, y_summer_half_2, test_size=0.2, random_state=42)"
   ]
  },
  {
   "cell_type": "code",
   "execution_count": 155,
   "id": "5beca199-593d-4619-91d4-340797c914d2",
   "metadata": {},
   "outputs": [],
   "source": [
    "x_train_winter, x_test_winter, y_train_winter, y_test_winter = train_test_split(x_winter_half_2, y_winter_half_2, test_size=0.2, random_state=42)"
   ]
  },
  {
   "cell_type": "code",
   "execution_count": 156,
   "id": "d9f09abe-d4e2-4bd7-a171-25d19dd4924e",
   "metadata": {},
   "outputs": [],
   "source": [
    "y_train_summer, timestamp_train_summer = prepare_Y(y_train_summer)"
   ]
  },
  {
   "cell_type": "code",
   "execution_count": 157,
   "id": "85403776-10c2-4e0b-90bc-c094db6f3154",
   "metadata": {},
   "outputs": [],
   "source": [
    "y_train_winter, timestamp_train_winter = prepare_Y(y_train_winter)"
   ]
  },
  {
   "cell_type": "code",
   "execution_count": 158,
   "id": "1760d538-421b-4ff3-976d-8b36fa69d729",
   "metadata": {},
   "outputs": [],
   "source": [
    "y_test_summer, timestamp_test_summer = prepare_Y(y_test_summer)"
   ]
  },
  {
   "cell_type": "code",
   "execution_count": 159,
   "id": "c68904c6-4186-43eb-a95c-1452f6e38212",
   "metadata": {},
   "outputs": [],
   "source": [
    "y_test_winter, timestamp_test_winter = prepare_Y(y_test_winter)"
   ]
  },
  {
   "cell_type": "code",
   "execution_count": 160,
   "id": "f1fd780d-427f-41d4-97d5-95118cd5fdcc",
   "metadata": {},
   "outputs": [
    {
     "data": {
      "text/plain": [
       "(158, 81)"
      ]
     },
     "execution_count": 160,
     "metadata": {},
     "output_type": "execute_result"
    }
   ],
   "source": [
    "x_train.shape"
   ]
  },
  {
   "cell_type": "code",
   "execution_count": 161,
   "id": "2a0f8950-7408-41c6-ae1b-7341fcf8059c",
   "metadata": {},
   "outputs": [],
   "source": [
    "class LR(Essentials.SoftSensor):\n",
    "    def __init__(self, name, x_train, y_train):\n",
    "        super().__init__(name)\n",
    "        self.model = LinearRegression()\n",
    "        self.train(x_train, y_train)\n",
    "        self.set_model(self.model)\n",
    "\n",
    "    def preprocessing(self, x):\n",
    "        return x\n",
    "    \n",
    "    def postprocessing(self, x):\n",
    "        return x\n",
    "\n",
    "    def evaluate_model(self, x):\n",
    "        predictions = self.get_model().predict(x)\n",
    "        return predictions\n",
    "\n",
    "    def train(self, x_train, y_train):\n",
    "        self.model.fit(x_train,y_train)\n",
    "\n",
    "    def __str__(self):\n",
    "        return  f\"Коэффициенты линейной регрссии = {self.get_model().coef_.reshape(-1,1)}, Свободный член = {self.get_model().intercept_.reshape(-1, 1)}\""
   ]
  },
  {
   "cell_type": "code",
   "execution_count": 162,
   "id": "02fc1be8-6972-4342-9162-22d026a3fc3f",
   "metadata": {},
   "outputs": [],
   "source": [
    "LR_test = LR(\"LR\", x_train, y_train)"
   ]
  },
  {
   "cell_type": "code",
   "execution_count": 163,
   "id": "8f472de4-3a08-449c-b2cf-c479921407e9",
   "metadata": {},
   "outputs": [],
   "source": [
    "metric = Essentials.R2Metric()"
   ]
  },
  {
   "cell_type": "code",
   "execution_count": 164,
   "id": "1b077180-df0b-4448-bf08-33fa7c9bc061",
   "metadata": {},
   "outputs": [
    {
     "name": "stdout",
     "output_type": "stream",
     "text": [
      "Коэффициенты линейной регрссии = [[ 1.17671833e-01]\n",
      " [ 7.76747549e-03]\n",
      " [ 5.50117916e-02]\n",
      " [-2.04269998e-01]\n",
      " [ 2.62372390e-01]\n",
      " [ 7.50256617e+00]\n",
      " [-3.49949952e-02]\n",
      " [ 6.13938030e-01]\n",
      " [-3.00193778e+01]\n",
      " [-2.34547486e-02]\n",
      " [ 5.93502203e+01]\n",
      " [-9.88778928e-01]\n",
      " [ 2.19618924e+00]\n",
      " [-3.98665737e+00]\n",
      " [ 4.43066830e+01]\n",
      " [-1.56534610e+01]\n",
      " [ 4.45905971e-01]\n",
      " [ 2.75943580e+01]\n",
      " [-1.93060818e+00]\n",
      " [ 5.89357545e+00]\n",
      " [-1.41891776e-01]\n",
      " [-1.60122535e-01]\n",
      " [ 3.95466491e-01]\n",
      " [ 6.59350689e-01]\n",
      " [-1.30711883e+00]\n",
      " [ 1.08711027e-01]\n",
      " [ 8.29397397e-01]\n",
      " [ 2.80079844e+00]\n",
      " [ 1.68330622e-01]\n",
      " [ 2.58268435e-01]\n",
      " [ 9.67860331e-02]\n",
      " [ 2.21544567e-03]\n",
      " [-1.48483406e-01]\n",
      " [-1.18753580e-01]\n",
      " [-4.82426873e-01]\n",
      " [ 3.16314115e+01]\n",
      " [-5.13259379e+01]\n",
      " [-5.44428566e+00]\n",
      " [ 2.19672600e+01]\n",
      " [ 1.77590944e+00]\n",
      " [-2.88284906e+01]\n",
      " [-2.25990017e+00]\n",
      " [ 2.56073372e+01]\n",
      " [ 9.51478283e-01]\n",
      " [-1.76748273e-01]\n",
      " [ 1.79160389e-01]\n",
      " [-1.02007608e+02]\n",
      " [ 5.35916136e+00]\n",
      " [-4.34020746e-04]\n",
      " [-7.01213938e-02]\n",
      " [-3.19004978e-02]\n",
      " [ 1.31575548e+02]\n",
      " [-8.36280422e-02]\n",
      " [-6.63603028e+00]\n",
      " [ 9.34080370e+01]\n",
      " [-2.65732172e-01]\n",
      " [ 1.02095345e-01]\n",
      " [ 1.45876967e-02]\n",
      " [ 2.05881125e+00]\n",
      " [-3.44475827e+01]\n",
      " [ 9.43571583e-02]\n",
      " [-1.84177300e+00]\n",
      " [ 3.36018056e-02]\n",
      " [ 1.89730610e-01]\n",
      " [-5.66923688e-01]\n",
      " [-5.07932379e-01]\n",
      " [ 4.28245170e-01]\n",
      " [-3.06308865e-02]\n",
      " [ 3.38172663e-01]\n",
      " [-4.40796827e+01]\n",
      " [-4.43361348e+00]\n",
      " [ 5.14111309e-01]\n",
      " [-1.73090335e+00]\n",
      " [-2.88057438e-01]\n",
      " [ 6.57148775e-01]\n",
      " [ 8.87093740e-01]\n",
      " [-2.83269665e-01]\n",
      " [-3.21074237e-01]\n",
      " [-8.36280423e-02]\n",
      " [-6.60264330e-01]\n",
      " [ 3.98086360e-01]], Свободный член = [[-2149.72730816]]\n"
     ]
    }
   ],
   "source": [
    "print(LR_test)"
   ]
  },
  {
   "cell_type": "code",
   "execution_count": 165,
   "id": "f0ab78b9-1742-4e81-8b94-622231eb5ae2",
   "metadata": {},
   "outputs": [
    {
     "data": {
      "text/plain": [
       "(array([[22.7767227 ],\n",
       "        [25.93900583],\n",
       "        [30.86019647],\n",
       "        [21.34564547],\n",
       "        [23.90838428],\n",
       "        [24.96801863],\n",
       "        [25.1308703 ],\n",
       "        [28.00715237],\n",
       "        [28.06606542],\n",
       "        [29.17662881],\n",
       "        [34.41036816],\n",
       "        [25.40976863],\n",
       "        [27.80098403],\n",
       "        [44.07589101],\n",
       "        [28.50796361],\n",
       "        [28.54000869],\n",
       "        [31.0433602 ],\n",
       "        [29.09488744],\n",
       "        [25.67507773],\n",
       "        [27.47872943],\n",
       "        [30.69993125],\n",
       "        [25.34028814],\n",
       "        [27.02755034],\n",
       "        [26.09285292],\n",
       "        [28.75841432],\n",
       "        [30.26262982],\n",
       "        [26.52867074],\n",
       "        [24.33197092],\n",
       "        [26.03386069],\n",
       "        [28.74146341],\n",
       "        [28.82294166],\n",
       "        [31.4013066 ],\n",
       "        [27.02229176],\n",
       "        [23.7814487 ],\n",
       "        [28.44379813],\n",
       "        [28.86949484],\n",
       "        [26.14340146],\n",
       "        [30.77362352],\n",
       "        [28.07432608],\n",
       "        [29.75388659],\n",
       "        [26.23867546],\n",
       "        [25.58961116],\n",
       "        [26.31074756],\n",
       "        [25.44978131],\n",
       "        [25.50581153],\n",
       "        [31.36237159],\n",
       "        [33.39186596],\n",
       "        [33.73414743],\n",
       "        [32.09221031],\n",
       "        [30.92375075],\n",
       "        [25.51962887],\n",
       "        [38.37191969],\n",
       "        [27.87260848],\n",
       "        [30.90702493],\n",
       "        [26.93956441],\n",
       "        [27.58740991],\n",
       "        [32.02571295],\n",
       "        [30.10216939],\n",
       "        [26.76948242],\n",
       "        [27.62698834],\n",
       "        [27.56606069],\n",
       "        [33.04006002],\n",
       "        [28.78119443],\n",
       "        [26.72043413],\n",
       "        [27.86980148],\n",
       "        [31.23818784],\n",
       "        [34.48498761],\n",
       "        [20.52081913]]),\n",
       " -0.74100462717072)"
      ]
     },
     "execution_count": 165,
     "metadata": {},
     "output_type": "execute_result"
    }
   ],
   "source": [
    "LR_test.test(x_test, y_test, metric)"
   ]
  },
  {
   "cell_type": "code",
   "execution_count": 166,
   "id": "5ef12783-2460-4be1-aa82-76b9a391a60b",
   "metadata": {},
   "outputs": [],
   "source": [
    "LR_test_visual_train = Essentials.Visualizer(x_train, y_train, timestamp_train, [metric], 'LR SoftSensor R2 metric on Train')"
   ]
  },
  {
   "cell_type": "code",
   "execution_count": 167,
   "id": "7f8a24a2-aa98-4d9a-9e32-fc92ef684cd2",
   "metadata": {},
   "outputs": [
    {
     "name": "stdout",
     "output_type": "stream",
     "text": [
      "    Coefficient of determination\n",
      "LR                       0.87256\n"
     ]
    },
    {
     "data": {
      "image/png": "[encoded data removed]",
      "text/plain": [
       "<Figure size 640x480 with 1 Axes>"
      ]
     },
     "metadata": {},
     "output_type": "display_data"
    }
   ],
   "source": [
    "LR_test_visual_train.visualize([LR_test])"
   ]
  },
  {
   "cell_type": "code",
   "execution_count": 168,
   "id": "f6ca9f82-da7b-40b5-9e65-9397973dce78",
   "metadata": {},
   "outputs": [],
   "source": [
    "LR_test_visual_test = Essentials.Visualizer(x_test, y_test, timestamp_test, [metric], 'LR SoftSensor R2 metric on Test')"
   ]
  },
  {
   "cell_type": "code",
   "execution_count": 169,
   "id": "9efeaae2-96fa-4df5-93f6-7e95e34e7305",
   "metadata": {},
   "outputs": [
    {
     "name": "stdout",
     "output_type": "stream",
     "text": [
      "    Coefficient of determination\n",
      "LR                     -0.741005\n"
     ]
    },
    {
     "data": {
      "image/png": "[encoded data removed]",
      "text/plain": [
       "<Figure size 640x480 with 1 Axes>"
      ]
     },
     "metadata": {},
     "output_type": "display_data"
    }
   ],
   "source": [
    "LR_test_visual_test.visualize([LR_test])"
   ]
  }
 ],
 "metadata": {
  "kernelspec": {
   "display_name": "Python 3 (ipykernel)",
   "language": "python",
   "name": "python3"
  },
  "language_info": {
   "codemirror_mode": {
    "name": "ipython",
    "version": 3
   },
   "file_extension": ".py",
   "mimetype": "text/x-python",
   "name": "python",
   "nbconvert_exporter": "python",
   "pygments_lexer": "ipython3",
   "version": "3.11.7"
  }
 },
 "nbformat": 4,
 "nbformat_minor": 5
}
