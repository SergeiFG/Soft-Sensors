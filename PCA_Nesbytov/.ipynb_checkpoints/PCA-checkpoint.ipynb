{
 "cells": [
  {
   "cell_type": "code",
   "execution_count": 57,
   "id": "fd089e5c-073c-4899-b1fc-e51d8550cc19",
   "metadata": {},
   "outputs": [],
   "source": [
    "import sys\n",
    "sys.path.append(\"..\")\n",
    "\n",
    "import Essentials"
   ]
  },
  {
   "cell_type": "code",
   "execution_count": 58,
   "id": "13d89c2c-e559-41ad-bff9-dbc07c7793bc",
   "metadata": {},
   "outputs": [],
   "source": [
    "import numpy as np\n",
    "from sklearn.linear_model import LinearRegression\n",
    "from sklearn.decomposition import PCA\n",
    "from sklearn.preprocessing import StandardScaler"
   ]
  },
  {
   "cell_type": "code",
   "execution_count": 59,
   "id": "dd53eeb4-e972-45e1-850d-de1c2920ca30",
   "metadata": {},
   "outputs": [],
   "source": [
    "a = np.load('..\\Data_First.npz', allow_pickle=True)"
   ]
  },
  {
   "cell_type": "code",
   "execution_count": 60,
   "id": "ea1726ec-2d6e-4e3f-85da-1ed6f0b48172",
   "metadata": {},
   "outputs": [],
   "source": [
    "x1 = a['X_test_2']\n",
    "x2 = a['X_train_2']\n",
    "\n",
    "y1 = a['Y_test_2']\n",
    "y2 = a['Y_train_2']"
   ]
  },
  {
   "cell_type": "code",
   "execution_count": 61,
   "id": "0c876d2c-d134-497d-ae6b-5d0227621837",
   "metadata": {},
   "outputs": [
    {
     "name": "stderr",
     "output_type": "stream",
     "text": [
      "C:\\Users\\PC\\AppData\\Local\\Temp\\ipykernel_20016\\3146428066.py:5: DeprecationWarning: Conversion of an array with ndim > 0 to a scalar is deprecated, and will error in future. Ensure you extract a single element from your array before performing this operation. (Deprecated NumPy 1.25.)\n",
      "  y1 = y1.astype(np.float64)\n",
      "C:\\Users\\PC\\AppData\\Local\\Temp\\ipykernel_20016\\3146428066.py:7: DeprecationWarning: Conversion of an array with ndim > 0 to a scalar is deprecated, and will error in future. Ensure you extract a single element from your array before performing this operation. (Deprecated NumPy 1.25.)\n",
      "  y2 = y2.astype(np.float64)\n"
     ]
    }
   ],
   "source": [
    "timestamp1 = y1[:, 1]\n",
    "timestamp2 = y2[:, 1]\n",
    "\n",
    "y1 = y1[:, 0].reshape(len(y1), 1)\n",
    "y1 = y1.astype(np.float64)\n",
    "y2 = y2[:, 0].reshape(len(y2), 1)\n",
    "y2 = y2.astype(np.float64)"
   ]
  },
  {
   "cell_type": "code",
   "execution_count": 62,
   "id": "8782437b-d22a-436b-9bf0-f7622e3b228e",
   "metadata": {},
   "outputs": [
    {
     "data": {
      "text/plain": [
       "(35, 1)"
      ]
     },
     "execution_count": 62,
     "metadata": {},
     "output_type": "execute_result"
    }
   ],
   "source": [
    "y1.shape"
   ]
  },
  {
   "cell_type": "code",
   "execution_count": 63,
   "id": "d96fe21e-f06e-4813-85c5-57e15d3b103a",
   "metadata": {},
   "outputs": [
    {
     "data": {
      "text/plain": [
       "(75, 47)"
      ]
     },
     "execution_count": 63,
     "metadata": {},
     "output_type": "execute_result"
    }
   ],
   "source": [
    "x2.shape"
   ]
  },
  {
   "cell_type": "code",
   "execution_count": 64,
   "id": "475bc70c-ba64-42df-b46f-483b5b632d55",
   "metadata": {},
   "outputs": [
    {
     "data": {
      "text/plain": [
       "(75, 1)"
      ]
     },
     "execution_count": 64,
     "metadata": {},
     "output_type": "execute_result"
    }
   ],
   "source": [
    "y2.shape"
   ]
  },
  {
   "cell_type": "code",
   "execution_count": 65,
   "id": "b449c11b-3492-491d-be77-5973b9bd8d0d",
   "metadata": {},
   "outputs": [
    {
     "data": {
      "text/plain": [
       "(35, 47)"
      ]
     },
     "execution_count": 65,
     "metadata": {},
     "output_type": "execute_result"
    }
   ],
   "source": [
    "x1.shape"
   ]
  },
  {
   "cell_type": "code",
   "execution_count": 66,
   "id": "2a0f8950-7408-41c6-ae1b-7341fcf8059c",
   "metadata": {},
   "outputs": [],
   "source": [
    "class PCALR(Essentials.SoftSensor):\n",
    "    def __init__(self, x_train, y_train):\n",
    "        super().__init__('Test')\n",
    "        self.x_pca = PCA(n_components=20)\n",
    "        self.x_pca.fit(x_train)     \n",
    "        self.x_scaler = StandardScaler() \n",
    "        self.y_scaler = StandardScaler()\n",
    "        self.x_scaler.fit(x_train)\n",
    "        self.y_scaler.fit(y_train)\n",
    "        self.train(x_train, y_train)\n",
    "\n",
    "    def prepocessing(self, x):\n",
    "        return x\n",
    "            \n",
    "\n",
    "    def postprocessing(self, x):\n",
    "        return x\n",
    "\n",
    "    def evaluate_model(self, x):\n",
    "        x = self.x_scaler.transform(x)\n",
    "        x = self.x_pca.transform(x)\n",
    "        predictions = self.get_model().predict(x)\n",
    "        return self.y_scaler.inverse_transform(predictions)\n",
    "\n",
    "    def train(self, x_train, y_train):\n",
    "        model = LinearRegression()\n",
    "        x_train = self.x_scaler.transform(x_train)\n",
    "        y_train = self.y_scaler.transform(y_train)\n",
    "        x_train = self.x_pca.transform(x_train)\n",
    "        model.fit(x_train,y_train)\n",
    "        self.set_model(model)\n",
    "\n",
    "    def __str__(self):\n",
    "        return (f\"Линейная регрессия, коэффициенты: {coefficients}, \"\n",
    "                f\"Интерсепт: {self.postprocessing(intercept.reshape(-1, 1))[0, 0]}\")"
   ]
  },
  {
   "cell_type": "code",
   "execution_count": 67,
   "id": "02fc1be8-6972-4342-9162-22d026a3fc3f",
   "metadata": {},
   "outputs": [],
   "source": [
    "PCA_1 = PCALR(x2, y2)"
   ]
  },
  {
   "cell_type": "code",
   "execution_count": 68,
   "id": "8f472de4-3a08-449c-b2cf-c479921407e9",
   "metadata": {},
   "outputs": [],
   "source": [
    "metric = Essentials.R2Metric()"
   ]
  },
  {
   "cell_type": "code",
   "execution_count": 69,
   "id": "80f6928b-a51a-429c-95f5-cb3bd34150c9",
   "metadata": {},
   "outputs": [],
   "source": [
    "test_visual = Essentials.Visualizer(x1, y1, timestamp1, [metric], 'Test SoftSensor R2 metric')"
   ]
  },
  {
   "cell_type": "code",
   "execution_count": 70,
   "id": "f0ab78b9-1742-4e81-8b94-622231eb5ae2",
   "metadata": {},
   "outputs": [
    {
     "data": {
      "text/plain": [
       "(array([[ 77.81859748],\n",
       "        [ 93.04457352],\n",
       "        [ 88.48066292],\n",
       "        [ 66.27476195],\n",
       "        [ 76.93608913],\n",
       "        [ 81.4233471 ],\n",
       "        [ 87.27839737],\n",
       "        [ 81.53362548],\n",
       "        [ 86.44192052],\n",
       "        [ 82.406003  ],\n",
       "        [ 85.53086561],\n",
       "        [ 73.61308168],\n",
       "        [ 77.60349401],\n",
       "        [ 94.127808  ],\n",
       "        [ 98.10503946],\n",
       "        [ 81.84038522],\n",
       "        [ 92.05787161],\n",
       "        [ 84.97849184],\n",
       "        [ 88.82456169],\n",
       "        [ 91.57832875],\n",
       "        [ 82.8637184 ],\n",
       "        [ 89.14813275],\n",
       "        [ 83.64117242],\n",
       "        [ 88.44467082],\n",
       "        [ 93.03892681],\n",
       "        [ 77.88766174],\n",
       "        [ 85.65636813],\n",
       "        [ 94.58026302],\n",
       "        [ 88.81391325],\n",
       "        [ 89.54379291],\n",
       "        [ 89.25930411],\n",
       "        [ 90.30571954],\n",
       "        [ 87.95370631],\n",
       "        [109.30026432],\n",
       "        [ 86.64284961]]),\n",
       " 0.34516923824290335)"
      ]
     },
     "execution_count": 70,
     "metadata": {},
     "output_type": "execute_result"
    }
   ],
   "source": [
    "PCA_1.test(x1, y1, metric)"
   ]
  },
  {
   "cell_type": "code",
   "execution_count": 71,
   "id": "9c3d3278-ae8c-457d-a886-6c687557357d",
   "metadata": {},
   "outputs": [
    {
     "name": "stdout",
     "output_type": "stream",
     "text": [
      "      Coefficient of determination\n",
      "Test                      0.345169\n"
     ]
    },
    {
     "data": {
      "image/png": "[encoded data removed]",
      "text/plain": [
       "<Figure size 640x480 with 1 Axes>"
      ]
     },
     "metadata": {},
     "output_type": "display_data"
    }
   ],
   "source": [
    "test_visual.visualize([PCA_1])"
   ]
  },
  {
   "cell_type": "code",
   "execution_count": null,
   "id": "5ef12783-2460-4be1-aa82-76b9a391a60b",
   "metadata": {},
   "outputs": [],
   "source": []
  }
 ],
 "metadata": {
  "kernelspec": {
   "display_name": "Python 3 (ipykernel)",
   "language": "python",
   "name": "python3"
  },
  "language_info": {
   "codemirror_mode": {
    "name": "ipython",
    "version": 3
   },
   "file_extension": ".py",
   "mimetype": "text/x-python",
   "name": "python",
   "nbconvert_exporter": "python",
   "pygments_lexer": "ipython3",
   "version": "3.11.7"
  }
 },
 "nbformat": 4,
 "nbformat_minor": 5
}
