{
 "cells": [
  {
   "cell_type": "code",
   "execution_count": 161,
   "id": "62bd845f-6ef1-4c7e-9ddc-c4de5889e03a",
   "metadata": {},
   "outputs": [],
   "source": [
    "import sys\n",
    "\n",
    "sys.path.append(\"...\")\n",
    "\n",
    "import Essentials"
   ]
  },
  {
   "cell_type": "code",
   "execution_count": 162,
   "id": "44a2d95f-97a1-4532-84f7-0717324dd7fe",
   "metadata": {},
   "outputs": [],
   "source": [
    "import numpy as np\n",
    "from sklearn.tree import DecisionTreeRegressor\n",
    "from sklearn.preprocessing import StandardScaler\n",
    "from sklearn.linear_model import LinearRegression\n",
    "import matplotlib.pyplot as plt\n",
    "from sklearn.ensemble import RandomForestRegressor\n",
    "from sklearn.model_selection import train_test_split\n",
    "from sklearn.neighbors import KNeighborsRegressor"
   ]
  },
  {
   "cell_type": "code",
   "execution_count": 163,
   "id": "b3e09b49-43a5-431b-9099-27dcaa1f47a6",
   "metadata": {},
   "outputs": [],
   "source": [
    "data_archive = np.load('Data_First_newest.npz', allow_pickle=True)"
   ]
  },
  {
   "cell_type": "code",
   "execution_count": 164,
   "id": "0cde3559-3dd3-4028-a5cd-73c81c5a366c",
   "metadata": {},
   "outputs": [],
   "source": [
    "def prepare_Y(y):\n",
    "    timestamp = y[:, 1]   \n",
    "    y = y[:, 0].reshape(len(y), 1)\n",
    "    y = y.astype(np.float64)\n",
    "\n",
    "    return y, timestamp"
   ]
  },
  {
   "cell_type": "code",
   "execution_count": 165,
   "id": "fd9a36c3-a53e-4397-93d9-4b51c8e8f636",
   "metadata": {},
   "outputs": [],
   "source": [
    "all_X_1 = data_archive['all_X_1']\n",
    "all_Y_1 = data_archive['all_Y_1']\n",
    "\n",
    "all_X_2 = data_archive['all_X_2']\n",
    "all_Y_2 = data_archive['all_Y_2']\n",
    "\n",
    "all_X_3 = data_archive['all_X_3']\n",
    "all_Y_3 = data_archive['all_Y_3']"
   ]
  },
  {
   "cell_type": "code",
   "execution_count": 166,
   "id": "6a163d30-26b2-4035-88a7-a163c4e67a46",
   "metadata": {},
   "outputs": [],
   "source": [
    "x_train, x_test, y_train, y_test = train_test_split(all_X_1, all_Y_1, test_size=0.25, random_state=42)"
   ]
  },
  {
   "cell_type": "code",
   "execution_count": 167,
   "id": "f1afaaa8-2729-4a8a-a387-7be6665dabe0",
   "metadata": {},
   "outputs": [],
   "source": [
    "y_train, timestamp_train = prepare_Y(y_train)"
   ]
  },
  {
   "cell_type": "code",
   "execution_count": 168,
   "id": "6b5cf6cb-76f6-40be-b494-ddfb8c3a5ed9",
   "metadata": {},
   "outputs": [],
   "source": [
    "y_test, timestamp_test = prepare_Y(y_test)"
   ]
  },
  {
   "cell_type": "code",
   "execution_count": 169,
   "id": "ba6ddc5f-41e8-42bf-8efc-d0d2e2063fac",
   "metadata": {},
   "outputs": [
    {
     "data": {
      "text/plain": [
       "(33, 1)"
      ]
     },
     "execution_count": 169,
     "metadata": {},
     "output_type": "execute_result"
    }
   ],
   "source": [
    "all_X_1.shape\n",
    "all_Y_1.shape\n",
    "x_train.shape\n",
    "y_test.shape"
   ]
  },
  {
   "cell_type": "code",
   "execution_count": null,
   "id": "4f83a067-67af-450f-b992-bf9f48395a66",
   "metadata": {},
   "outputs": [],
   "source": []
  },
  {
   "cell_type": "code",
   "execution_count": null,
   "id": "8d123a3a-c26f-4b37-8113-4131ebaf9c4c",
   "metadata": {},
   "outputs": [],
   "source": []
  },
  {
   "cell_type": "code",
   "execution_count": null,
   "id": "ee2c4ab1-b02b-4c44-a172-c1581a80f183",
   "metadata": {},
   "outputs": [],
   "source": []
  },
  {
   "cell_type": "code",
   "execution_count": 170,
   "id": "b3b883ff-d58e-47dc-ae3a-0e1f79d6d4a3",
   "metadata": {},
   "outputs": [],
   "source": [
    "class kNN(Essentials.SoftSensor):\n",
    "    def __init__(self, x_train, y_train, **kwargs):\n",
    "        super().__init__('Test')\n",
    "        self.parameters = kwargs\n",
    "        self.model = KNeighborsRegressor(**self.parameters)\n",
    "        self.x_scaler = StandardScaler() \n",
    "        self.y_scaler = StandardScaler()\n",
    "        self.x_scaler.fit(x_train)\n",
    "        self.y_scaler.fit(y_train)\n",
    "        self.train(x_train, y_train)\n",
    "\n",
    "    def preprocessing(self, x):\n",
    "        try:\n",
    "            return self.x_scaler.transform(x)\n",
    "        except:\n",
    "            try:\n",
    "               return self.y_scaler.transform(x)\n",
    "            except BaseException as err:\n",
    "                print(\"Ошибка скейлера\")\n",
    "                raise err\n",
    "    def postprocessing(self, x):\n",
    "        return x\n",
    "                \n",
    "    def evaluate_model(self, x):\n",
    "        predictions = self.get_model().predict(x)\n",
    "        return predictions.reshape(-1, 1)\n",
    "\n",
    "    def train(self, x_train, y_train):\n",
    "        x_train = self.preprocessing(x_train)\n",
    "        self.model.fit(x_train, y_train)\n",
    "        self.set_model(self.model)\n",
    "        \n",
    "    def __str__(self):\n",
    "        pass\n",
    "    def predict(self, x):\n",
    "        return self.evaluate_model(self.preprocessing(x))"
   ]
  },
  {
   "cell_type": "code",
   "execution_count": 171,
   "id": "1ef9592f-622c-4e32-8567-d242c579b6fe",
   "metadata": {},
   "outputs": [],
   "source": [
    "test_soft_sensor = kNN(x_train, y_train, n_neighbors=3, weights='distance', algorithm = 'ball_tree', metric = 'minkowski', p = 2)"
   ]
  },
  {
   "cell_type": "code",
   "execution_count": 172,
   "id": "d927fcfc-e1d8-448a-8826-013866b7b89d",
   "metadata": {},
   "outputs": [],
   "source": [
    "metric = Essentials.R2Metric()"
   ]
  },
  {
   "cell_type": "code",
   "execution_count": 173,
   "id": "e705ec04-eda4-4cf4-8d8b-c3a1cc441645",
   "metadata": {},
   "outputs": [
    {
     "data": {
      "text/plain": [
       "(array([[55.54813144],\n",
       "        [57.47061634],\n",
       "        [57.07021083],\n",
       "        [57.71008812],\n",
       "        [61.45590299],\n",
       "        [55.10672347],\n",
       "        [59.49225738],\n",
       "        [51.1094398 ],\n",
       "        [61.56985739],\n",
       "        [58.28248876],\n",
       "        [54.42634524],\n",
       "        [58.66393238],\n",
       "        [58.7319043 ],\n",
       "        [51.90861883],\n",
       "        [52.95407704],\n",
       "        [51.90753568],\n",
       "        [58.66117947],\n",
       "        [61.88352875],\n",
       "        [56.64902992],\n",
       "        [58.86238959],\n",
       "        [58.01041693],\n",
       "        [55.44520412],\n",
       "        [60.12136389],\n",
       "        [58.07175115],\n",
       "        [58.38943132],\n",
       "        [61.24369728],\n",
       "        [59.62591579],\n",
       "        [56.4650898 ],\n",
       "        [60.79522235],\n",
       "        [52.7443179 ],\n",
       "        [57.22566768],\n",
       "        [59.1904078 ],\n",
       "        [55.25169752]]),\n",
       " 0.7113858966979765)"
      ]
     },
     "execution_count": 173,
     "metadata": {},
     "output_type": "execute_result"
    }
   ],
   "source": [
    "test_soft_sensor.test(x_test, y_test, metric)"
   ]
  },
  {
   "cell_type": "code",
   "execution_count": 174,
   "id": "15bab9c4-3636-4cac-b475-91aa88c6684c",
   "metadata": {},
   "outputs": [],
   "source": [
    "test_visual = Essentials.Visualizer(x_test, y_test, timestamp_test, [metric], 'kNN SoftSensor R2 metric on Test')"
   ]
  },
  {
   "cell_type": "code",
   "execution_count": 175,
   "id": "e372799c-841d-467a-9b7a-b04b5b4a1a06",
   "metadata": {},
   "outputs": [
    {
     "name": "stdout",
     "output_type": "stream",
     "text": [
      "      Coefficient of determination\n",
      "Test                      0.711386\n"
     ]
    },
    {
     "data": {
      "image/png": "[encoded data removed]",
      "text/plain": [
       "<Figure size 640x480 with 1 Axes>"
      ]
     },
     "metadata": {},
     "output_type": "display_data"
    }
   ],
   "source": [
    "test_visual.visualize([test_soft_sensor])"
   ]
  }
 ],
 "metadata": {
  "kernelspec": {
   "display_name": "Python 3 (ipykernel)",
   "language": "python",
   "name": "python3"
  },
  "language_info": {
   "codemirror_mode": {
    "name": "ipython",
    "version": 3
   },
   "file_extension": ".py",
   "mimetype": "text/x-python",
   "name": "python",
   "nbconvert_exporter": "python",
   "pygments_lexer": "ipython3",
   "version": "3.11.7"
  }
 },
 "nbformat": 4,
 "nbformat_minor": 5
}
