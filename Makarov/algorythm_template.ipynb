{
 "cells": [
  {
   "cell_type": "code",
   "execution_count": 64,
   "id": "ef4eb98b-798a-4e71-b982-a86c4aa12ba5",
   "metadata": {
    "editable": true,
    "slideshow": {
     "slide_type": ""
    },
    "tags": []
   },
   "outputs": [],
   "source": [
    "import sys\n",
    "sys.path.append(\"..\")\n",
    "\n",
    "import Essentials\n"
   ]
  },
  {
   "cell_type": "code",
   "execution_count": 65,
   "id": "ddfd73aa-5dd4-4f6d-9b27-79e640a9f3bc",
   "metadata": {},
   "outputs": [],
   "source": [
    "import numpy as np\n",
    "\n",
    "from sklearn.preprocessing import StandardScaler\n",
    "import Essentials\n",
    "import numpy as np\n",
    "from sklearn.cross_decomposition import PLSRegression\n",
    "from sklearn.preprocessing import StandardScaler\n",
    "from sklearn.model_selection import cross_val_score, train_test_split\n",
    "from sklearn.metrics import r2_score\n",
    "from abc import ABC, abstractmethod"
   ]
  },
  {
   "cell_type": "code",
   "execution_count": 66,
   "id": "abe1e9e4-447a-4089-954e-50325ebc8d6d",
   "metadata": {},
   "outputs": [],
   "source": [
    "# Загрузка данных\n",
    "a = np.load('C:\\\\Users\\\\misha\\\\PLSSVD\\\\Data_Average.npz', allow_pickle=True)\n",
    "x_train = a['X_train_1']\n",
    "x_test = a['X_test_1']"
   ]
  },
  {
   "cell_type": "code",
   "execution_count": 67,
   "id": "73e00243-614b-4301-9ee3-7a3ce639983f",
   "metadata": {
    "editable": true,
    "slideshow": {
     "slide_type": ""
    },
    "tags": []
   },
   "outputs": [],
   "source": [
    "timestamp_train = a['Y_train_1'][:, 1]\n",
    "timestamp_test = a['Y_test_1'][:, 1]"
   ]
  },
  {
   "cell_type": "code",
   "execution_count": 68,
   "id": "b3c4c301-3d6e-497f-b886-83cf254467a6",
   "metadata": {
    "editable": true,
    "slideshow": {
     "slide_type": ""
    },
    "tags": []
   },
   "outputs": [
    {
     "name": "stderr",
     "output_type": "stream",
     "text": [
      "C:\\Users\\misha\\AppData\\Local\\Temp\\ipykernel_3276\\3258080374.py:1: DeprecationWarning: Conversion of an array with ndim > 0 to a scalar is deprecated, and will error in future. Ensure you extract a single element from your array before performing this operation. (Deprecated NumPy 1.25.)\n",
      "  y_train = a['Y_train_1'][:, 0].reshape(-1, 1).astype(np.float64)\n",
      "C:\\Users\\misha\\AppData\\Local\\Temp\\ipykernel_3276\\3258080374.py:2: DeprecationWarning: Conversion of an array with ndim > 0 to a scalar is deprecated, and will error in future. Ensure you extract a single element from your array before performing this operation. (Deprecated NumPy 1.25.)\n",
      "  y_test = a['Y_test_1'][:, 0].reshape(-1, 1).astype(np.float64)\n"
     ]
    }
   ],
   "source": [
    "y_train = a['Y_train_1'][:, 0].reshape(-1, 1).astype(np.float64)\n",
    "y_test = a['Y_test_1'][:, 0].reshape(-1, 1).astype(np.float64)\n",
    "# Разделение обучающих данных и временных меток на обучающую и валидационную выборки\n",
    "x_train_split, x_val, y_train_split, y_val, timestamps_train_split, timestamps_val = train_test_split(\n",
    "    x_train, y_train, timestamp_train, test_size=0.2, random_state=42\n",
    ")"
   ]
  },
  {
   "cell_type": "code",
   "execution_count": 69,
   "id": "11813621",
   "metadata": {},
   "outputs": [
    {
     "name": "stderr",
     "output_type": "stream",
     "text": [
      "C:\\Users\\misha\\AppData\\Local\\Temp\\ipykernel_3276\\1763344097.py:1: DeprecationWarning: Conversion of an array with ndim > 0 to a scalar is deprecated, and will error in future. Ensure you extract a single element from your array before performing this operation. (Deprecated NumPy 1.25.)\n",
      "  y_train = a['Y_train_1'][:, 0].reshape(-1, 1).astype(np.float64)\n",
      "C:\\Users\\misha\\AppData\\Local\\Temp\\ipykernel_3276\\1763344097.py:2: DeprecationWarning: Conversion of an array with ndim > 0 to a scalar is deprecated, and will error in future. Ensure you extract a single element from your array before performing this operation. (Deprecated NumPy 1.25.)\n",
      "  y_test = a['Y_test_1'][:, 0].reshape(-1, 1).astype(np.float64)\n"
     ]
    }
   ],
   "source": [
    "y_train = a['Y_train_1'][:, 0].reshape(-1, 1).astype(np.float64)\n",
    "y_test = a['Y_test_1'][:, 0].reshape(-1, 1).astype(np.float64)"
   ]
  },
  {
   "cell_type": "code",
   "execution_count": 70,
   "id": "b52ce507",
   "metadata": {},
   "outputs": [
    {
     "name": "stderr",
     "output_type": "stream",
     "text": [
      "C:\\Users\\misha\\AppData\\Local\\Temp\\ipykernel_3276\\1763344097.py:1: DeprecationWarning: Conversion of an array with ndim > 0 to a scalar is deprecated, and will error in future. Ensure you extract a single element from your array before performing this operation. (Deprecated NumPy 1.25.)\n",
      "  y_train = a['Y_train_1'][:, 0].reshape(-1, 1).astype(np.float64)\n",
      "C:\\Users\\misha\\AppData\\Local\\Temp\\ipykernel_3276\\1763344097.py:2: DeprecationWarning: Conversion of an array with ndim > 0 to a scalar is deprecated, and will error in future. Ensure you extract a single element from your array before performing this operation. (Deprecated NumPy 1.25.)\n",
      "  y_test = a['Y_test_1'][:, 0].reshape(-1, 1).astype(np.float64)\n"
     ]
    }
   ],
   "source": [
    "y_train = a['Y_train_1'][:, 0].reshape(-1, 1).astype(np.float64)\n",
    "y_test = a['Y_test_1'][:, 0].reshape(-1, 1).astype(np.float64)"
   ]
  },
  {
   "cell_type": "code",
   "execution_count": 71,
   "id": "034794af-eb1d-4d01-ab60-488029685820",
   "metadata": {
    "editable": true,
    "slideshow": {
     "slide_type": ""
    },
    "tags": []
   },
   "outputs": [],
   "source": [
    "\n",
    "class PLSSVDSoftSensor(Essentials.SoftSensor):\n",
    "    def __init__(self, name, x_train, y_train, n_components=2):\n",
    "        super().__init__(name)\n",
    "        self.model = None\n",
    "        self.coefficients = None\n",
    "        self.n_components = n_components\n",
    "        self.best_n_components = None  # Добавлен атрибут\n",
    "        self.best_cv_score = None\n",
    "        self.train(x_train, y_train, n_components)\n",
    "\n",
    "    def preprocessing(self, x):\n",
    "        return x\n",
    "\n",
    "    def postprocessing(self, y):\n",
    "        return y\n",
    "\n",
    "    def evaluate_model(self, x):\n",
    "        if self.model is None:\n",
    "            raise ValueError(\"The model has not been trained yet.\")\n",
    "        return self.model.predict(x)\n",
    "\n",
    "    def train(self, x_train, y_train, n_components):\n",
    "        # Разделение данных на обучающую и валидационную выборки\n",
    "        x_train_split, x_val, y_train_split, y_val = train_test_split(\n",
    "            x_train, y_train, test_size=0.2, random_state=42\n",
    "        )\n",
    "\n",
    "        best_score = -np.inf\n",
    "        best_n_components = None\n",
    "        best_model = None\n",
    "\n",
    "        # Поиск лучшей модели\n",
    "        for i in range(1, n_components + 1):\n",
    "            model = PLSRegression(n_components=i)\n",
    "            model.fit(x_train_split, y_train_split)\n",
    "            score = model.score(x_val, y_val)\n",
    "            if score > best_score:\n",
    "                best_score = score\n",
    "                best_n_components = i\n",
    "                best_model = model\n",
    "\n",
    "        # Проверка, что лучшая модель была найдена\n",
    "        if best_n_components is None:\n",
    "            raise ValueError(\"No suitable number of components found.\")\n",
    "\n",
    "        # Сохранение лучшей модели\n",
    "        self.model = best_model\n",
    "        self.coefficients = best_model.coef_\n",
    "        self.n_components = best_n_components\n",
    "        self.best_cv_score = best_score\n",
    "\n",
    "        # Сохранение валидационной выборки в атрибутах класса\n",
    "        self.x_val = x_val\n",
    "        self.y_val = y_val\n",
    "\n",
    "    def validate(self, x_val, y_val):\n",
    "        val_score = self.model.score(x_val, y_val)\n",
    "        print(f\"Validation R^2 score: {val_score:.3f}\")\n",
    "\n",
    "    def __str__(self):\n",
    "        coefs_str = \", \".join([f\"{coef:.3f}\" for coef in self.coefficients.ravel()])\n",
    "        return (f\"Модель PLSSVD с {self.n_components} компонентами.\\n\"\n",
    "                f\"Коэффициенты регрессии: {coefs_str}\\n\"\n",
    "                f\"Лучший R^2 на тестовой выборке: {self.best_cv_score:.3f}\")"
   ]
  },
  {
   "cell_type": "code",
   "execution_count": 72,
   "id": "0c3cc2af",
   "metadata": {},
   "outputs": [],
   "source": [
    "sensor = PLSSVDSoftSensor('PLS Sensor', x_train, y_train, n_components=10)\n",
    "sensor.train(x_train, y_train, n_components=10)"
   ]
  },
  {
   "cell_type": "code",
   "execution_count": 73,
   "id": "06d778a4-61a1-4b63-aece-f1fdc45c5383",
   "metadata": {
    "editable": true,
    "slideshow": {
     "slide_type": ""
    },
    "tags": []
   },
   "outputs": [
    {
     "name": "stdout",
     "output_type": "stream",
     "text": [
      "Модель PLSSVD с 6 компонентами.\n",
      "Коэффициенты регрессии: 0.192, 0.221, -0.257, 0.134, 0.156, -0.167, 0.024, 0.172, -0.198, -0.182, 0.172, -0.290, 0.255, 0.020, -0.014, -0.141, 0.133, 0.060, -0.410, -0.160, 0.563, -0.620, 0.240, 0.500, -0.477, 0.079, -0.610, 0.437, -1.090, -0.254, 0.049, 0.142, -0.210, 0.188, 0.063, 0.109, -0.461, 0.093, -0.040, 0.038, -0.099, -0.494, -0.227, 0.165, 0.009, 0.020, 0.215, 0.172, -0.131, -0.138, 0.140, -0.120, 0.119, -0.132, 0.112, -0.114, 0.236, -0.232, 0.271, -0.132, -0.186, 0.209, -0.050, 0.205, -0.067, -0.011, -0.315, -0.075, -0.169, -0.231, -0.013, -0.331, -0.272, -0.285, -0.380, 0.359, -0.229, 0.107, -0.246, -0.078, 0.144, 0.050, 0.260, -0.149, 0.095, -0.105, 0.001, -0.257, 0.233, 0.188, 0.121, 0.071, 0.336, 0.006, 0.096, 0.294\n",
      "Лучший R^2 на тестовой выборке: 0.874\n"
     ]
    }
   ],
   "source": [
    "print(sensor)"
   ]
  },
  {
   "cell_type": "code",
   "execution_count": 74,
   "id": "a7b09359-82c3-4e4e-be6f-7f8534041b69",
   "metadata": {},
   "outputs": [],
   "source": [
    "metric = Essentials.R2Metric()"
   ]
  },
  {
   "cell_type": "code",
   "execution_count": 75,
   "id": "1e1a93af-4683-4a4f-81d6-145da6f2a13a",
   "metadata": {
    "editable": true,
    "slideshow": {
     "slide_type": ""
    },
    "tags": []
   },
   "outputs": [],
   "source": [
    "test_visual = Essentials.Visualizer(sensor.x_val, sensor.y_val, timestamps_val, [metric], 'Test SoftSensor R2 metric')"
   ]
  },
  {
   "cell_type": "code",
   "execution_count": 76,
   "id": "51589a95-805d-4a53-b1a1-476893091791",
   "metadata": {
    "editable": true,
    "scrolled": true,
    "slideshow": {
     "slide_type": ""
    },
    "tags": []
   },
   "outputs": [
    {
     "name": "stdout",
     "output_type": "stream",
     "text": [
      "            Coefficient of determination\n",
      "PLS Sensor                      0.874088\n"
     ]
    },
    {
     "data": {
      "image/png": "[encoded data removed]",
      "text/plain": [
       "<Figure size 640x480 with 1 Axes>"
      ]
     },
     "metadata": {},
     "output_type": "display_data"
    }
   ],
   "source": [
    "test_visual.visualize([sensor])"
   ]
  }
 ],
 "metadata": {
  "kernelspec": {
   "display_name": "Python 3 (ipykernel)",
   "language": "python",
   "name": "python3"
  },
  "language_info": {
   "codemirror_mode": {
    "name": "ipython",
    "version": 3
   },
   "file_extension": ".py",
   "mimetype": "text/x-python",
   "name": "python",
   "nbconvert_exporter": "python",
   "pygments_lexer": "ipython3",
   "version": "3.12.0"
  }
 },
 "nbformat": 4,
 "nbformat_minor": 5
}
