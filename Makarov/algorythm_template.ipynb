{
 "cells": [
  {
   "cell_type": "code",
   "execution_count": 1,
   "id": "ef4eb98b-798a-4e71-b982-a86c4aa12ba5",
   "metadata": {
    "editable": true,
    "slideshow": {
     "slide_type": ""
    },
    "tags": []
   },
   "outputs": [],
   "source": [
    "import sys\n",
    "sys.path.append(\"..\")\n",
    "\n",
    "import Essentials\n"
   ]
  },
  {
   "cell_type": "code",
   "execution_count": 2,
   "id": "ddfd73aa-5dd4-4f6d-9b27-79e640a9f3bc",
   "metadata": {},
   "outputs": [],
   "source": [
    "import numpy as np\n",
    "\n",
    "from sklearn.preprocessing import StandardScaler\n",
    "import Essentials\n",
    "import numpy as np\n",
    "from sklearn.cross_decomposition import PLSRegression\n",
    "from sklearn.preprocessing import StandardScaler\n",
    "from sklearn.model_selection import cross_val_score, train_test_split\n",
    "from sklearn.metrics import r2_score\n",
    "from abc import ABC, abstractmethod"
   ]
  },
  {
   "cell_type": "code",
   "execution_count": 3,
   "id": "abe1e9e4-447a-4089-954e-50325ebc8d6d",
   "metadata": {},
   "outputs": [],
   "source": [
    "a = np.load('C:\\\\Users\\\\misha\\\\PLSSVD\\\\Data_Average.npz', allow_pickle=True)"
   ]
  },
  {
   "cell_type": "code",
   "execution_count": 4,
   "id": "73e00243-614b-4301-9ee3-7a3ce639983f",
   "metadata": {
    "editable": true,
    "slideshow": {
     "slide_type": ""
    },
    "tags": []
   },
   "outputs": [],
   "source": [
    "x1 = a['X_test_1']\n",
    "x2 = a['X_train_1']\n",
    "\n",
    "y1 = a['Y_test_1']\n",
    "y2 = a['Y_train_1']"
   ]
  },
  {
   "cell_type": "code",
   "execution_count": 5,
   "id": "b3c4c301-3d6e-497f-b886-83cf254467a6",
   "metadata": {
    "editable": true,
    "slideshow": {
     "slide_type": ""
    },
    "tags": []
   },
   "outputs": [
    {
     "name": "stderr",
     "output_type": "stream",
     "text": [
      "C:\\Users\\misha\\AppData\\Local\\Temp\\ipykernel_8792\\3146428066.py:5: DeprecationWarning: Conversion of an array with ndim > 0 to a scalar is deprecated, and will error in future. Ensure you extract a single element from your array before performing this operation. (Deprecated NumPy 1.25.)\n",
      "  y1 = y1.astype(np.float64)\n",
      "C:\\Users\\misha\\AppData\\Local\\Temp\\ipykernel_8792\\3146428066.py:7: DeprecationWarning: Conversion of an array with ndim > 0 to a scalar is deprecated, and will error in future. Ensure you extract a single element from your array before performing this operation. (Deprecated NumPy 1.25.)\n",
      "  y2 = y2.astype(np.float64)\n"
     ]
    }
   ],
   "source": [
    "timestamp1 = y1[:, 1]\n",
    "timestamp2 = y2[:, 1]\n",
    "\n",
    "y1 = y1[:, 0].reshape(len(y1), 1)\n",
    "y1 = y1.astype(np.float64)\n",
    "y2 = y2[:, 0].reshape(len(y2), 1)\n",
    "y2 = y2.astype(np.float64)"
   ]
  },
  {
   "cell_type": "code",
   "execution_count": 6,
   "id": "70ad3f52-dff8-4acb-a3d7-625b3af4ad22",
   "metadata": {},
   "outputs": [
    {
     "data": {
      "text/plain": [
       "(74, 1)"
      ]
     },
     "execution_count": 6,
     "metadata": {},
     "output_type": "execute_result"
    }
   ],
   "source": [
    "y1.shape"
   ]
  },
  {
   "cell_type": "code",
   "execution_count": 7,
   "id": "8456adaa-e528-4701-b564-38fb45911064",
   "metadata": {},
   "outputs": [
    {
     "data": {
      "text/plain": [
       "(74, 96)"
      ]
     },
     "execution_count": 7,
     "metadata": {},
     "output_type": "execute_result"
    }
   ],
   "source": [
    "x1.shape"
   ]
  },
  {
   "cell_type": "code",
   "execution_count": 8,
   "id": "034794af-eb1d-4d01-ab60-488029685820",
   "metadata": {
    "editable": true,
    "slideshow": {
     "slide_type": ""
    },
    "tags": []
   },
   "outputs": [],
   "source": [
    "\n",
    "class PLSSVDSoftSensor(Essentials.SoftSensor):\n",
    "    def __init__(self, name, x_train, y_train, n_components=2):\n",
    "        super().__init__(name)\n",
    "        self.x_scaler = StandardScaler()\n",
    "        self.y_scaler = StandardScaler()\n",
    "        self.train(x_train, y_train, n_components)\n",
    "\n",
    "    def preprocessing(self, x):\n",
    "        return self.x_scaler.transform(x)\n",
    "\n",
    "    def postprocessing(self, y):\n",
    "        return self.y_scaler.inverse_transform(y)\n",
    "\n",
    "    def evaluate_model(self, x):\n",
    "        return self.get_model().predict(x)\n",
    "\n",
    "    def train(self, x_train, y_train, n_components=2):\n",
    "        x_train_scaled = self.x_scaler.fit_transform(x_train)\n",
    "        y_train_scaled = self.y_scaler.fit_transform(y_train)\n",
    "        \n",
    "        # Поиск оптимального количества компонентов\n",
    "        best_score = -np.inf\n",
    "        best_n_components = 0\n",
    "        for i in range(1, n_components + 1):\n",
    "            model = PLSRegression(n_components=i)\n",
    "            scores = cross_val_score(model, x_train_scaled, y_train_scaled, cv=5, scoring='r2')\n",
    "            mean_score = np.mean(scores)\n",
    "            if mean_score > best_score:\n",
    "                best_score = mean_score\n",
    "                best_n_components = i\n",
    "        \n",
    "        # Обучение модели\n",
    "        self.set_model(PLSRegression(n_components=best_n_components))\n",
    "        self.get_model().fit(x_train_scaled, y_train_scaled)\n",
    "        self.coefficients = self.get_model().coef_\n",
    "        self.n_components = best_n_components\n",
    "        self.best_cv_score = best_score\n",
    "\n",
    "    def __str__(self):\n",
    "        coefs_str = \", \".join([f\"{coef:.3f}\" for coef in self.coefficients.ravel()])\n",
    "        return (f\"Модель PLSSVD с {self.n_components} компонентами.\\n\"\n",
    "                f\"Коэффициенты регрессии: {coefs_str}\\n\"\n",
    "                f\"Средний R^2 на кросс-валидации: {self.best_cv_score:.3f}\")"
   ]
  },
  {
   "cell_type": "code",
   "execution_count": 9,
   "id": "6880aa9f-2389-4ddf-85f2-a8f62be47dc3",
   "metadata": {
    "editable": true,
    "slideshow": {
     "slide_type": ""
    },
    "tags": []
   },
   "outputs": [],
   "source": [
    "# Пример создания экземпляра класса PLSSVDSoftSensor\n",
    "Test_sensor_2 = PLSSVDSoftSensor(name=\"PLSSVD Sensor\", x_train=x1, y_train=y1)"
   ]
  },
  {
   "cell_type": "code",
   "execution_count": 10,
   "id": "0c3cc2af",
   "metadata": {},
   "outputs": [],
   "source": [
    "Test_sensor_1 = PLSSVDSoftSensor(name=\"PLSSVD Sensor\", x_train=x2, y_train=y2)"
   ]
  },
  {
   "cell_type": "code",
   "execution_count": 11,
   "id": "06d778a4-61a1-4b63-aece-f1fdc45c5383",
   "metadata": {
    "editable": true,
    "slideshow": {
     "slide_type": ""
    },
    "tags": []
   },
   "outputs": [
    {
     "name": "stdout",
     "output_type": "stream",
     "text": [
      "Модель PLSSVD с 2 компонентами.\n",
      "Коэффициенты регрессии: 0.024, 0.011, -0.023, 0.013, 0.015, -0.008, 0.001, 0.013, -0.016, 0.006, 0.013, -0.022, 0.032, 0.007, 0.025, 0.009, 0.021, 0.018, -0.034, -0.014, -0.003, -0.039, 0.032, 0.033, 0.000, 0.033, -0.040, 0.020, -0.061, -0.028, -0.019, 0.003, 0.009, 0.024, -0.015, 0.034, -0.048, 0.033, 0.011, -0.027, -0.027, -0.012, 0.011, 0.023, 0.018, 0.007, 0.008, 0.023, 0.016, 0.015, 0.014, 0.016, 0.019, 0.016, 0.019, 0.017, 0.021, -0.021, 0.056, 0.009, 0.007, 0.013, -0.016, 0.003, -0.018, 0.040, -0.030, -0.008, -0.013, 0.017, 0.040, 0.005, -0.003, -0.032, -0.026, -0.004, -0.004, -0.010, 0.009, 0.003, 0.029, 0.043, 0.027, -0.034, 0.011, 0.022, 0.021, -0.002, 0.013, 0.024, -0.012, -0.011, 0.030, -0.011, 0.014, 0.020\n",
      "Средний R^2 на кросс-валидации: 0.038\n"
     ]
    }
   ],
   "source": [
    "print(Test_sensor_1)"
   ]
  },
  {
   "cell_type": "code",
   "execution_count": 12,
   "id": "83adda11",
   "metadata": {},
   "outputs": [
    {
     "name": "stdout",
     "output_type": "stream",
     "text": [
      "Модель PLSSVD с 1 компонентами.\n",
      "Коэффициенты регрессии: 0.018, -0.047, 0.020, 0.022, -0.000, 0.039, 0.035, 0.020, -0.028, 0.018, 0.020, -0.035, 0.040, 0.010, 0.013, 0.020, 0.051, 0.046, -0.019, 0.003, -0.006, -0.010, 0.039, 0.011, 0.023, 0.006, -0.062, -0.000, -0.054, -0.025, -0.015, -0.001, 0.002, -0.002, -0.015, 0.008, 0.007, -0.014, 0.030, -0.033, -0.029, -0.019, -0.005, 0.004, -0.002, 0.010, 0.021, 0.004, 0.006, 0.003, 0.004, 0.006, 0.010, 0.006, 0.011, 0.006, 0.016, -0.011, 0.011, 0.016, -0.001, 0.006, -0.009, 0.008, -0.008, -0.004, -0.020, -0.017, -0.025, -0.029, -0.003, 0.031, -0.019, 0.011, 0.002, -0.016, -0.018, -0.013, 0.001, -0.002, 0.009, -0.005, 0.008, 0.011, -0.011, -0.044, -0.040, -0.011, -0.015, -0.002, 0.013, -0.006, -0.005, -0.005, -0.008, 0.000\n",
      "Средний R^2 на кросс-валидации: -1.563\n"
     ]
    }
   ],
   "source": [
    "print(Test_sensor_2)"
   ]
  },
  {
   "cell_type": "markdown",
   "id": "6062abfc-920d-42de-8f72-a2ab0e9a27e2",
   "metadata": {},
   "source": [
    "Создание экземпляра метрики, достаточно одного для тестирования"
   ]
  },
  {
   "cell_type": "code",
   "execution_count": 13,
   "id": "a7b09359-82c3-4e4e-be6f-7f8534041b69",
   "metadata": {},
   "outputs": [],
   "source": [
    "metric = Essentials.R2Metric()"
   ]
  },
  {
   "cell_type": "code",
   "execution_count": 14,
   "id": "1e1a93af-4683-4a4f-81d6-145da6f2a13a",
   "metadata": {
    "editable": true,
    "slideshow": {
     "slide_type": ""
    },
    "tags": []
   },
   "outputs": [],
   "source": [
    "test_visual = Essentials.Visualizer(x2, y2, timestamp2, [metric], 'Test SoftSensor R2 metric')"
   ]
  },
  {
   "cell_type": "code",
   "execution_count": 15,
   "id": "51589a95-805d-4a53-b1a1-476893091791",
   "metadata": {
    "editable": true,
    "scrolled": true,
    "slideshow": {
     "slide_type": ""
    },
    "tags": []
   },
   "outputs": [
    {
     "name": "stdout",
     "output_type": "stream",
     "text": [
      "               Coefficient of determination\n",
      "PLSSVD Sensor                      0.737898\n"
     ]
    },
    {
     "data": {
      "image/png": "[encoded data removed]",
      "text/plain": [
       "<Figure size 640x480 with 1 Axes>"
      ]
     },
     "metadata": {},
     "output_type": "display_data"
    }
   ],
   "source": [
    "test_visual.visualize([Test_sensor_1])"
   ]
  },
  {
   "cell_type": "code",
   "execution_count": null,
   "id": "e2c0fbd1-de93-437f-a860-0008b5edf042",
   "metadata": {},
   "outputs": [],
   "source": []
  }
 ],
 "metadata": {
  "kernelspec": {
   "display_name": "Python 3 (ipykernel)",
   "language": "python",
   "name": "python3"
  },
  "language_info": {
   "codemirror_mode": {
    "name": "ipython",
    "version": 3
   },
   "file_extension": ".py",
   "mimetype": "text/x-python",
   "name": "python",
   "nbconvert_exporter": "python",
   "pygments_lexer": "ipython3",
   "version": "3.12.0"
  }
 },
 "nbformat": 4,
 "nbformat_minor": 5
}
