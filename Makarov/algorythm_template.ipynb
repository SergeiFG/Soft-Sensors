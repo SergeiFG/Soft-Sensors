{
 "cells": [
  {
   "cell_type": "code",
   "execution_count": 153,
   "id": "ef4eb98b-798a-4e71-b982-a86c4aa12ba5",
   "metadata": {
    "editable": true,
    "slideshow": {
     "slide_type": ""
    },
    "tags": []
   },
   "outputs": [],
   "source": [
    "import sys\n",
    "sys.path.append(\"..\")\n",
    "\n",
    "import Essentials\n"
   ]
  },
  {
   "cell_type": "code",
   "execution_count": 154,
   "id": "ddfd73aa-5dd4-4f6d-9b27-79e640a9f3bc",
   "metadata": {},
   "outputs": [],
   "source": [
    "import numpy as np\n",
    "\n",
    "from sklearn.preprocessing import StandardScaler\n",
    "import Essentials\n",
    "import numpy as np\n",
    "from sklearn.cross_decomposition import PLSRegression\n",
    "from sklearn.preprocessing import StandardScaler\n",
    "from sklearn.model_selection import cross_val_score, train_test_split\n",
    "from sklearn.metrics import r2_score\n",
    "from abc import ABC, abstractmethod"
   ]
  },
  {
   "cell_type": "code",
   "execution_count": 155,
   "id": "abe1e9e4-447a-4089-954e-50325ebc8d6d",
   "metadata": {},
   "outputs": [],
   "source": [
    "# Загрузка данных\n",
    "a = np.load('C:\\\\Users\\\\misha\\\\PLSSVD\\\\Data_Average.npz', allow_pickle=True)\n",
    "x_train = a['X_train_1']\n",
    "x_test = a['X_test_1']"
   ]
  },
  {
   "cell_type": "code",
   "execution_count": 156,
   "id": "73e00243-614b-4301-9ee3-7a3ce639983f",
   "metadata": {
    "editable": true,
    "slideshow": {
     "slide_type": ""
    },
    "tags": []
   },
   "outputs": [],
   "source": [
    "timestamp_train = a['Y_train_1'][:, 1]\n",
    "timestamp_test = a['Y_test_1'][:, 1]"
   ]
  },
  {
   "cell_type": "code",
   "execution_count": 157,
   "id": "b3c4c301-3d6e-497f-b886-83cf254467a6",
   "metadata": {
    "editable": true,
    "slideshow": {
     "slide_type": ""
    },
    "tags": []
   },
   "outputs": [
    {
     "name": "stderr",
     "output_type": "stream",
     "text": [
      "C:\\Users\\misha\\AppData\\Local\\Temp\\ipykernel_5396\\3088982503.py:2: DeprecationWarning: Conversion of an array with ndim > 0 to a scalar is deprecated, and will error in future. Ensure you extract a single element from your array before performing this operation. (Deprecated NumPy 1.25.)\n",
      "  y_train = a['Y_train_1'][:, 0].reshape(-1, 1).astype(np.float64)\n",
      "C:\\Users\\misha\\AppData\\Local\\Temp\\ipykernel_5396\\3088982503.py:3: DeprecationWarning: Conversion of an array with ndim > 0 to a scalar is deprecated, and will error in future. Ensure you extract a single element from your array before performing this operation. (Deprecated NumPy 1.25.)\n",
      "  y_test = a['Y_test_1'][:, 0].reshape(-1, 1).astype(np.float64)\n"
     ]
    }
   ],
   "source": [
    "y_train = a['Y_train_1'][:, 0].reshape(-1, 1).astype(np.float64)\n",
    "y_test = a['Y_test_1'][:, 0].reshape(-1, 1).astype(np.float64)"
   ]
  },
  {
   "cell_type": "code",
   "execution_count": 158,
   "id": "034794af-eb1d-4d01-ab60-488029685820",
   "metadata": {
    "editable": true,
    "slideshow": {
     "slide_type": ""
    },
    "tags": []
   },
   "outputs": [],
   "source": [
    "\n",
    "class PLSSVDSoftSensor(Essentials.SoftSensor):\n",
    "    def __init__(self, name, x_train, y_train, n_components=2):\n",
    "        super().__init__(name)\n",
    "        self.model = None\n",
    "        self.coefficients = None\n",
    "        self.n_components = n_components\n",
    "        self.best_n_components = None  # Добавлен атрибут\n",
    "        self.best_cv_score = None\n",
    "        self.train(x_train, y_train, n_components)\n",
    "\n",
    "    def preprocessing(self, x):\n",
    "        return x\n",
    "\n",
    "    def postprocessing(self, y):\n",
    "        return y\n",
    "\n",
    "    def evaluate_model(self, x):\n",
    "        if self.model is None:\n",
    "            raise ValueError(\"The model has not been trained yet.\")\n",
    "        return self.model.predict(x)\n",
    "\n",
    "    def train(self, x_train, y_train, n_components):\n",
    "        x_train, x_val, y_train, y_val = train_test_split(\n",
    "            x_train, y_train, test_size=0.2, random_state=42\n",
    "        )\n",
    "\n",
    "        best_score = -np.inf\n",
    "        self.best_n_components = None  \n",
    "        best_model = None\n",
    "\n",
    "        for i in range(1, n_components + 1):\n",
    "            model = PLSRegression(n_components=i)\n",
    "            model.fit(x_train, y_train)\n",
    "            score = model.score(x_val, y_val)\n",
    "            if score > best_score:\n",
    "                best_score = score\n",
    "                self.best_n_components = i  # Обновляем атрибут класса\n",
    "                best_model = model\n",
    "\n",
    "        if self.best_n_components is None:\n",
    "            raise ValueError(\"No suitable number of components found.\")\n",
    "\n",
    "        self.model = best_model\n",
    "        self.coefficients = best_model.coef_\n",
    "        self.n_components = self.best_n_components  # Обновляем атрибут класса\n",
    "        self.best_cv_score = best_score\n",
    "\n",
    "    def validate(self, x_val, y_val):\n",
    "        val_score = self.model.score(x_val, y_val)\n",
    "        print(f\"Validation R^2 score: {val_score:.3f}\")\n",
    "\n",
    "    def __str__(self):\n",
    "        coefs_str = \", \".join([f\"{coef:.3f}\" for coef in self.coefficients.ravel()])\n",
    "        return (f\"Модель PLSSVD с {self.n_components} компонентами.\\n\"\n",
    "                f\"Коэффициенты регрессии: {coefs_str}\\n\"\n",
    "                f\"Лучший R^2 на тестовой выборке: {self.best_cv_score:.3f}\")"
   ]
  },
  {
   "cell_type": "code",
   "execution_count": 159,
   "id": "0c3cc2af",
   "metadata": {},
   "outputs": [],
   "source": [
    "sensor = PLSSVDSoftSensor(name=\"PLS Sensor\", x_train=x_train, y_train=y_train, n_components=2)"
   ]
  },
  {
   "cell_type": "code",
   "execution_count": 160,
   "id": "06d778a4-61a1-4b63-aece-f1fdc45c5383",
   "metadata": {
    "editable": true,
    "slideshow": {
     "slide_type": ""
    },
    "tags": []
   },
   "outputs": [
    {
     "name": "stdout",
     "output_type": "stream",
     "text": [
      "Модель PLSSVD с 2 компонентами.\n",
      "Коэффициенты регрессии: 0.117, 0.036, -0.104, 0.081, 0.075, -0.048, 0.007, 0.083, -0.052, 0.030, 0.083, -0.087, 0.139, 0.037, 0.111, 0.044, 0.090, 0.079, -0.153, -0.048, -0.005, -0.176, 0.137, 0.154, 0.005, 0.147, -0.174, 0.099, -0.264, -0.073, -0.026, -0.014, 0.040, 0.114, -0.008, 0.151, -0.208, 0.147, 0.056, -0.130, -0.133, -0.061, 0.049, 0.106, 0.084, 0.037, 0.036, 0.110, 0.069, 0.066, 0.069, 0.070, 0.089, 0.068, 0.090, 0.072, 0.101, -0.084, 0.235, 0.042, 0.029, 0.044, -0.093, 0.047, -0.096, 0.162, -0.117, -0.038, -0.068, 0.071, 0.161, 0.016, -0.003, -0.125, -0.099, 0.042, -0.004, -0.040, 0.037, 0.018, 0.137, 0.174, 0.151, -0.135, 0.052, 0.113, 0.087, -0.017, 0.052, 0.114, -0.038, -0.088, 0.168, -0.087, 0.074, 0.109\n",
      "Лучший R^2 на тестовой выборке: 0.677\n"
     ]
    }
   ],
   "source": [
    "print(sensor)"
   ]
  },
  {
   "cell_type": "code",
   "execution_count": 161,
   "id": "a7b09359-82c3-4e4e-be6f-7f8534041b69",
   "metadata": {},
   "outputs": [],
   "source": [
    "metric = Essentials.R2Metric()"
   ]
  },
  {
   "cell_type": "code",
   "execution_count": 162,
   "id": "1e1a93af-4683-4a4f-81d6-145da6f2a13a",
   "metadata": {
    "editable": true,
    "slideshow": {
     "slide_type": ""
    },
    "tags": []
   },
   "outputs": [],
   "source": [
    "test_visual = Essentials.Visualizer(x_test, y_test, timestamp_test, [metric], 'Test SoftSensor R2 metric')"
   ]
  },
  {
   "cell_type": "code",
   "execution_count": 163,
   "id": "51589a95-805d-4a53-b1a1-476893091791",
   "metadata": {
    "editable": true,
    "scrolled": true,
    "slideshow": {
     "slide_type": ""
    },
    "tags": []
   },
   "outputs": [
    {
     "name": "stdout",
     "output_type": "stream",
     "text": [
      "            Coefficient of determination\n",
      "PLS Sensor                    -13.794424\n"
     ]
    },
    {
     "data": {
      "image/png": "[encoded data removed]",
      "text/plain": [
       "<Figure size 640x480 with 1 Axes>"
      ]
     },
     "metadata": {},
     "output_type": "display_data"
    }
   ],
   "source": [
    "test_visual.visualize([sensor])"
   ]
  }
 ],
 "metadata": {
  "kernelspec": {
   "display_name": "Python 3 (ipykernel)",
   "language": "python",
   "name": "python3"
  },
  "language_info": {
   "codemirror_mode": {
    "name": "ipython",
    "version": 3
   },
   "file_extension": ".py",
   "mimetype": "text/x-python",
   "name": "python",
   "nbconvert_exporter": "python",
   "pygments_lexer": "ipython3",
   "version": "3.12.0"
  }
 },
 "nbformat": 4,
 "nbformat_minor": 5
}
