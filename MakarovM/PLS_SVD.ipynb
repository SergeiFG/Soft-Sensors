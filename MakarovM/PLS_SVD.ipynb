{
 "cells": [
  {
   "cell_type": "code",
   "execution_count": 182,
   "id": "fd089e5c-073c-4899-b1fc-e51d8550cc19",
   "metadata": {},
   "outputs": [],
   "source": [
    "import sys\n",
    "sys.path.append(\"..\")\n",
    "\n",
    "import Essentials"
   ]
  },
  {
   "cell_type": "code",
   "execution_count": 183,
   "id": "13d89c2c-e559-41ad-bff9-dbc07c7793bc",
   "metadata": {},
   "outputs": [],
   "source": [
    "import numpy as np\n",
    "from sklearn.preprocessing import StandardScaler\n",
    "from sklearn.linear_model import LinearRegression"
   ]
  },
  {
   "cell_type": "code",
   "execution_count": 184,
   "id": "dd53eeb4-e972-45e1-850d-de1c2920ca30",
   "metadata": {},
   "outputs": [],
   "source": [
    "a = np.load('Data_First.npz', allow_pickle=True)"
   ]
  },
  {
   "cell_type": "code",
   "execution_count": 185,
   "id": "ea1726ec-2d6e-4e3f-85da-1ed6f0b48172",
   "metadata": {},
   "outputs": [],
   "source": [
    "x1 = a['X_test_2']\n",
    "x2 = a['X_train_2']\n",
    "\n",
    "y1 = a['Y_test_2']\n",
    "y2 = a['Y_train_2']"
   ]
  },
  {
   "cell_type": "code",
   "execution_count": 186,
   "id": "0c876d2c-d134-497d-ae6b-5d0227621837",
   "metadata": {},
   "outputs": [
    {
     "name": "stderr",
     "output_type": "stream",
     "text": [
      "C:\\Users\\Admin\\AppData\\Local\\Temp\\ipykernel_5196\\3146428066.py:5: DeprecationWarning: Conversion of an array with ndim > 0 to a scalar is deprecated, and will error in future. Ensure you extract a single element from your array before performing this operation. (Deprecated NumPy 1.25.)\n",
      "  y1 = y1.astype(np.float64)\n",
      "C:\\Users\\Admin\\AppData\\Local\\Temp\\ipykernel_5196\\3146428066.py:7: DeprecationWarning: Conversion of an array with ndim > 0 to a scalar is deprecated, and will error in future. Ensure you extract a single element from your array before performing this operation. (Deprecated NumPy 1.25.)\n",
      "  y2 = y2.astype(np.float64)\n"
     ]
    }
   ],
   "source": [
    "timestamp1 = y1[:, 1]\n",
    "timestamp2 = y2[:, 1]\n",
    "\n",
    "y1 = y1[:, 0].reshape(len(y1), 1)\n",
    "y1 = y1.astype(np.float64)\n",
    "y2 = y2[:, 0].reshape(len(y2), 1)\n",
    "y2 = y2.astype(np.float64)"
   ]
  },
  {
   "cell_type": "code",
   "execution_count": 187,
   "id": "8d4d465e-6fa5-4eff-ad1c-180cd3ab6371",
   "metadata": {},
   "outputs": [
    {
     "data": {
      "text/plain": [
       "array([[9.505000e+01, 3.865000e+01, 0.000000e+00, ..., 1.883000e+01,\n",
       "        5.064000e+01, 5.250306e+04],\n",
       "       [9.547000e+01, 3.685000e+01, 0.000000e+00, ..., 1.837000e+01,\n",
       "        4.995000e+01, 5.365576e+04],\n",
       "       [8.780000e+01, 7.840000e+00, 1.500000e-01, ..., 1.822000e+01,\n",
       "        4.490000e+01, 5.332455e+04],\n",
       "       ...,\n",
       "       [1.024300e+02, 0.000000e+00, 0.000000e+00, ..., 1.473000e+01,\n",
       "        5.277000e+01, 5.231245e+04],\n",
       "       [1.230200e+02, 0.000000e+00, 0.000000e+00, ..., 1.474000e+01,\n",
       "        5.205000e+01, 5.133461e+04],\n",
       "       [8.214000e+01, 0.000000e+00, 1.053000e+01, ..., 1.472000e+01,\n",
       "        4.386000e+01, 5.118371e+04]])"
      ]
     },
     "execution_count": 187,
     "metadata": {},
     "output_type": "execute_result"
    }
   ],
   "source": [
    "x1"
   ]
  },
  {
   "cell_type": "code",
   "execution_count": 188,
   "id": "ac472c8e-43af-4420-af2f-f2bca042162b",
   "metadata": {},
   "outputs": [
    {
     "data": {
      "text/plain": [
       "array([[ 78.4],\n",
       "       [ 97.7],\n",
       "       [ 89.6],\n",
       "       [ 76.2],\n",
       "       [ 88.8],\n",
       "       [ 78.1],\n",
       "       [ 82.7],\n",
       "       [ 77.6],\n",
       "       [ 79.5],\n",
       "       [ 77.1],\n",
       "       [ 83.5],\n",
       "       [ 81.1],\n",
       "       [ 73.9],\n",
       "       [ 88.1],\n",
       "       [ 86.2],\n",
       "       [ 82.3],\n",
       "       [ 89.3],\n",
       "       [ 77.9],\n",
       "       [ 83.5],\n",
       "       [ 83.5],\n",
       "       [ 94.9],\n",
       "       [ 89.3],\n",
       "       [ 75.2],\n",
       "       [ 82.8],\n",
       "       [ 97.8],\n",
       "       [ 82.3],\n",
       "       [ 84.9],\n",
       "       [100.4],\n",
       "       [ 84.6],\n",
       "       [ 92.3],\n",
       "       [ 88.7],\n",
       "       [ 84.1],\n",
       "       [ 85.3],\n",
       "       [105.7],\n",
       "       [ 80.2]])"
      ]
     },
     "execution_count": 188,
     "metadata": {},
     "output_type": "execute_result"
    }
   ],
   "source": [
    "y1"
   ]
  },
  {
   "cell_type": "code",
   "execution_count": 189,
   "id": "8782437b-d22a-436b-9bf0-f7622e3b228e",
   "metadata": {},
   "outputs": [
    {
     "data": {
      "text/plain": [
       "(35, 1)"
      ]
     },
     "execution_count": 189,
     "metadata": {},
     "output_type": "execute_result"
    }
   ],
   "source": [
    "y1.shape"
   ]
  },
  {
   "cell_type": "code",
   "execution_count": 190,
   "id": "d96fe21e-f06e-4813-85c5-57e15d3b103a",
   "metadata": {},
   "outputs": [
    {
     "data": {
      "text/plain": [
       "(75, 47)"
      ]
     },
     "execution_count": 190,
     "metadata": {},
     "output_type": "execute_result"
    }
   ],
   "source": [
    "x2.shape"
   ]
  },
  {
   "cell_type": "code",
   "execution_count": 191,
   "id": "475bc70c-ba64-42df-b46f-483b5b632d55",
   "metadata": {},
   "outputs": [
    {
     "data": {
      "text/plain": [
       "(75, 1)"
      ]
     },
     "execution_count": 191,
     "metadata": {},
     "output_type": "execute_result"
    }
   ],
   "source": [
    "y2.shape"
   ]
  },
  {
   "cell_type": "code",
   "execution_count": 192,
   "id": "b449c11b-3492-491d-be77-5973b9bd8d0d",
   "metadata": {},
   "outputs": [
    {
     "data": {
      "text/plain": [
       "(35, 47)"
      ]
     },
     "execution_count": 192,
     "metadata": {},
     "output_type": "execute_result"
    }
   ],
   "source": [
    "x1.shape"
   ]
  },
  {
   "cell_type": "code",
   "execution_count": 193,
   "id": "2a0f8950-7408-41c6-ae1b-7341fcf8059c",
   "metadata": {},
   "outputs": [],
   "source": [
    "class TestSoftSensor(Essentials.SoftSensor):\n",
    "    def __init__(self, x_train, y_train):\n",
    "        super().__init__('Test')\n",
    "        self.x_scaler = StandardScaler() \n",
    "        self.y_scaler = StandardScaler()\n",
    "        self.x_scaler.fit(x_train)\n",
    "        self.y_scaler.fit(y_train)\n",
    "        self.train(x_train, y_train)\n",
    "\n",
    "    def prepocessing(self, x):\n",
    "        try:\n",
    "            return self.x_scaler.transform(x)\n",
    "        except:\n",
    "            try:\n",
    "               return self.y_scaler.transform(x)\n",
    "            except BaseException as err:\n",
    "                print(\"Ошибка скейлера\")\n",
    "                raise err\n",
    "\n",
    "            \n",
    "    def postprocessing(self, x):\n",
    "        try:\n",
    "            return self.x_scaler.inverse_transform(x)\n",
    "        except:\n",
    "            try:\n",
    "               return self.y_scaler.inverse_transform(x)\n",
    "            except BaseException as err:\n",
    "                print(\"Ошибка скейлера\")\n",
    "                raise err\n",
    "\n",
    "\n",
    "    def evaluate_model(self, x):\n",
    "        predictions = self.get_model().predict(x)\n",
    "        return predictions\n",
    "\n",
    "    def train(self, x_train, y_train):\n",
    "        X_train_scaled = self.x_scaler.fit_transform(x_train)\n",
    "        y_train_scaled = self.y_scaler.fit_transform(y_train)\n",
    "        regressor = LinearRegression()\n",
    "        regressor.fit(X_train_scaled, y_train_scaled)\n",
    "        self.set_model(regressor)\n",
    "        \n",
    "    def __str__(self):\n",
    "        coefficients = self.get_model().coef_   \n",
    "        return (f\"Линейная регрессия, коэффициенты: {coefficients}\")"
   ]
  },
  {
   "cell_type": "code",
   "execution_count": 194,
   "id": "02fc1be8-6972-4342-9162-22d026a3fc3f",
   "metadata": {},
   "outputs": [],
   "source": [
    "Test_sensor_1 = TestSoftSensor(x2, y2)"
   ]
  },
  {
   "cell_type": "code",
   "execution_count": 195,
   "id": "ddf1c913-fb96-45c9-9e64-50717a12e3a7",
   "metadata": {},
   "outputs": [
    {
     "name": "stdout",
     "output_type": "stream",
     "text": [
      "Линейная регрессия, коэффициенты: [[-2.52036428e+00 -1.44415873e-01  1.42980968e-01 -7.44679564e-01\n",
      "  -5.58221433e-02  2.82445030e+00 -9.15724617e+00  6.09002160e+00\n",
      "   8.57049722e-01 -2.32425094e+00  2.90794730e+00  3.05752361e+00\n",
      "   9.67006226e-01 -4.46309656e-14 -4.15542455e-02 -6.35820427e+00\n",
      "   1.15480540e+00  2.70455163e+00 -3.17048523e-01  1.15174001e+00\n",
      "   4.35147287e-01 -1.13282449e+00  7.67681458e-01 -2.39821489e-02\n",
      "   1.21498423e-02  3.80132293e-01  2.36217483e-01 -2.59275395e-01\n",
      "   5.28740700e-01  3.66421866e-01 -1.55855385e+00  1.29300735e-01\n",
      "   6.91455289e-02 -4.27739383e-01  9.46399828e-02 -3.96406244e-01\n",
      "   3.31890585e-03  9.99031348e-02  4.07520478e-03  1.94015066e-01\n",
      "   2.36217483e-01  2.42977230e+00 -3.44290612e-02 -9.81607625e-05\n",
      "  -2.56776755e-01 -4.17886688e+00  6.99807828e-01]]\n"
     ]
    }
   ],
   "source": [
    "print(Test_sensor_1)"
   ]
  },
  {
   "cell_type": "code",
   "execution_count": 196,
   "id": "8f472de4-3a08-449c-b2cf-c479921407e9",
   "metadata": {},
   "outputs": [],
   "source": [
    "metric = Essentials.R2Metric()"
   ]
  },
  {
   "cell_type": "code",
   "execution_count": 197,
   "id": "a30389c7-a1a6-4be9-8d5c-0cfc7d137b46",
   "metadata": {},
   "outputs": [],
   "source": [
    "test_visual = Essentials.Visualizer(x1, y1, timestamp1, [metric], 'Test SoftSensor R2 metric')"
   ]
  },
  {
   "cell_type": "code",
   "execution_count": 198,
   "id": "f0ab78b9-1742-4e81-8b94-622231eb5ae2",
   "metadata": {},
   "outputs": [
    {
     "data": {
      "text/plain": [
       "(array([[-929.93108705],\n",
       "        [-860.09375154],\n",
       "        [-109.10219639],\n",
       "        [  90.18752799],\n",
       "        [  78.09361471],\n",
       "        [  75.92019555],\n",
       "        [  65.29025293],\n",
       "        [  84.90352758],\n",
       "        [  41.75134784],\n",
       "        [  55.62719432],\n",
       "        [  61.7999654 ],\n",
       "        [  56.20291425],\n",
       "        [  79.7687722 ],\n",
       "        [ 101.72146212],\n",
       "        [ 332.66455417],\n",
       "        [  65.48570932],\n",
       "        [  98.66137914],\n",
       "        [  82.45460932],\n",
       "        [  93.67671291],\n",
       "        [ 106.54411664],\n",
       "        [  81.09324377],\n",
       "        [  90.35416586],\n",
       "        [  76.1976894 ],\n",
       "        [  73.79460856],\n",
       "        [  89.94587348],\n",
       "        [  75.32779498],\n",
       "        [  82.96560477],\n",
       "        [  96.6931634 ],\n",
       "        [ 105.78940894],\n",
       "        [ 101.63606501],\n",
       "        [  96.66200638],\n",
       "        [  82.18734083],\n",
       "        [  88.03659227],\n",
       "        [ 140.24090644],\n",
       "        [ 101.06286087]]),\n",
       " -1077.1794386689985)"
      ]
     },
     "execution_count": 198,
     "metadata": {},
     "output_type": "execute_result"
    }
   ],
   "source": [
    "Test_sensor_1.test(x1, y1, metric)"
   ]
  },
  {
   "cell_type": "code",
   "execution_count": 199,
   "id": "9c3d3278-ae8c-457d-a886-6c687557357d",
   "metadata": {},
   "outputs": [
    {
     "name": "stdout",
     "output_type": "stream",
     "text": [
      "      Coefficient of determination\n",
      "Test                  -1077.179439\n"
     ]
    },
    {
     "data": {
      "image/png": "[encoded data removed]",
      "text/plain": [
       "<Figure size 640x480 with 1 Axes>"
      ]
     },
     "metadata": {},
     "output_type": "display_data"
    }
   ],
   "source": [
    "test_visual.visualize([Test_sensor_1])"
   ]
  }
 ],
 "metadata": {
  "kernelspec": {
   "display_name": "Python 3 (ipykernel)",
   "language": "python",
   "name": "python3"
  },
  "language_info": {
   "codemirror_mode": {
    "name": "ipython",
    "version": 3
   },
   "file_extension": ".py",
   "mimetype": "text/x-python",
   "name": "python",
   "nbconvert_exporter": "python",
   "pygments_lexer": "ipython3",
   "version": "3.11.7"
  }
 },
 "nbformat": 4,
 "nbformat_minor": 5
}
