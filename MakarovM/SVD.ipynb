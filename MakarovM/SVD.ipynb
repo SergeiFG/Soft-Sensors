{
 "cells": [
  {
   "cell_type": "code",
   "execution_count": 139,
   "id": "46860f3b-616a-4e90-a966-3e9ede9748d6",
   "metadata": {},
   "outputs": [],
   "source": [
    "import numpy as np\n",
    "import pandas as pd\n",
    "from abc import ABC\n",
    "from abc import abstractmethod\n",
    "import sys\n",
    "sys.path.append(\"..\")\n",
    "import Essentials\n",
    "from numpy.linalg import svd"
   ]
  },
  {
   "cell_type": "code",
   "execution_count": 140,
   "id": "0ad2493c-ae9d-43a0-a207-b3656a97d391",
   "metadata": {},
   "outputs": [],
   "source": [
    "data = np.load(\"C:/Users/PC/Downloads/Data_First.npz\",allow_pickle=True)"
   ]
  },
  {
   "cell_type": "code",
   "execution_count": 141,
   "id": "00196184-03c3-40b6-8d64-8d8e234690f4",
   "metadata": {},
   "outputs": [],
   "source": [
    "x1 = data['X_test_1']\n",
    "x2 = data['X_train_1']\n",
    "\n",
    "y1 = data['Y_test_1']\n",
    "y2 = data['Y_train_1']"
   ]
  },
  {
   "cell_type": "code",
   "execution_count": 142,
   "id": "e1b7210f-1eb7-49ff-b394-0e203a52a881",
   "metadata": {},
   "outputs": [
    {
     "name": "stderr",
     "output_type": "stream",
     "text": [
      "C:\\Users\\PC\\AppData\\Local\\Temp\\ipykernel_7080\\3146428066.py:5: DeprecationWarning: Conversion of an array with ndim > 0 to a scalar is deprecated, and will error in future. Ensure you extract a single element from your array before performing this operation. (Deprecated NumPy 1.25.)\n",
      "  y1 = y1.astype(np.float64)\n",
      "C:\\Users\\PC\\AppData\\Local\\Temp\\ipykernel_7080\\3146428066.py:7: DeprecationWarning: Conversion of an array with ndim > 0 to a scalar is deprecated, and will error in future. Ensure you extract a single element from your array before performing this operation. (Deprecated NumPy 1.25.)\n",
      "  y2 = y2.astype(np.float64)\n"
     ]
    }
   ],
   "source": [
    "timestamp1 = y1[:, 1]\n",
    "timestamp2 = y2[:, 1]\n",
    "\n",
    "y1 = y1[:, 0].reshape(len(y1), 1)\n",
    "y1 = y1.astype(np.float64)\n",
    "y2 = y2[:, 0].reshape(len(y2), 1)\n",
    "y2 = y2.astype(np.float64)"
   ]
  },
  {
   "cell_type": "code",
   "execution_count": 143,
   "id": "1e8b64f8-019b-4c22-b11e-b5f943d5b736",
   "metadata": {},
   "outputs": [
    {
     "data": {
      "text/plain": [
       "(74, 1)"
      ]
     },
     "execution_count": 143,
     "metadata": {},
     "output_type": "execute_result"
    }
   ],
   "source": [
    "y1.shape"
   ]
  },
  {
   "cell_type": "code",
   "execution_count": 144,
   "id": "efbf4235-fccf-4e60-b5f3-d93fb02d7060",
   "metadata": {},
   "outputs": [
    {
     "data": {
      "text/plain": [
       "(74, 1)"
      ]
     },
     "execution_count": 144,
     "metadata": {},
     "output_type": "execute_result"
    }
   ],
   "source": [
    "y1.shape"
   ]
  },
  {
   "cell_type": "code",
   "execution_count": 180,
   "id": "976104cd-bbbe-44cc-81f9-5b20f02a2508",
   "metadata": {},
   "outputs": [],
   "source": [
    "class PLSSVD(Essentials.SoftSensor):\n",
    "    def __init__(self, X_train: np.ndarray, Y_train: np.ndarray):\n",
    "        super().__init__('Test')\n",
    "        self.n_components = 2\n",
    "        self.coefficients = None\n",
    "        self.intercept = None\n",
    "        self.train(X_train, Y_train)  # Вызов метода обучения прямо из конструктора\n",
    "\n",
    "    def prepocessing(self, X):\n",
    "        if self.means is None or self.stds is None:\n",
    "            raise RuntimeError(\"Model has not been trained yet.\")\n",
    "        return (X - self.means) / self.stds\n",
    "\n",
    "    def postprocessing(self, Y_pred):\n",
    "        return Y_pred\n",
    "\n",
    "    def evaluate_model(self, X):\n",
    "        X_centered_scaled = self.prepocessing(X)\n",
    "        return np.dot(X_centered_scaled, self.coefficients) + self.intercept\n",
    "\n",
    "    def train(self, X, Y):\n",
    "        self.means = np.mean(X, axis=0)\n",
    "        self.stds = np.std(X, axis=0)\n",
    "        X_centered_scaled = self.prepocessing(X)\n",
    "\n",
    "        Y_mean = np.mean(Y, axis=0)\n",
    "        Y_centered = Y - Y_mean\n",
    "        \n",
    "        U, s, V = np.linalg.svd(X_centered_scaled, full_matrices=False)\n",
    "        T = U[:, :self.n_components]\n",
    "        self.weights = np.dot(T.T, Y_centered)\n",
    "\n",
    "        B = V[:self.n_components, :].T / s[:self.n_components]\n",
    "        self.coefficients = np.dot(B, self.weights)\n",
    "        self.coefficients = self.coefficients.ravel()\n",
    "        self.intercept = Y_mean - np.dot(self.means / self.stds, self.coefficients)\n",
    "        \n",
    "        self.set_model((self.coefficients, self.intercept))\n",
    "        \n",
    "    def __str__(self):\n",
    "        return f\"Intercept: {self.intercept}, Cofficients:{self.coefficients}\""
   ]
  },
  {
   "cell_type": "code",
   "execution_count": 181,
   "id": "61578a1e-e04e-4efd-b2d9-0b86dc74fbc0",
   "metadata": {},
   "outputs": [],
   "source": [
    "Test_sensor_1 = PLSSVD(x2, y2)"
   ]
  },
  {
   "cell_type": "code",
   "execution_count": 182,
   "id": "d02083f1-4647-4e02-bc1a-fba9773a3d5b",
   "metadata": {},
   "outputs": [
    {
     "name": "stdout",
     "output_type": "stream",
     "text": [
      "Intercept: [-26.58881327], Cofficients:[ 8.07516832e-02  6.66891450e-03 -5.33835789e-02  5.85839761e-02\n",
      " -2.95392312e-02  8.04751472e-02 -9.46092342e-03  3.54263830e-02\n",
      "  6.10212147e-02  3.87335809e-02  6.80251788e-02  6.10212147e-02\n",
      " -7.28282809e-03  6.65801185e-02  6.69012788e-02  8.70782214e-02\n",
      "  7.68153813e-02  4.75059848e-02  5.86705757e-02 -8.51085416e-02\n",
      " -2.29483273e-16  2.21074543e-02  6.26303218e-03 -2.65831973e-02\n",
      "  6.75040909e-02  7.82833869e-02  6.03831343e-02  4.57886557e-02\n",
      " -6.22842952e-02  7.18756928e-02 -2.27144624e-02  4.75710413e-02\n",
      " -8.95565363e-03  9.57080724e-03  8.51336514e-02  8.14907601e-02\n",
      "  8.58230802e-04  4.58823985e-02 -1.64875712e-02  3.49002757e-02\n",
      "  1.22097891e-02  1.44411284e-02  3.91832013e-02  4.52792969e-02\n",
      "  7.08786278e-02  5.23033841e-02  5.83731872e-02  6.69012788e-02\n",
      "  5.06232231e-02  5.29331742e-02  8.49363175e-02  8.30211989e-02\n",
      "  5.42946608e-02  8.51743156e-02  4.67423444e-02  8.52278848e-02\n",
      "  4.74529304e-02  8.61549553e-02  5.19498384e-02 -9.39515278e-03\n",
      "  7.02618745e-02  7.70231912e-02  8.10142807e-02  7.22468755e-02\n",
      "  4.45771699e-02  2.41758768e-02  4.20167803e-02  4.60968839e-02\n",
      " -4.98472840e-02 -6.35801314e-03  6.20084491e-03  1.24247562e-02\n",
      "  4.62731569e-02  2.55989822e-02 -1.00521813e-02  6.87499316e-04\n",
      "  7.26273463e-03  1.21885042e-04 -1.48379227e-02 -3.21745652e-03\n",
      "  8.49782588e-02  6.85985298e-02  2.55207476e-02  4.42280855e-02\n",
      "  2.28453119e-02 -1.93026034e-02  3.74440963e-02  5.17621031e-02\n",
      "  7.69691691e-02 -3.51393507e-02  7.56485586e-02  8.14907601e-02\n",
      "  2.12907725e-02  3.78165717e-02 -4.70677760e-03  4.45160741e-02\n",
      " -1.17246831e-02 -1.46898433e-02]\n"
     ]
    }
   ],
   "source": [
    "print(Test_sensor_1)"
   ]
  },
  {
   "cell_type": "code",
   "execution_count": null,
   "id": "d47b9b6c-1d5a-4844-b94a-48a37b3f11ab",
   "metadata": {},
   "outputs": [],
   "source": []
  }
 ],
 "metadata": {
  "kernelspec": {
   "display_name": "Python 3 (ipykernel)",
   "language": "python",
   "name": "python3"
  },
  "language_info": {
   "codemirror_mode": {
    "name": "ipython",
    "version": 3
   },
   "file_extension": ".py",
   "mimetype": "text/x-python",
   "name": "python",
   "nbconvert_exporter": "python",
   "pygments_lexer": "ipython3",
   "version": "3.11.7"
  }
 },
 "nbformat": 4,
 "nbformat_minor": 5
}
