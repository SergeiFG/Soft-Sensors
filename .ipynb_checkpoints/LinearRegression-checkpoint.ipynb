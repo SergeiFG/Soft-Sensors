{
 "cells": [
  {
   "cell_type": "code",
   "execution_count": 130,
   "id": "3f5a6dbc-4234-4b2c-823c-fa7ca36746a5",
   "metadata": {},
   "outputs": [],
   "source": [
    "import numpy as np\n",
    "from sklearn.preprocessing import StandardScaler\n",
    "from sklearn.linear_model import LinearRegression"
   ]
  },
  {
   "cell_type": "code",
   "execution_count": 131,
   "id": "f8e15ece-04fc-49ce-8559-ff6a90cb27d9",
   "metadata": {},
   "outputs": [],
   "source": [
    "import sys\n",
    "sys.path.append(\"..\")\n",
    "\n",
    "import Essentials"
   ]
  },
  {
   "cell_type": "code",
   "execution_count": 132,
   "id": "e067997d-4b5b-4d53-a777-677ac6daf648",
   "metadata": {},
   "outputs": [],
   "source": [
    "data_archive = np.load('Data_Average.npz', allow_pickle=True)"
   ]
  },
  {
   "cell_type": "code",
   "execution_count": 133,
   "id": "8258b3e1-7e8c-4b63-a580-44dba40adfe4",
   "metadata": {},
   "outputs": [],
   "source": [
    "def prepare_Y(y):\n",
    "    timestamp = y[:, 1]   \n",
    "    y = y[:, 0].reshape(len(y), 1)\n",
    "    y = y.astype(np.float64)\n",
    "\n",
    "    return y, timestamp"
   ]
  },
  {
   "cell_type": "code",
   "execution_count": 134,
   "id": "c8575894-37e3-42d5-9223-a625b504b9bb",
   "metadata": {},
   "outputs": [
    {
     "name": "stderr",
     "output_type": "stream",
     "text": [
      "C:\\Users\\PC\\AppData\\Local\\Temp\\ipykernel_17484\\4096890530.py:4: DeprecationWarning: Conversion of an array with ndim > 0 to a scalar is deprecated, and will error in future. Ensure you extract a single element from your array before performing this operation. (Deprecated NumPy 1.25.)\n",
      "  y = y.astype(np.float64)\n"
     ]
    }
   ],
   "source": [
    "X_test_1 = data_archive['X_test_1']\n",
    "X_train_1 = data_archive['X_train_1']\n",
    "\n",
    "X_test_2 = data_archive['X_test_2']\n",
    "X_train_2 = data_archive['X_train_2']\n",
    "\n",
    "X_test_3 = data_archive['X_test_3']\n",
    "X_train_3 = data_archive['X_train_3']\n",
    "\n",
    "Y_test_1, timestamp_test_1 = prepare_Y(data_archive['Y_test_1'])\n",
    "Y_train_1, timestamp_train_1 = prepare_Y(data_archive['Y_train_1'])\n",
    "\n",
    "Y_test_2, timestamp_test_2 = prepare_Y(data_archive['Y_test_2'])\n",
    "Y_train_2, timestamp_train_2 = prepare_Y(data_archive['Y_train_2'])\n",
    "\n",
    "Y_test_3, timestamp_test_3 = prepare_Y(data_archive['Y_test_3'])\n",
    "Y_train_3, timestamp_train_3 = prepare_Y(data_archive['Y_train_3'])"
   ]
  },
  {
   "cell_type": "code",
   "execution_count": 135,
   "id": "ed518030-d02a-43af-be8f-ddd0ed527a6f",
   "metadata": {},
   "outputs": [],
   "source": [
    "class LR(Essentials.SoftSensor):\n",
    "    def __init__(self, name, x_train, y_train):\n",
    "        super().__init__(name)\n",
    "        self.x_scaler = StandardScaler() \n",
    "        self.y_scaler = StandardScaler()\n",
    "        self.fit_scaler(x_train, y_train)\n",
    "        self.train(x_train,y_train)\n",
    "        \n",
    "    def prepocessing(self, x):\n",
    "        try:\n",
    "            return self.x_scaler.transform(x)\n",
    "        except:\n",
    "            try:\n",
    "                return self.y_scaler.transform(x)\n",
    "            except BaseException as err:\n",
    "                print(\"Ошибка скейлера\")\n",
    "                raise err\n",
    "        \n",
    "            \n",
    "    def fit_scaler(self, x_train, y_train):\n",
    "        self.x_scaler.fit(x_train)\n",
    "        self.y_scaler.fit(y_train)\n",
    "\n",
    "    \n",
    "    def postprocessing(self, x):\n",
    "        try:\n",
    "            return self.x_scaler.inverse_transform(x)\n",
    "        except:\n",
    "            try:\n",
    "                return self.y_scaler.inverse_transform(x)\n",
    "            except BaseException as err:\n",
    "                print(\"Ошибка скейлера\")\n",
    "                raise err\n",
    "\n",
    "\n",
    "    def evaluate_model(self, x):\n",
    "        predictions = self.get_model().predict(x)\n",
    "        return predictions.reshape(-1, 1)\n",
    "\n",
    "\n",
    "    def train(self, x_train, y_train):\n",
    "        model = LinearRegression()\n",
    "        x_train = self.prepocessing(x_train)\n",
    "        y_train = self.prepocessing(y_train)\n",
    "        model.fit(x_train,y_train)\n",
    "        self.set_model(model)\n",
    "    \n",
    "    def __str__(self):\n",
    "        return f\"Коэффициенты линейной регрссии = {self.get_model().coef_.reshape(-1,1)}, Свободный член = {self.postprocessing(self.get_model().intercept_.reshape(-1, 1))}\""
   ]
  },
  {
   "cell_type": "code",
   "execution_count": 136,
   "id": "e66100f5-2ec9-4bae-b3a5-58940b8a087f",
   "metadata": {},
   "outputs": [],
   "source": [
    "metric = Essentials.R2Metric()"
   ]
  },
  {
   "cell_type": "code",
   "execution_count": 137,
   "id": "f57bc74c-8f25-4e47-81c7-0e63b7986455",
   "metadata": {},
   "outputs": [],
   "source": [
    "LR_test = LR('Конец кипения легкого бензина', X_train_2, Y_train_2)"
   ]
  },
  {
   "cell_type": "code",
   "execution_count": 138,
   "id": "13bd8fa3-2df4-41e5-bfa1-c9bd6752c869",
   "metadata": {},
   "outputs": [
    {
     "name": "stdout",
     "output_type": "stream",
     "text": [
      "Коэффициенты линейной регрссии = [[-4.33797099]\n",
      " [-0.23428483]\n",
      " [ 0.05314872]\n",
      " [-0.96300944]\n",
      " [-0.46821175]\n",
      " [-6.80420747]\n",
      " [ 7.802615  ]\n",
      " [ 0.95380326]\n",
      " [ 0.39410908]\n",
      " [ 4.87629808]\n",
      " [ 1.9202795 ]\n",
      " [ 1.1931078 ]\n",
      " [-0.20811859]\n",
      " [-6.08393973]\n",
      " [ 1.0674516 ]\n",
      " [ 1.30274071]\n",
      " [ 1.88716788]\n",
      " [ 0.74029529]\n",
      " [ 0.94480573]\n",
      " [-0.95456231]\n",
      " [ 0.55352102]\n",
      " [-0.18038436]\n",
      " [ 0.19299645]\n",
      " [-0.03791939]\n",
      " [ 1.37949041]\n",
      " [-0.20944747]\n",
      " [-0.15679744]\n",
      " [ 0.2529647 ]\n",
      " [-2.10533483]\n",
      " [ 0.19693124]\n",
      " [ 0.36646818]\n",
      " [-0.44560703]\n",
      " [ 0.63213797]\n",
      " [-0.37558791]\n",
      " [ 0.17275292]\n",
      " [-0.05477792]\n",
      " [ 0.39120397]\n",
      " [-0.06413582]\n",
      " [ 1.37949041]\n",
      " [ 2.83693931]\n",
      " [-0.17473706]\n",
      " [ 0.0264865 ]\n",
      " [-0.24875866]\n",
      " [-4.53266198]\n",
      " [ 0.41638297]], Свободный член = [[90.26666667]]\n"
     ]
    }
   ],
   "source": [
    "print(LR_test)"
   ]
  },
  {
   "cell_type": "code",
   "execution_count": 139,
   "id": "5ea9ab0a-94e8-4ee5-91bf-0ea5fdcdb637",
   "metadata": {},
   "outputs": [
    {
     "data": {
      "text/plain": [
       "(array([[-1566.67877443],\n",
       "        [-1465.99198838],\n",
       "        [ -223.04364018],\n",
       "        [   93.33762832],\n",
       "        [   55.25314542],\n",
       "        [   85.09143735],\n",
       "        [   65.08710511],\n",
       "        [   86.38844158],\n",
       "        [   51.20748805],\n",
       "        [   70.95055623],\n",
       "        [   68.66988127],\n",
       "        [   73.94381564],\n",
       "        [   82.38899075],\n",
       "        [  107.11398283],\n",
       "        [  153.05792388],\n",
       "        [   75.24221816],\n",
       "        [  105.25899442],\n",
       "        [   95.77276581],\n",
       "        [  101.50976086],\n",
       "        [  103.53625946],\n",
       "        [   92.33475309],\n",
       "        [   95.82029305],\n",
       "        [   72.26742063],\n",
       "        [   81.80079269],\n",
       "        [   94.85234263],\n",
       "        [   87.80603004],\n",
       "        [   83.751664  ],\n",
       "        [  100.86574404],\n",
       "        [  116.0004021 ],\n",
       "        [  117.12695541],\n",
       "        [  100.43491697],\n",
       "        [   86.65360604],\n",
       "        [   94.19513015],\n",
       "        [  127.64952164],\n",
       "        [  111.77853205]]),\n",
       " -2777.418563401205)"
      ]
     },
     "execution_count": 139,
     "metadata": {},
     "output_type": "execute_result"
    }
   ],
   "source": [
    "LR_test.test(X_test_2, Y_test_2, metric)"
   ]
  },
  {
   "cell_type": "code",
   "execution_count": 140,
   "id": "b45909f5-7aec-4027-9542-9f49d3277b26",
   "metadata": {},
   "outputs": [],
   "source": [
    "LR_test_visual = Essentials.Visualizer(X_test_2, Y_test_2, timestamp_test_2, [metric], '...')"
   ]
  },
  {
   "cell_type": "code",
   "execution_count": 141,
   "id": "6e1005ad-9108-4806-b5d7-67bbb0d5051f",
   "metadata": {},
   "outputs": [
    {
     "name": "stdout",
     "output_type": "stream",
     "text": [
      "                               Coefficient of determination\n",
      "Конец кипения легкого бензина                  -2777.418563\n"
     ]
    },
    {
     "data": {
      "image/png": "[encoded data removed]",
      "text/plain": [
       "<Figure size 640x480 with 1 Axes>"
      ]
     },
     "metadata": {},
     "output_type": "display_data"
    }
   ],
   "source": [
    "LR_test_visual.visualize([LR_test])"
   ]
  }
 ],
 "metadata": {
  "kernelspec": {
   "display_name": "Python 3 (ipykernel)",
   "language": "python",
   "name": "python3"
  },
  "language_info": {
   "codemirror_mode": {
    "name": "ipython",
    "version": 3
   },
   "file_extension": ".py",
   "mimetype": "text/x-python",
   "name": "python",
   "nbconvert_exporter": "python",
   "pygments_lexer": "ipython3",
   "version": "3.11.7"
  }
 },
 "nbformat": 4,
 "nbformat_minor": 5
}
