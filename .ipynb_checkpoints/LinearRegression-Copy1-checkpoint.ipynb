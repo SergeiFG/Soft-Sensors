{
 "cells": [
  {
   "cell_type": "code",
   "execution_count": 73,
   "id": "fd089e5c-073c-4899-b1fc-e51d8550cc19",
   "metadata": {},
   "outputs": [],
   "source": [
    "import sys\n",
    "sys.path.append(\"..\")\n",
    "import Essentials"
   ]
  },
  {
   "cell_type": "code",
   "execution_count": 74,
   "id": "13d89c2c-e559-41ad-bff9-dbc07c7793bc",
   "metadata": {},
   "outputs": [],
   "source": [
    "import numpy as np\n",
    "from sklearn.preprocessing import StandardScaler\n",
    "from sklearn.linear_model import LinearRegression\n",
    "from sklearn.preprocessing import PolynomialFeatures"
   ]
  },
  {
   "cell_type": "code",
   "execution_count": 75,
   "id": "dd53eeb4-e972-45e1-850d-de1c2920ca30",
   "metadata": {},
   "outputs": [],
   "source": [
    "a = np.load('Data_First.npz', allow_pickle=True)"
   ]
  },
  {
   "cell_type": "code",
   "execution_count": 76,
   "id": "ea1726ec-2d6e-4e3f-85da-1ed6f0b48172",
   "metadata": {},
   "outputs": [],
   "source": [
    "x1 = a['X_test_3']\n",
    "x2 = a['X_train_3']\n",
    "\n",
    "y1 = a['Y_test_3']\n",
    "y2 = a['Y_train_3']"
   ]
  },
  {
   "cell_type": "code",
   "execution_count": 77,
   "id": "0c876d2c-d134-497d-ae6b-5d0227621837",
   "metadata": {},
   "outputs": [
    {
     "name": "stderr",
     "output_type": "stream",
     "text": [
      "C:\\Users\\PC\\AppData\\Local\\Temp\\ipykernel_7616\\3146428066.py:5: DeprecationWarning: Conversion of an array with ndim > 0 to a scalar is deprecated, and will error in future. Ensure you extract a single element from your array before performing this operation. (Deprecated NumPy 1.25.)\n",
      "  y1 = y1.astype(np.float64)\n",
      "C:\\Users\\PC\\AppData\\Local\\Temp\\ipykernel_7616\\3146428066.py:7: DeprecationWarning: Conversion of an array with ndim > 0 to a scalar is deprecated, and will error in future. Ensure you extract a single element from your array before performing this operation. (Deprecated NumPy 1.25.)\n",
      "  y2 = y2.astype(np.float64)\n"
     ]
    }
   ],
   "source": [
    "timestamp1 = y1[:, 1]\n",
    "timestamp2 = y2[:, 1]\n",
    "\n",
    "y1 = y1[:, 0].reshape(len(y1), 1)\n",
    "y1 = y1.astype(np.float64)\n",
    "y2 = y2[:, 0].reshape(len(y2), 1)\n",
    "y2 = y2.astype(np.float64)"
   ]
  },
  {
   "cell_type": "code",
   "execution_count": 78,
   "id": "b449c11b-3492-491d-be77-5973b9bd8d0d",
   "metadata": {},
   "outputs": [
    {
     "data": {
      "text/plain": [
       "(78, 81)"
      ]
     },
     "execution_count": 78,
     "metadata": {},
     "output_type": "execute_result"
    }
   ],
   "source": [
    "x1.shape"
   ]
  },
  {
   "cell_type": "code",
   "execution_count": 79,
   "id": "2a0f8950-7408-41c6-ae1b-7341fcf8059c",
   "metadata": {},
   "outputs": [],
   "source": [
    "class TestSoftSensor(Essentials.SoftSensor):\n",
    "    def __init__(self, x_train, y_train):\n",
    "        super().__init__('Test')\n",
    "        self.x_scaler = StandardScaler() \n",
    "        self.y_scaler = StandardScaler()\n",
    "        self.deleted_rows = None\n",
    "        self.data_size = x_train.shape[1]\n",
    "        self.fit_scaler(x_train, y_train)\n",
    "        self.train(x_train, y_train)\n",
    "\n",
    "\n",
    "    def prepocessing(self, x):\n",
    "        try:\n",
    "            trunc_x = np.delete(x, self.deleted_rows, 1)\n",
    "            return self.x_scaler.transform(trunc_x)\n",
    "        except:\n",
    "            try:\n",
    "               return self.y_scaler.transform(x)\n",
    "            except BaseException as err:\n",
    "                print(\"Ошибка скейлера\")\n",
    "                raise err\n",
    "\n",
    "\n",
    "    def postprocessing(self, x):\n",
    "        try:\n",
    "            return self.x_scaler.inverse_transform(x)\n",
    "        except:\n",
    "            try:\n",
    "                return self.y_scaler.inverse_transform(x)\n",
    "            except BaseException as err:\n",
    "                print(\"Ошибка скейлера\")\n",
    "                raise err\n",
    "    \n",
    "    def fit_scaler(self, x_train, y_train):\n",
    "        self.x_scaler.fit(x_train)\n",
    "        tmp = [(var < 0.01 or var > 100) for var in self.x_scaler.var_]\n",
    "        self.deleted_rows = [i for i, x in enumerate(tmp) if x]\n",
    "        trunc_x = np.delete(x_train, self.deleted_rows, 1)\n",
    "        self.x_scaler.fit(trunc_x)\n",
    "        self.data_size = trunc_x.shape[1]\n",
    "        self.y_scaler.fit(y_train)\n",
    "\n",
    "    def evaluate_model(self, x):\n",
    "        predictions = self.get_model().predict(x)\n",
    "        return predictions\n",
    "\n",
    "    def train(self, x_train, y_train):\n",
    "        model = LinearRegression()\n",
    "        preproc_y = self.prepocessing(y_train)\n",
    "        preproc_x = self.prepocessing(x_train)\n",
    "        model.fit(preproc_x,preproc_y)\n",
    "        self.set_model(model)\n",
    "\n",
    "    def __str__(self):\n",
    "        pass"
   ]
  },
  {
   "cell_type": "code",
   "execution_count": 80,
   "id": "02fc1be8-6972-4342-9162-22d026a3fc3f",
   "metadata": {},
   "outputs": [],
   "source": [
    "Test_sensor_1 = TestSoftSensor(x2, y2)"
   ]
  },
  {
   "cell_type": "code",
   "execution_count": 81,
   "id": "21906484-b1b4-4967-b139-fd9f64d7713f",
   "metadata": {},
   "outputs": [],
   "source": [
    "metric = Essentials.R2Metric()"
   ]
  },
  {
   "cell_type": "code",
   "execution_count": 82,
   "id": "f099746f-6767-43eb-bbd2-cdd26d7461b2",
   "metadata": {},
   "outputs": [
    {
     "data": {
      "text/plain": [
       "(array([[30.57770874],\n",
       "        [26.64709244],\n",
       "        [27.14045039],\n",
       "        [24.06875698],\n",
       "        [23.14947764],\n",
       "        [22.73572471],\n",
       "        [25.44090846],\n",
       "        [24.59160128],\n",
       "        [26.36463167],\n",
       "        [26.30711679],\n",
       "        [27.24092783],\n",
       "        [23.615774  ],\n",
       "        [23.24595365],\n",
       "        [27.59523572],\n",
       "        [26.11648012],\n",
       "        [28.66431251],\n",
       "        [28.78966557],\n",
       "        [29.55325357],\n",
       "        [30.4156715 ],\n",
       "        [31.18560243],\n",
       "        [30.43348455],\n",
       "        [28.55435366],\n",
       "        [35.88355134],\n",
       "        [27.34142974],\n",
       "        [29.33487775],\n",
       "        [31.84936352],\n",
       "        [32.13613909],\n",
       "        [30.85144054],\n",
       "        [29.70868731],\n",
       "        [26.98514019],\n",
       "        [26.85411495],\n",
       "        [25.75834126],\n",
       "        [23.82523024],\n",
       "        [19.55338313],\n",
       "        [25.2550093 ],\n",
       "        [28.9912643 ],\n",
       "        [29.76208748],\n",
       "        [31.6128753 ],\n",
       "        [30.24340703],\n",
       "        [30.30404508],\n",
       "        [29.95630789],\n",
       "        [30.6422833 ],\n",
       "        [30.15839126],\n",
       "        [30.21794246],\n",
       "        [29.39541393],\n",
       "        [30.31233086],\n",
       "        [31.555554  ],\n",
       "        [32.18607311],\n",
       "        [30.01402174],\n",
       "        [29.77569096],\n",
       "        [28.19619409],\n",
       "        [28.92792416],\n",
       "        [28.99829572],\n",
       "        [29.03148585],\n",
       "        [27.27862166],\n",
       "        [28.40868459],\n",
       "        [27.005617  ],\n",
       "        [26.06255031],\n",
       "        [22.76773639],\n",
       "        [22.78544713],\n",
       "        [25.14174005],\n",
       "        [24.87836798],\n",
       "        [26.46340705],\n",
       "        [25.26406776],\n",
       "        [27.54257343],\n",
       "        [28.26264379],\n",
       "        [28.08161603],\n",
       "        [27.17573385],\n",
       "        [27.10975633],\n",
       "        [28.97325778],\n",
       "        [25.84407155],\n",
       "        [26.20628537],\n",
       "        [29.61144035],\n",
       "        [25.88876812],\n",
       "        [28.47629304],\n",
       "        [24.88104355],\n",
       "        [27.53967806],\n",
       "        [28.8454504 ]]),\n",
       " -0.0365828698815418)"
      ]
     },
     "execution_count": 82,
     "metadata": {},
     "output_type": "execute_result"
    }
   ],
   "source": [
    "Test_sensor_1.test(x1, y1, metric)"
   ]
  },
  {
   "cell_type": "code",
   "execution_count": 83,
   "id": "0b48c9ad-d2a5-46f9-9843-b7e4268f8ec6",
   "metadata": {},
   "outputs": [],
   "source": [
    "test_visual = Essentials.Visualizer(x1, y1, timestamp1, [metric], 'Test SoftSensor R2 metric')"
   ]
  },
  {
   "cell_type": "code",
   "execution_count": 84,
   "id": "a7798926-9355-4dd0-97cd-694cae409f92",
   "metadata": {},
   "outputs": [
    {
     "name": "stdout",
     "output_type": "stream",
     "text": [
      "      Coefficient of determination\n",
      "Test                     -0.036583\n"
     ]
    },
    {
     "data": {
      "image/png": "[encoded data removed]",
      "text/plain": [
       "<Figure size 640x480 with 1 Axes>"
      ]
     },
     "metadata": {},
     "output_type": "display_data"
    }
   ],
   "source": [
    "test_visual.visualize([Test_sensor_1])"
   ]
  }
 ],
 "metadata": {
  "kernelspec": {
   "display_name": "Python 3 (ipykernel)",
   "language": "python",
   "name": "python3"
  },
  "language_info": {
   "codemirror_mode": {
    "name": "ipython",
    "version": 3
   },
   "file_extension": ".py",
   "mimetype": "text/x-python",
   "name": "python",
   "nbconvert_exporter": "python",
   "pygments_lexer": "ipython3",
   "version": "3.11.7"
  }
 },
 "nbformat": 4,
 "nbformat_minor": 5
}
