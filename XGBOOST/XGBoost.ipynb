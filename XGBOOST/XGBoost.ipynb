{
 "cells": [
  {
   "cell_type": "code",
   "execution_count": 609,
   "id": "fd089e5c-073c-4899-b1fc-e51d8550cc19",
   "metadata": {},
   "outputs": [],
   "source": [
    "import sys\n",
    "sys.path.append(\"..\")\n",
    "\n",
    "import Essentials"
   ]
  },
  {
   "cell_type": "code",
   "execution_count": 610,
   "id": "13d89c2c-e559-41ad-bff9-dbc07c7793bc",
   "metadata": {},
   "outputs": [],
   "source": [
    "import numpy as np\n",
    "from sklearn.linear_model import LinearRegression\n",
    "import xgboost as xgb\n",
    "from sklearn.preprocessing import StandardScaler\n",
    "from sklearn.model_selection import RandomizedSearchCV\n",
    "from sklearn.metrics import r2_score"
   ]
  },
  {
   "cell_type": "code",
   "execution_count": 611,
   "id": "dd53eeb4-e972-45e1-850d-de1c2920ca30",
   "metadata": {},
   "outputs": [],
   "source": [
    "data_archive = np.load('../Data_First.npz', allow_pickle=True)"
   ]
  },
  {
   "cell_type": "code",
   "execution_count": 612,
   "id": "25214361-3a31-4b64-8533-72d964db39ae",
   "metadata": {},
   "outputs": [],
   "source": [
    "def prepare_Y(y):\n",
    "    timestamp = y[:, 1]   \n",
    "    y = y[:, 0].reshape(len(y), 1)\n",
    "    y = y.astype(np.float64)\n",
    "\n",
    "    return y, timestamp"
   ]
  },
  {
   "cell_type": "code",
   "execution_count": 613,
   "id": "ea1726ec-2d6e-4e3f-85da-1ed6f0b48172",
   "metadata": {},
   "outputs": [
    {
     "name": "stderr",
     "output_type": "stream",
     "text": [
      "C:\\Users\\PC\\AppData\\Local\\Temp\\ipykernel_1468\\4096890530.py:4: DeprecationWarning: Conversion of an array with ndim > 0 to a scalar is deprecated, and will error in future. Ensure you extract a single element from your array before performing this operation. (Deprecated NumPy 1.25.)\n",
      "  y = y.astype(np.float64)\n"
     ]
    }
   ],
   "source": [
    "X_test_1 = data_archive['X_test_1']\n",
    "X_train_1 = data_archive['X_train_1']\n",
    "\n",
    "X_test_2 = data_archive['X_test_2']\n",
    "X_train_2 = data_archive['X_train_2']\n",
    "\n",
    "X_test_3 = data_archive['X_test_3']\n",
    "X_train_3 = data_archive['X_train_3']\n",
    "\n",
    "Y_test_1, timestamp_test_1 = prepare_Y(data_archive['Y_test_1'])\n",
    "Y_train_1, timestamp_train_1 = prepare_Y(data_archive['Y_train_1'])\n",
    "\n",
    "Y_test_2, timestamp_test_2 = prepare_Y(data_archive['Y_test_2'])\n",
    "Y_train_2, timestamp_train_2 = prepare_Y(data_archive['Y_train_2'])\n",
    "\n",
    "Y_test_3, timestamp_test_3 = prepare_Y(data_archive['Y_test_3'])\n",
    "Y_train_3, timestamp_train_3 = prepare_Y(data_archive['Y_train_3'])"
   ]
  },
  {
   "cell_type": "code",
   "execution_count": 614,
   "id": "dc51f014-c102-4415-b954-85ee6b3b47f1",
   "metadata": {},
   "outputs": [
    {
     "data": {
      "text/plain": [
       "(75, 1)"
      ]
     },
     "execution_count": 614,
     "metadata": {},
     "output_type": "execute_result"
    }
   ],
   "source": [
    "Y_train_2.shape"
   ]
  },
  {
   "cell_type": "code",
   "execution_count": 615,
   "id": "ae7e0f48-59a2-4703-abe4-7b7c5d1882eb",
   "metadata": {},
   "outputs": [
    {
     "data": {
      "text/plain": [
       "(75, 45)"
      ]
     },
     "execution_count": 615,
     "metadata": {},
     "output_type": "execute_result"
    }
   ],
   "source": [
    "X_train_2.shape"
   ]
  },
  {
   "cell_type": "code",
   "execution_count": 616,
   "id": "2a0f8950-7408-41c6-ae1b-7341fcf8059c",
   "metadata": {},
   "outputs": [],
   "source": [
    "class XGBoost(Essentials.SoftSensor):\n",
    "    def __init__(self, x_train, y_train):\n",
    "        super().__init__('Test')\n",
    "        self.model = xgb.XGBRegressor()\n",
    "        self.x_scaler = StandardScaler() \n",
    "        self.y_scaler = StandardScaler()\n",
    "        self.fit_scaler(x_train, y_train)\n",
    "        self.RandomizedSearchCV(x_train, y_train)\n",
    "        self.train(x_train, y_train)\n",
    "        self.set_model(self.model)\n",
    "\n",
    "    def prepocessing(self, x):\n",
    "        try:\n",
    "            return self.x_scaler.transform(x)\n",
    "        except:\n",
    "            try:\n",
    "               return self.y_scaler.transform(x)\n",
    "            except BaseException as err:\n",
    "                print(\"Ошибка скейлера\")\n",
    "                raise err\n",
    "            \n",
    "\n",
    "    def postprocessing(self, x):\n",
    "        try:\n",
    "            return self.x_scaler.inverse_transform(x)\n",
    "        except:\n",
    "            try:\n",
    "               return self.y_scaler.inverse_transform(x)\n",
    "            except BaseException as err:\n",
    "                print(\"Ошибка скейлера\")\n",
    "                raise err\n",
    "\n",
    "    def fit_scaler(self, x_train, y_train):\n",
    "        self.x_scaler.fit(x_train)\n",
    "        self.y_scaler.fit(y_train)\n",
    "\n",
    "    def evaluate_model(self, x):\n",
    "        predictions = self.get_model().predict(x)\n",
    "        return predictions.reshape(-1,1)\n",
    "    \n",
    "    def RandomizedSearchCV(self,x_train,y_train):\n",
    "        x_train_scaled = self.prepocessing(x_train) \n",
    "        y_train_scaled = self.prepocessing(y_train) \n",
    "        param_distributions = {\n",
    "            'n_estimators': np.arange(50, 200, 50),\n",
    "            'learning_rate': np.linspace(0.01, 0.1, num=10),\n",
    "            'max_depth': np.arange(3, 6, 1),\n",
    "            'min_child_weight': np.arange(1, 5, 1),\n",
    "            'subsample': np.linspace(0.5, 0.8, num=4),\n",
    "            'colsample_bytree': np.linspace(0.5, 0.8, num=4),\n",
    "            'gamma': np.linspace(0, 0.5, num=5),\n",
    "            'reg_alpha': np.linspace(0, 1, num=5),\n",
    "            'reg_lambda': np.linspace(1, 4, num=5)\n",
    "        }\n",
    "\n",
    "        self.random_search = RandomizedSearchCV(\n",
    "            estimator=self.model,\n",
    "            param_distributions=param_distributions,\n",
    "            n_iter=50,  # Количество итераций поиска. Увеличьте или уменьшите в зависимости от вычислительных ресурсов.\n",
    "            scoring='neg_mean_squared_error',\n",
    "            cv=3,  # Кросс-валидация по 3 блокам\n",
    "            verbose=1,\n",
    "            random_state=42,\n",
    "            n_jobs=-1  # Используйте все доступные ядра\n",
    "        )\n",
    "        self.random_search.fit(x_train_scaled, y_train_scaled)\n",
    "    \n",
    "    def train(self, x_train, y_train):\n",
    "        x_train_scaled = self.prepocessing(x_train) \n",
    "        y_train_scaled = self.prepocessing(y_train)\n",
    "        self.model = xgb.XGBRegressor(**self.random_search.best_params_)\n",
    "        self.model.fit(x_train_scaled,y_train_scaled)\n",
    "\n",
    "    def __str__(self):\n",
    "        return  "
   ]
  },
  {
   "cell_type": "code",
   "execution_count": 617,
   "id": "02fc1be8-6972-4342-9162-22d026a3fc3f",
   "metadata": {},
   "outputs": [
    {
     "name": "stdout",
     "output_type": "stream",
     "text": [
      "Fitting 3 folds for each of 50 candidates, totalling 150 fits\n"
     ]
    }
   ],
   "source": [
    "XGBoost_test = XGBoost(X_train_2, Y_train_2)"
   ]
  },
  {
   "cell_type": "code",
   "execution_count": 618,
   "id": "8f472de4-3a08-449c-b2cf-c479921407e9",
   "metadata": {},
   "outputs": [],
   "source": [
    "metric = Essentials.R2Metric()"
   ]
  },
  {
   "cell_type": "code",
   "execution_count": 619,
   "id": "cacadc14-ff37-45f8-bb78-d47ed568032b",
   "metadata": {},
   "outputs": [],
   "source": [
    "# print(PCA_LR_test)"
   ]
  },
  {
   "cell_type": "code",
   "execution_count": 620,
   "id": "f0ab78b9-1742-4e81-8b94-622231eb5ae2",
   "metadata": {},
   "outputs": [
    {
     "data": {
      "text/plain": [
       "(array([[ 81.31494 ],\n",
       "        [100.194855],\n",
       "        [ 90.91606 ],\n",
       "        [ 81.483376],\n",
       "        [ 84.96813 ],\n",
       "        [ 84.18994 ],\n",
       "        [ 83.86579 ],\n",
       "        [ 83.31799 ],\n",
       "        [ 84.37312 ],\n",
       "        [ 82.885056],\n",
       "        [ 82.68111 ],\n",
       "        [ 82.72182 ],\n",
       "        [ 83.72624 ],\n",
       "        [ 93.30674 ],\n",
       "        [ 89.1101  ],\n",
       "        [ 81.932396],\n",
       "        [ 90.14921 ],\n",
       "        [ 90.22487 ],\n",
       "        [ 92.76133 ],\n",
       "        [ 93.69036 ],\n",
       "        [ 90.921165],\n",
       "        [ 92.41345 ],\n",
       "        [ 84.817215],\n",
       "        [ 85.74523 ],\n",
       "        [ 83.83931 ],\n",
       "        [ 83.473694],\n",
       "        [ 81.92841 ],\n",
       "        [ 95.03156 ],\n",
       "        [ 86.33014 ],\n",
       "        [ 89.194595],\n",
       "        [ 83.77786 ],\n",
       "        [ 84.19351 ],\n",
       "        [ 83.523224],\n",
       "        [103.20995 ],\n",
       "        [ 84.61769 ]], dtype=float32),\n",
       " 0.42360464323052716)"
      ]
     },
     "execution_count": 620,
     "metadata": {},
     "output_type": "execute_result"
    }
   ],
   "source": [
    "XGBoost_test.test(X_test_2, Y_test_2, metric)"
   ]
  },
  {
   "cell_type": "code",
   "execution_count": 621,
   "id": "5ef12783-2460-4be1-aa82-76b9a391a60b",
   "metadata": {},
   "outputs": [],
   "source": [
    "XGBoost_test_visual_train = Essentials.Visualizer(X_train_2, Y_train_2, timestamp_train_2, [metric], 'XGBoost SoftSensor R2 metric on Train')"
   ]
  },
  {
   "cell_type": "code",
   "execution_count": 622,
   "id": "7f8a24a2-aa98-4d9a-9e32-fc92ef684cd2",
   "metadata": {},
   "outputs": [
    {
     "name": "stdout",
     "output_type": "stream",
     "text": [
      "      Coefficient of determination\n",
      "Test                       0.96452\n"
     ]
    },
    {
     "data": {
      "image/png": "[encoded data removed]",
      "text/plain": [
       "<Figure size 640x480 with 1 Axes>"
      ]
     },
     "metadata": {},
     "output_type": "display_data"
    }
   ],
   "source": [
    "XGBoost_test_visual_train.visualize([XGBoost_test])"
   ]
  },
  {
   "cell_type": "code",
   "execution_count": 623,
   "id": "f6ca9f82-da7b-40b5-9e65-9397973dce78",
   "metadata": {},
   "outputs": [],
   "source": [
    "XGBoost_test_visual_test = Essentials.Visualizer(X_test_2, Y_test_2, timestamp_test_2, [metric], 'XGBoost SoftSensor R2 metric on Test')"
   ]
  },
  {
   "cell_type": "code",
   "execution_count": 624,
   "id": "9efeaae2-96fa-4df5-93f6-7e95e34e7305",
   "metadata": {},
   "outputs": [
    {
     "name": "stdout",
     "output_type": "stream",
     "text": [
      "      Coefficient of determination\n",
      "Test                      0.423605\n"
     ]
    },
    {
     "data": {
      "image/png": "[encoded data removed]",
      "text/plain": [
       "<Figure size 640x480 with 1 Axes>"
      ]
     },
     "metadata": {},
     "output_type": "display_data"
    }
   ],
   "source": [
    "XGBoost_test_visual_test.visualize([XGBoost_test])"
   ]
  }
 ],
 "metadata": {
  "kernelspec": {
   "display_name": "Python 3 (ipykernel)",
   "language": "python",
   "name": "python3"
  },
  "language_info": {
   "codemirror_mode": {
    "name": "ipython",
    "version": 3
   },
   "file_extension": ".py",
   "mimetype": "text/x-python",
   "name": "python",
   "nbconvert_exporter": "python",
   "pygments_lexer": "ipython3",
   "version": "3.11.7"
  }
 },
 "nbformat": 4,
 "nbformat_minor": 5
}
