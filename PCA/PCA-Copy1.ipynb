{
 "cells": [
  {
   "cell_type": "code",
   "execution_count": 406,
   "id": "fd089e5c-073c-4899-b1fc-e51d8550cc19",
   "metadata": {},
   "outputs": [],
   "source": [
    "import sys\n",
    "sys.path.append(\"..\")\n",
    "\n",
    "import Essentials"
   ]
  },
  {
   "cell_type": "code",
   "execution_count": 407,
   "id": "13d89c2c-e559-41ad-bff9-dbc07c7793bc",
   "metadata": {},
   "outputs": [],
   "source": [
    "import numpy as np\n",
    "from sklearn.model_selection import train_test_split\n",
    "from sklearn.linear_model import LinearRegression\n",
    "from sklearn.decomposition import PCA\n",
    "from sklearn.preprocessing import StandardScaler\n",
    "from sklearn.metrics import r2_score"
   ]
  },
  {
   "cell_type": "code",
   "execution_count": 408,
   "id": "dd53eeb4-e972-45e1-850d-de1c2920ca30",
   "metadata": {},
   "outputs": [],
   "source": [
    "data_archive = np.load('../Data_Average.npz', allow_pickle=True)"
   ]
  },
  {
   "cell_type": "code",
   "execution_count": 409,
   "id": "5310796c-cf33-48a8-b2e0-b4ea5803d8d7",
   "metadata": {},
   "outputs": [],
   "source": [
    "def prepare_Y(y):\n",
    "    timestamp = y[:, 1]   \n",
    "    y = y[:, 0].reshape(len(y), 1)\n",
    "    y = y.astype(np.float64)\n",
    "\n",
    "    return y, timestamp"
   ]
  },
  {
   "cell_type": "code",
   "execution_count": 410,
   "id": "ea1726ec-2d6e-4e3f-85da-1ed6f0b48172",
   "metadata": {},
   "outputs": [],
   "source": [
    "all_X_1 = data_archive['all_X_1']\n",
    "all_Y_1 = data_archive['all_Y_1']\n",
    "\n",
    "all_X_2 = data_archive['all_X_2']\n",
    "all_Y_2 = data_archive['all_Y_2']\n",
    "\n",
    "all_X_3 = data_archive['all_X_3']\n",
    "all_Y_3 = data_archive['all_Y_3']\n",
    "\n",
    "x_summer_half_2 = data_archive['x_summer_half_2']\n",
    "y_summer_half_2 = data_archive['y_summer_half_2']\n",
    "x_winter_half_2 = data_archive['x_winter_half_2']\n",
    "y_winter_half_2 = data_archive['y_winter_half_2']\n",
    "\n",
    "x_summer_half_3 = data_archive['x_summer_half_3']\n",
    "y_summer_half_3 = data_archive['y_summer_half_3']\n",
    "x_winter_half_3 = data_archive['x_winter_half_3']\n",
    "y_winter_half_3 = data_archive['y_winter_half_3']"
   ]
  },
  {
   "cell_type": "code",
   "execution_count": 411,
   "id": "f16872d5-a698-4d3b-b463-d725b045868c",
   "metadata": {},
   "outputs": [],
   "source": [
    "x_train, x_test, y_train, y_test = train_test_split(all_X_2, all_Y_2, test_size=0.3, random_state=42)"
   ]
  },
  {
   "cell_type": "code",
   "execution_count": 412,
   "id": "f278b5a5-157c-480e-bdff-3e004974b9eb",
   "metadata": {},
   "outputs": [
    {
     "data": {
      "text/plain": [
       "(110, 46)"
      ]
     },
     "execution_count": 412,
     "metadata": {},
     "output_type": "execute_result"
    }
   ],
   "source": [
    "all_X_2.shape"
   ]
  },
  {
   "cell_type": "code",
   "execution_count": 413,
   "id": "0b6834be-84bb-4bed-98a6-9b27d1a5440d",
   "metadata": {},
   "outputs": [],
   "source": [
    "y_train, timestamp_train = prepare_Y(y_train)"
   ]
  },
  {
   "cell_type": "code",
   "execution_count": 414,
   "id": "64e84ea7-037c-4aae-86e6-c021100ef594",
   "metadata": {},
   "outputs": [],
   "source": [
    "y_test, timestamp_test = prepare_Y(y_test)"
   ]
  },
  {
   "cell_type": "code",
   "execution_count": 415,
   "id": "b58ecc9e-0e67-46d9-9807-a4d04f521246",
   "metadata": {},
   "outputs": [
    {
     "data": {
      "text/plain": [
       "(77, 46)"
      ]
     },
     "execution_count": 415,
     "metadata": {},
     "output_type": "execute_result"
    }
   ],
   "source": [
    "x_train.shape"
   ]
  },
  {
   "cell_type": "code",
   "execution_count": 416,
   "id": "c7b7b03a-1041-4518-b247-797f76039bf9",
   "metadata": {},
   "outputs": [
    {
     "data": {
      "text/plain": [
       "(33, 46)"
      ]
     },
     "execution_count": 416,
     "metadata": {},
     "output_type": "execute_result"
    }
   ],
   "source": [
    "x_test.shape"
   ]
  },
  {
   "cell_type": "code",
   "execution_count": 417,
   "id": "b177dbb0-14dc-41d7-844a-2ad23e7db6dd",
   "metadata": {},
   "outputs": [],
   "source": [
    "x_train_winter, x_test_winter, y_train_winter, y_test_winter = train_test_split(x_winter_half_2, y_winter_half_2, test_size=0.2, random_state=42)"
   ]
  },
  {
   "cell_type": "code",
   "execution_count": 418,
   "id": "1f8cc4f1-22da-49cf-bd5a-bc95b1a72a73",
   "metadata": {},
   "outputs": [],
   "source": [
    "x_train_summer, x_test_summer, y_train_summer, y_test_summer = train_test_split(x_summer_half_2, y_summer_half_2, test_size=0.2, random_state=42)"
   ]
  },
  {
   "cell_type": "code",
   "execution_count": 419,
   "id": "c50767a9-4fcd-4b84-a063-f406a99b314c",
   "metadata": {},
   "outputs": [],
   "source": [
    "y_train_summer, timestamp_train_summer = prepare_Y(y_train_summer)"
   ]
  },
  {
   "cell_type": "code",
   "execution_count": 420,
   "id": "2b44ea7f-d572-43a9-907c-6bd4366f0d41",
   "metadata": {},
   "outputs": [],
   "source": [
    "y_train_winter, timestamp_train_winter = prepare_Y(y_train_winter)"
   ]
  },
  {
   "cell_type": "code",
   "execution_count": 421,
   "id": "77a05e85-50a8-4043-bb00-7565286eb16a",
   "metadata": {},
   "outputs": [],
   "source": [
    "y_test_summer, timestamp_test_summer = prepare_Y(y_test_summer)"
   ]
  },
  {
   "cell_type": "code",
   "execution_count": 422,
   "id": "1524b2ca-84f9-445f-97fc-42d7106319ae",
   "metadata": {},
   "outputs": [],
   "source": [
    "y_test_winter, timestamp_test_winter = prepare_Y(y_test_winter)"
   ]
  },
  {
   "cell_type": "code",
   "execution_count": 423,
   "id": "2a0f8950-7408-41c6-ae1b-7341fcf8059c",
   "metadata": {},
   "outputs": [],
   "source": [
    "class PCA_LR(Essentials.SoftSensor):\n",
    "    def __init__(self, name, x_train, y_train):\n",
    "        super().__init__(name)\n",
    "        self.x_scaler = StandardScaler()\n",
    "        self.x_pca = PCA(n_components=0.95)\n",
    "        self.fit_scaler(x_train)\n",
    "        self.fit_pca(x_train)\n",
    "        # self.max_components = min(x_train.shape[1], x_train.shape[0])\n",
    "        # self.tune_pca_components(x_train, y_train, x_test, y_test)\n",
    "        self.model = LinearRegression()\n",
    "        self.train(x_train, y_train)\n",
    "        self.set_model(self.model)\n",
    "\n",
    "    # def tune_pca_components(self, x_train, y_train, x_test, y_test):\n",
    "    #     for n_components in range(1, self.max_components + 1):\n",
    "    #         pca = PCA(n_components=n_components)\n",
    "    #         self.fit_pca(pca, x_train)\n",
    "    #         pca_x_train = self.preprocessing(x_train)\n",
    "\n",
    "    #         # Обучение модели\n",
    "    #         model = LinearRegression()\n",
    "    #         model.fit(pca_x_train, y_train)\n",
    "\n",
    "    #         # предсказание на тестовой выборке\n",
    "    #         pca_x_test = self.preprocessing(x_test)\n",
    "    #         y_pred = model.predict(pca_x_test)\n",
    "\n",
    "    #         # Расчёт R^2 и обновление списка r2_scores\n",
    "    #         r2 = r2_score(y_test, y_pred)\n",
    "    #         self.r2_scores.append(r2)\n",
    "\n",
    "    #     # Определение оптимального числа компонент\n",
    "    #     optimal_n_components = np.argmax(self.r2_scores) + 1\n",
    "    #     print(f\"Оптимальное количество главных компонент: {optimal_n_components}\")\n",
    "\n",
    "    #     # Обучение PCA с оптимальным числом компонент\n",
    "    #     self.x_pca = PCA(n_components=optimal_n_components)\n",
    "    #     self.x_pca.fit(self.x_scaler.transform(x_train))\n",
    "    \n",
    "    def preprocessing(self, x):\n",
    "        try:\n",
    "            x_scaled = self.x_scaler.transform(x)\n",
    "            return self.x_pca.transform(x_scaled)\n",
    "        except BaseException as err:\n",
    "            print(\"Ошибка скейлера\")\n",
    "            raise err    \n",
    "    \n",
    "    def postprocessing(self, x):\n",
    "        return x\n",
    "\n",
    "    def fit_scaler(self, x):\n",
    "        self.x_scaler.fit(x)\n",
    "\n",
    "    def fit_pca(self, x):\n",
    "        scaled_x = self.x_scaler.transform(x)\n",
    "        self.x_pca.fit(scaled_x)\n",
    "    \n",
    "    def evaluate_model(self, x):\n",
    "        predictions = self.get_model().predict(x)\n",
    "        return predictions\n",
    "\n",
    "    def train(self, x_train, y_train):\n",
    "        pca_x = self.preprocessing(x_train)\n",
    "        self.model.fit(pca_x,y_train)\n",
    "\n",
    "    def __str__(self):\n",
    "        coef_lines = [f\"Коэффициент {i + 1}: {coef:.6f}\" for i, coef in enumerate(self.model.coef_.flatten())]\n",
    "        coef_str = '\\n'.join(coef_lines)\n",
    "        intercept = self.model.intercept_\n",
    "        if isinstance(intercept, np.ndarray):\n",
    "            intercept = intercept.item(0)\n",
    "        return f\"{coef_str}\\nСвободный член (intercept): {intercept:.6f}\" "
   ]
  },
  {
   "cell_type": "code",
   "execution_count": 424,
   "id": "02fc1be8-6972-4342-9162-22d026a3fc3f",
   "metadata": {},
   "outputs": [],
   "source": [
    "PCA_LR_test = PCA_LR(\"PCA_LR\" ,x_train ,y_train)"
   ]
  },
  {
   "cell_type": "code",
   "execution_count": 425,
   "id": "8f472de4-3a08-449c-b2cf-c479921407e9",
   "metadata": {},
   "outputs": [],
   "source": [
    "metric = Essentials.R2Metric()"
   ]
  },
  {
   "cell_type": "code",
   "execution_count": 426,
   "id": "cacadc14-ff37-45f8-bb78-d47ed568032b",
   "metadata": {},
   "outputs": [
    {
     "name": "stdout",
     "output_type": "stream",
     "text": [
      "Коэффициент 1: -1.087432\n",
      "Коэффициент 2: -0.992986\n",
      "Коэффициент 3: -1.167741\n",
      "Коэффициент 4: 0.378139\n",
      "Коэффициент 5: 0.438323\n",
      "Коэффициент 6: -0.205406\n",
      "Коэффициент 7: -0.041212\n",
      "Коэффициент 8: -0.957916\n",
      "Коэффициент 9: 0.227728\n",
      "Коэффициент 10: 0.695029\n",
      "Коэффициент 11: 1.345259\n",
      "Коэффициент 12: 0.018493\n",
      "Коэффициент 13: -1.165231\n",
      "Коэффициент 14: -0.067923\n",
      "Коэффициент 15: -1.311721\n",
      "Коэффициент 16: 0.839167\n",
      "Свободный член (intercept): 89.551948\n"
     ]
    }
   ],
   "source": [
    "print(PCA_LR_test)"
   ]
  },
  {
   "cell_type": "code",
   "execution_count": 427,
   "id": "f0ab78b9-1742-4e81-8b94-622231eb5ae2",
   "metadata": {},
   "outputs": [
    {
     "data": {
      "text/plain": [
       "(array([[ 90.8742727 ],\n",
       "        [ 77.68227899],\n",
       "        [ 84.51730736],\n",
       "        [ 94.65462858],\n",
       "        [ 87.97018441],\n",
       "        [ 84.34326864],\n",
       "        [ 95.30768342],\n",
       "        [ 90.07655289],\n",
       "        [ 89.32413716],\n",
       "        [ 80.02056733],\n",
       "        [ 89.13903966],\n",
       "        [ 89.3234681 ],\n",
       "        [ 98.71923634],\n",
       "        [ 92.7259411 ],\n",
       "        [ 82.13406501],\n",
       "        [ 84.30283501],\n",
       "        [ 89.62488023],\n",
       "        [ 84.47503513],\n",
       "        [103.20729554],\n",
       "        [ 91.17359763],\n",
       "        [ 78.70611036],\n",
       "        [ 99.58641647],\n",
       "        [ 85.48512064],\n",
       "        [ 98.41016375],\n",
       "        [103.46218585],\n",
       "        [ 99.11010573],\n",
       "        [ 93.98762638],\n",
       "        [ 88.18645546],\n",
       "        [ 85.84731762],\n",
       "        [ 88.75782853],\n",
       "        [ 91.56832418],\n",
       "        [ 89.99535731],\n",
       "        [ 82.10042729]]),\n",
       " 0.3404523999161928)"
      ]
     },
     "execution_count": 427,
     "metadata": {},
     "output_type": "execute_result"
    }
   ],
   "source": [
    "PCA_LR_test.test(x_test, y_test, metric)"
   ]
  },
  {
   "cell_type": "code",
   "execution_count": 428,
   "id": "5ef12783-2460-4be1-aa82-76b9a391a60b",
   "metadata": {},
   "outputs": [],
   "source": [
    "PCA_LR_test_visual_train = Essentials.Visualizer(x_train, y_train, timestamp_train, [metric], 'Linear with PCA SoftSensor R2 metric on Train')"
   ]
  },
  {
   "cell_type": "code",
   "execution_count": 429,
   "id": "7f8a24a2-aa98-4d9a-9e32-fc92ef684cd2",
   "metadata": {},
   "outputs": [
    {
     "name": "stdout",
     "output_type": "stream",
     "text": [
      "        Coefficient of determination\n",
      "PCA_LR                      0.433599\n"
     ]
    },
    {
     "data": {
      "image/png": "[encoded data removed]",
      "text/plain": [
       "<Figure size 640x480 with 1 Axes>"
      ]
     },
     "metadata": {},
     "output_type": "display_data"
    }
   ],
   "source": [
    "PCA_LR_test_visual_train.visualize([PCA_LR_test])"
   ]
  },
  {
   "cell_type": "code",
   "execution_count": 430,
   "id": "f6ca9f82-da7b-40b5-9e65-9397973dce78",
   "metadata": {},
   "outputs": [],
   "source": [
    "PCA_LR_test_visual_test = Essentials.Visualizer(x_test, y_test, timestamp_test, [metric], 'Linear with PCA SoftSensor R2 metric on Test')"
   ]
  },
  {
   "cell_type": "code",
   "execution_count": 431,
   "id": "9efeaae2-96fa-4df5-93f6-7e95e34e7305",
   "metadata": {},
   "outputs": [
    {
     "name": "stdout",
     "output_type": "stream",
     "text": [
      "        Coefficient of determination\n",
      "PCA_LR                      0.340452\n"
     ]
    },
    {
     "data": {
      "image/png": "[encoded data removed]",
      "text/plain": [
       "<Figure size 640x480 with 1 Axes>"
      ]
     },
     "metadata": {},
     "output_type": "display_data"
    }
   ],
   "source": [
    "PCA_LR_test_visual_test.visualize([PCA_LR_test])"
   ]
  }
 ],
 "metadata": {
  "kernelspec": {
   "display_name": "Python 3 (ipykernel)",
   "language": "python",
   "name": "python3"
  },
  "language_info": {
   "codemirror_mode": {
    "name": "ipython",
    "version": 3
   },
   "file_extension": ".py",
   "mimetype": "text/x-python",
   "name": "python",
   "nbconvert_exporter": "python",
   "pygments_lexer": "ipython3",
   "version": "3.11.7"
  }
 },
 "nbformat": 4,
 "nbformat_minor": 5
}
