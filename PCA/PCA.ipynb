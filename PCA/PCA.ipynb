{
 "cells": [
  {
   "cell_type": "code",
   "execution_count": 825,
   "id": "fd089e5c-073c-4899-b1fc-e51d8550cc19",
   "metadata": {},
   "outputs": [],
   "source": [
    "import sys\n",
    "sys.path.append(\"..\")\n",
    "\n",
    "import Essentials"
   ]
  },
  {
   "cell_type": "code",
   "execution_count": 826,
   "id": "13d89c2c-e559-41ad-bff9-dbc07c7793bc",
   "metadata": {},
   "outputs": [],
   "source": [
    "import numpy as np\n",
    "from sklearn.model_selection import train_test_split\n",
    "from sklearn.linear_model import LinearRegression\n",
    "from sklearn.decomposition import PCA\n",
    "from sklearn.preprocessing import StandardScaler\n",
    "from sklearn.metrics import r2_score"
   ]
  },
  {
   "cell_type": "code",
   "execution_count": 827,
   "id": "dd53eeb4-e972-45e1-850d-de1c2920ca30",
   "metadata": {},
   "outputs": [],
   "source": [
    "data_archive = np.load('../Data_Average_Nikita.npz', allow_pickle=True)"
   ]
  },
  {
   "cell_type": "code",
   "execution_count": 828,
   "id": "5310796c-cf33-48a8-b2e0-b4ea5803d8d7",
   "metadata": {},
   "outputs": [],
   "source": [
    "def prepare_Y(y):\n",
    "    timestamp = y[:, 1]   \n",
    "    y = y[:, 0].reshape(len(y), 1)\n",
    "    y = y.astype(np.float64)\n",
    "\n",
    "    return y, timestamp"
   ]
  },
  {
   "cell_type": "code",
   "execution_count": 829,
   "id": "ea1726ec-2d6e-4e3f-85da-1ed6f0b48172",
   "metadata": {},
   "outputs": [],
   "source": [
    "all_X_1 = data_archive['all_X_1']\n",
    "all_Y_1 = data_archive['all_Y_1']\n",
    "\n",
    "all_X_2 = data_archive['all_X_2']\n",
    "all_Y_2 = data_archive['all_Y_2']\n",
    "\n",
    "all_X_3 = data_archive['all_X_3']\n",
    "all_Y_3 = data_archive['all_Y_3']\n",
    "\n",
    "x_summer_half_2 = data_archive['x_summer_half_2']\n",
    "y_summer_half_2 = data_archive['y_summer_half_2']\n",
    "x_winter_half_2 = data_archive['x_winter_half_2']\n",
    "y_winter_half_2 = data_archive['y_winter_half_2']\n",
    "\n",
    "x_summer_half_3 = data_archive['x_summer_half_3']\n",
    "y_summer_half_3 = data_archive['y_summer_half_3']\n",
    "x_winter_half_3 = data_archive['x_winter_half_3']\n",
    "y_winter_half_3 = data_archive['y_winter_half_3']"
   ]
  },
  {
   "cell_type": "code",
   "execution_count": 830,
   "id": "f16872d5-a698-4d3b-b463-d725b045868c",
   "metadata": {},
   "outputs": [],
   "source": [
    "x_train, x_test, y_train, y_test = train_test_split(all_X_1, all_Y_1, test_size=0.3, random_state=42)"
   ]
  },
  {
   "cell_type": "code",
   "execution_count": 831,
   "id": "f278b5a5-157c-480e-bdff-3e004974b9eb",
   "metadata": {},
   "outputs": [
    {
     "data": {
      "text/plain": [
       "(107, 87)"
      ]
     },
     "execution_count": 831,
     "metadata": {},
     "output_type": "execute_result"
    }
   ],
   "source": [
    "all_X_1.shape"
   ]
  },
  {
   "cell_type": "code",
   "execution_count": 832,
   "id": "0b6834be-84bb-4bed-98a6-9b27d1a5440d",
   "metadata": {},
   "outputs": [],
   "source": [
    "y_train, timestamp_train = prepare_Y(y_train)"
   ]
  },
  {
   "cell_type": "code",
   "execution_count": 833,
   "id": "64e84ea7-037c-4aae-86e6-c021100ef594",
   "metadata": {},
   "outputs": [],
   "source": [
    "y_test, timestamp_test = prepare_Y(y_test)"
   ]
  },
  {
   "cell_type": "code",
   "execution_count": 834,
   "id": "b58ecc9e-0e67-46d9-9807-a4d04f521246",
   "metadata": {},
   "outputs": [
    {
     "data": {
      "text/plain": [
       "(74, 87)"
      ]
     },
     "execution_count": 834,
     "metadata": {},
     "output_type": "execute_result"
    }
   ],
   "source": [
    "x_train.shape"
   ]
  },
  {
   "cell_type": "code",
   "execution_count": 835,
   "id": "c7b7b03a-1041-4518-b247-797f76039bf9",
   "metadata": {},
   "outputs": [
    {
     "data": {
      "text/plain": [
       "(33, 87)"
      ]
     },
     "execution_count": 835,
     "metadata": {},
     "output_type": "execute_result"
    }
   ],
   "source": [
    "x_test.shape"
   ]
  },
  {
   "cell_type": "code",
   "execution_count": 836,
   "id": "b177dbb0-14dc-41d7-844a-2ad23e7db6dd",
   "metadata": {},
   "outputs": [],
   "source": [
    "x_train_winter, x_test_winter, y_train_winter, y_test_winter = train_test_split(x_winter_half_2, y_winter_half_2, test_size=0.2, random_state=42)"
   ]
  },
  {
   "cell_type": "code",
   "execution_count": 837,
   "id": "1f8cc4f1-22da-49cf-bd5a-bc95b1a72a73",
   "metadata": {},
   "outputs": [],
   "source": [
    "x_train_summer, x_test_summer, y_train_summer, y_test_summer = train_test_split(x_summer_half_2, y_summer_half_2, test_size=0.2, random_state=42)"
   ]
  },
  {
   "cell_type": "code",
   "execution_count": 838,
   "id": "c50767a9-4fcd-4b84-a063-f406a99b314c",
   "metadata": {},
   "outputs": [],
   "source": [
    "y_train_summer, timestamp_train_summer = prepare_Y(y_train_summer)"
   ]
  },
  {
   "cell_type": "code",
   "execution_count": 839,
   "id": "2b44ea7f-d572-43a9-907c-6bd4366f0d41",
   "metadata": {},
   "outputs": [],
   "source": [
    "y_train_winter, timestamp_train_winter = prepare_Y(y_train_winter)"
   ]
  },
  {
   "cell_type": "code",
   "execution_count": 840,
   "id": "77a05e85-50a8-4043-bb00-7565286eb16a",
   "metadata": {},
   "outputs": [],
   "source": [
    "y_test_summer, timestamp_test_summer = prepare_Y(y_test_summer)"
   ]
  },
  {
   "cell_type": "code",
   "execution_count": 841,
   "id": "1524b2ca-84f9-445f-97fc-42d7106319ae",
   "metadata": {},
   "outputs": [],
   "source": [
    "y_test_winter, timestamp_test_winter = prepare_Y(y_test_winter)"
   ]
  },
  {
   "cell_type": "code",
   "execution_count": 842,
   "id": "2a0f8950-7408-41c6-ae1b-7341fcf8059c",
   "metadata": {},
   "outputs": [],
   "source": [
    "class PCA_LR(Essentials.SoftSensor):\n",
    "    def __init__(self, name, x_train, y_train,x_test,y_test):\n",
    "        super().__init__(name)\n",
    "        self.x_scaler = StandardScaler()\n",
    "        self.x_pca = None  # Инициализация будет в методе tune_pca_components\n",
    "        self.fit_scaler(x_train)\n",
    "\n",
    "        # Определение максимального количества компонент на основе минимальной размерности x_train\n",
    "        self.max_components = min(x_train.shape[1], x_train.shape[0])\n",
    "\n",
    "        # Поиск оптимального количества компонент\n",
    "        self.tune_pca_components(x_train, y_train, x_test, y_test)\n",
    "\n",
    "        # Обучение модели\n",
    "        self.model = LinearRegression()\n",
    "        self.train(x_train, y_train)\n",
    "        self.set_model(self.model)\n",
    "\n",
    "    def tune_pca_components(self, x_train, y_train, x_test, y_test):\n",
    "        r2_scores = []\n",
    "        for n_components in range(1, self.max_components + 1):\n",
    "            pca = PCA(n_components=n_components)\n",
    "            self.fit_pca(pca, x_train)\n",
    "            pca_x_train = self.preprocessing(x_train)\n",
    "\n",
    "            # Обучение модели на обучающей выборке с текущим количеством компонент\n",
    "            model = LinearRegression()\n",
    "            model.fit(pca_x_train, y_train)\n",
    "\n",
    "            # Преобразование тестовой выборки и предсказание\n",
    "            pca_x_test = self.preprocessing(x_test)\n",
    "            y_pred = model.predict(pca_x_test)\n",
    "\n",
    "            # Расчёт R^2 и обновление списка r2_scores\n",
    "            r2 = r2_score(y_test, y_pred)\n",
    "            r2_scores.append(r2)\n",
    "\n",
    "        # Определение числа компонент с максимальным R^2\n",
    "        optimal_n_components = np.argmax(r2_scores) + 1\n",
    "        print(f\"Оптимальное количество главных компонент: {optimal_n_components}\")\n",
    "\n",
    "        # Обучение PCA с оптимальным числом компонент\n",
    "        self.x_pca = PCA(n_components=optimal_n_components)\n",
    "        self.x_pca.fit(self.x_scaler.transform(x_train))\n",
    "    \n",
    "    def preprocessing(self, x):\n",
    "        try:\n",
    "            x_scaled = self.x_scaler.transform(x)\n",
    "            return self.x_pca.transform(x_scaled)\n",
    "        except BaseException as err:\n",
    "            print(\"Ошибка скейлера\")\n",
    "            raise err    \n",
    "    \n",
    "    def postprocessing(self, x):\n",
    "        return x\n",
    "\n",
    "    def fit_scaler(self, x):\n",
    "        self.x_scaler.fit(x)\n",
    "\n",
    "    def fit_pca(self, pca, x):\n",
    "        scaled_x = self.x_scaler.transform(x)\n",
    "        pca.fit(scaled_x)\n",
    "        self.x_pca = pca\n",
    "    \n",
    "    def evaluate_model(self, x):\n",
    "        predictions = self.get_model().predict(x)\n",
    "        return predictions\n",
    "\n",
    "    def train(self, x_train, y_train):\n",
    "        pca_x = self.preprocessing(x_train)\n",
    "        self.model.fit(pca_x,y_train)\n",
    "\n",
    "    def __str__(self):\n",
    "        coef_lines = [f\"Коэффициент {i + 1}: {coef:.6f}\" for i, coef in enumerate(self.model.coef_.flatten())]\n",
    "        coef_str = '\\n'.join(coef_lines)\n",
    "        intercept = self.model.intercept_\n",
    "        if isinstance(intercept, np.ndarray):\n",
    "            intercept = intercept.item(0)\n",
    "        return f\"{coef_str}\\nСвободный член (intercept): {intercept:.6f}\""
   ]
  },
  {
   "cell_type": "code",
   "execution_count": 843,
   "id": "02fc1be8-6972-4342-9162-22d026a3fc3f",
   "metadata": {},
   "outputs": [
    {
     "name": "stdout",
     "output_type": "stream",
     "text": [
      "Оптимальное количество главных компонент: 23\n"
     ]
    }
   ],
   "source": [
    "PCA_LR_test = PCA_LR(\"PCA_LR\" ,x_train ,y_train, x_test, y_test)"
   ]
  },
  {
   "cell_type": "code",
   "execution_count": 844,
   "id": "8f472de4-3a08-449c-b2cf-c479921407e9",
   "metadata": {},
   "outputs": [],
   "source": [
    "metric = Essentials.R2Metric()"
   ]
  },
  {
   "cell_type": "code",
   "execution_count": 845,
   "id": "cacadc14-ff37-45f8-bb78-d47ed568032b",
   "metadata": {},
   "outputs": [
    {
     "name": "stdout",
     "output_type": "stream",
     "text": [
      "Коэффициент 1: 0.398776\n",
      "Коэффициент 2: -0.147810\n",
      "Коэффициент 3: -0.649528\n",
      "Коэффициент 4: 0.253291\n",
      "Коэффициент 5: 0.294248\n",
      "Коэффициент 6: 0.039336\n",
      "Коэффициент 7: 0.068663\n",
      "Коэффициент 8: -0.147469\n",
      "Коэффициент 9: 0.396580\n",
      "Коэффициент 10: -0.168786\n",
      "Коэффициент 11: -0.454395\n",
      "Коэффициент 12: -0.463059\n",
      "Коэффициент 13: -0.149670\n",
      "Коэффициент 14: -0.177457\n",
      "Коэффициент 15: -0.202761\n",
      "Коэффициент 16: 0.482658\n",
      "Коэффициент 17: -0.263969\n",
      "Коэффициент 18: 0.703773\n",
      "Коэффициент 19: 0.800332\n",
      "Коэффициент 20: 1.108247\n",
      "Коэффициент 21: -0.836623\n",
      "Коэффициент 22: 1.185416\n",
      "Коэффициент 23: -0.188138\n",
      "Свободный член (intercept): 57.735135\n"
     ]
    }
   ],
   "source": [
    "print(PCA_LR_test)"
   ]
  },
  {
   "cell_type": "code",
   "execution_count": 846,
   "id": "f0ab78b9-1742-4e81-8b94-622231eb5ae2",
   "metadata": {},
   "outputs": [
    {
     "data": {
      "text/plain": [
       "(array([[51.38852563],\n",
       "        [58.15161299],\n",
       "        [56.07971216],\n",
       "        [60.98500859],\n",
       "        [55.00416171],\n",
       "        [58.57361557],\n",
       "        [60.90007915],\n",
       "        [58.81768182],\n",
       "        [61.43767377],\n",
       "        [59.86752874],\n",
       "        [52.98841562],\n",
       "        [58.66676585],\n",
       "        [55.84167633],\n",
       "        [50.88729855],\n",
       "        [58.83358219],\n",
       "        [60.34748152],\n",
       "        [55.74436448],\n",
       "        [52.29021063],\n",
       "        [57.99259115],\n",
       "        [61.45338491],\n",
       "        [59.09572193],\n",
       "        [60.20256158],\n",
       "        [57.41677968],\n",
       "        [57.29235238],\n",
       "        [57.45293452],\n",
       "        [62.89612666],\n",
       "        [54.58111815],\n",
       "        [60.4842958 ],\n",
       "        [59.73638927],\n",
       "        [58.92686954],\n",
       "        [61.17462779],\n",
       "        [60.00095753],\n",
       "        [58.53201824]]),\n",
       " 0.7120852339681646)"
      ]
     },
     "execution_count": 846,
     "metadata": {},
     "output_type": "execute_result"
    }
   ],
   "source": [
    "PCA_LR_test.test(x_test, y_test, metric)"
   ]
  },
  {
   "cell_type": "code",
   "execution_count": 847,
   "id": "5ef12783-2460-4be1-aa82-76b9a391a60b",
   "metadata": {},
   "outputs": [],
   "source": [
    "PCA_LR_test_visual_train = Essentials.Visualizer(x_train, y_train, timestamp_train, [metric], 'Linear with PCA SoftSensor R2 metric on Train')"
   ]
  },
  {
   "cell_type": "code",
   "execution_count": 848,
   "id": "7f8a24a2-aa98-4d9a-9e32-fc92ef684cd2",
   "metadata": {},
   "outputs": [
    {
     "name": "stdout",
     "output_type": "stream",
     "text": [
      "        Coefficient of determination\n",
      "PCA_LR                      0.831648\n"
     ]
    },
    {
     "data": {
      "image/png": "[encoded data removed]",
      "text/plain": [
       "<Figure size 640x480 with 1 Axes>"
      ]
     },
     "metadata": {},
     "output_type": "display_data"
    }
   ],
   "source": [
    "PCA_LR_test_visual_train.visualize([PCA_LR_test])"
   ]
  },
  {
   "cell_type": "code",
   "execution_count": 849,
   "id": "f6ca9f82-da7b-40b5-9e65-9397973dce78",
   "metadata": {},
   "outputs": [],
   "source": [
    "PCA_LR_test_visual_test = Essentials.Visualizer(x_test, y_test, timestamp_test, [metric], 'Linear with PCA SoftSensor R2 metric on Test')"
   ]
  },
  {
   "cell_type": "code",
   "execution_count": 850,
   "id": "9efeaae2-96fa-4df5-93f6-7e95e34e7305",
   "metadata": {},
   "outputs": [
    {
     "name": "stdout",
     "output_type": "stream",
     "text": [
      "        Coefficient of determination\n",
      "PCA_LR                      0.712085\n"
     ]
    },
    {
     "data": {
      "image/png": "[encoded data removed]",
      "text/plain": [
       "<Figure size 640x480 with 1 Axes>"
      ]
     },
     "metadata": {},
     "output_type": "display_data"
    }
   ],
   "source": [
    "PCA_LR_test_visual_test.visualize([PCA_LR_test])"
   ]
  }
 ],
 "metadata": {
  "kernelspec": {
   "display_name": "Python 3 (ipykernel)",
   "language": "python",
   "name": "python3"
  },
  "language_info": {
   "codemirror_mode": {
    "name": "ipython",
    "version": 3
   },
   "file_extension": ".py",
   "mimetype": "text/x-python",
   "name": "python",
   "nbconvert_exporter": "python",
   "pygments_lexer": "ipython3",
   "version": "3.11.7"
  }
 },
 "nbformat": 4,
 "nbformat_minor": 5
}
