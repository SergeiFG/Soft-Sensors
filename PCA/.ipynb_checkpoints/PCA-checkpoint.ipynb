{
 "cells": [
  {
   "cell_type": "code",
   "execution_count": 773,
   "id": "fd089e5c-073c-4899-b1fc-e51d8550cc19",
   "metadata": {},
   "outputs": [],
   "source": [
    "import sys\n",
    "sys.path.append(\"..\")\n",
    "\n",
    "import Essentials"
   ]
  },
  {
   "cell_type": "code",
   "execution_count": 774,
   "id": "13d89c2c-e559-41ad-bff9-dbc07c7793bc",
   "metadata": {},
   "outputs": [],
   "source": [
    "import numpy as np\n",
    "from sklearn.model_selection import train_test_split\n",
    "from sklearn.linear_model import LinearRegression\n",
    "from sklearn.decomposition import PCA\n",
    "from sklearn.preprocessing import StandardScaler\n",
    "from sklearn.metrics import r2_score"
   ]
  },
  {
   "cell_type": "code",
   "execution_count": 775,
   "id": "dd53eeb4-e972-45e1-850d-de1c2920ca30",
   "metadata": {},
   "outputs": [],
   "source": [
    "data_archive = np.load('../Data_Average.npz', allow_pickle=True)"
   ]
  },
  {
   "cell_type": "code",
   "execution_count": 776,
   "id": "5310796c-cf33-48a8-b2e0-b4ea5803d8d7",
   "metadata": {},
   "outputs": [],
   "source": [
    "def prepare_Y(y):\n",
    "    timestamp = y[:, 1]   \n",
    "    y = y[:, 0].reshape(len(y), 1)\n",
    "    y = y.astype(np.float64)\n",
    "\n",
    "    return y, timestamp"
   ]
  },
  {
   "cell_type": "code",
   "execution_count": 777,
   "id": "ea1726ec-2d6e-4e3f-85da-1ed6f0b48172",
   "metadata": {},
   "outputs": [],
   "source": [
    "all_X_1 = data_archive['all_X_1']\n",
    "all_Y_1 = data_archive['all_Y_1']\n",
    "\n",
    "all_X_2 = data_archive['all_X_2']\n",
    "all_Y_2 = data_archive['all_Y_2']\n",
    "\n",
    "all_X_3 = data_archive['all_X_3']\n",
    "all_Y_3 = data_archive['all_Y_3']\n",
    "\n",
    "x_summer_half_2 = data_archive['x_summer_half_2']\n",
    "y_summer_half_2 = data_archive['y_summer_half_2']\n",
    "x_winter_half_2 = data_archive['x_winter_half_2']\n",
    "y_winter_half_2 = data_archive['y_winter_half_2']\n",
    "\n",
    "x_summer_half_3 = data_archive['x_summer_half_3']\n",
    "y_summer_half_3 = data_archive['y_summer_half_3']\n",
    "x_winter_half_3 = data_archive['x_winter_half_3']\n",
    "y_winter_half_3 = data_archive['y_winter_half_3']"
   ]
  },
  {
   "cell_type": "code",
   "execution_count": 778,
   "id": "f16872d5-a698-4d3b-b463-d725b045868c",
   "metadata": {},
   "outputs": [],
   "source": [
    "x_train, x_test, y_train, y_test = train_test_split(all_X_1, all_Y_1, test_size=0.3, random_state=42)"
   ]
  },
  {
   "cell_type": "code",
   "execution_count": 779,
   "id": "f278b5a5-157c-480e-bdff-3e004974b9eb",
   "metadata": {},
   "outputs": [
    {
     "data": {
      "text/plain": [
       "(129, 96)"
      ]
     },
     "execution_count": 779,
     "metadata": {},
     "output_type": "execute_result"
    }
   ],
   "source": [
    "all_X_1.shape"
   ]
  },
  {
   "cell_type": "code",
   "execution_count": 780,
   "id": "0b6834be-84bb-4bed-98a6-9b27d1a5440d",
   "metadata": {},
   "outputs": [],
   "source": [
    "y_train, timestamp_train = prepare_Y(y_train)"
   ]
  },
  {
   "cell_type": "code",
   "execution_count": 781,
   "id": "64e84ea7-037c-4aae-86e6-c021100ef594",
   "metadata": {},
   "outputs": [],
   "source": [
    "y_test, timestamp_test = prepare_Y(y_test)"
   ]
  },
  {
   "cell_type": "code",
   "execution_count": 782,
   "id": "b58ecc9e-0e67-46d9-9807-a4d04f521246",
   "metadata": {},
   "outputs": [
    {
     "data": {
      "text/plain": [
       "(90, 96)"
      ]
     },
     "execution_count": 782,
     "metadata": {},
     "output_type": "execute_result"
    }
   ],
   "source": [
    "x_train.shape"
   ]
  },
  {
   "cell_type": "code",
   "execution_count": 783,
   "id": "c7b7b03a-1041-4518-b247-797f76039bf9",
   "metadata": {},
   "outputs": [
    {
     "data": {
      "text/plain": [
       "(39, 96)"
      ]
     },
     "execution_count": 783,
     "metadata": {},
     "output_type": "execute_result"
    }
   ],
   "source": [
    "x_test.shape"
   ]
  },
  {
   "cell_type": "code",
   "execution_count": 784,
   "id": "b177dbb0-14dc-41d7-844a-2ad23e7db6dd",
   "metadata": {},
   "outputs": [],
   "source": [
    "x_train_winter, x_test_winter, y_train_winter, y_test_winter = train_test_split(x_winter_half_2, y_winter_half_2, test_size=0.2, random_state=42)"
   ]
  },
  {
   "cell_type": "code",
   "execution_count": 785,
   "id": "1f8cc4f1-22da-49cf-bd5a-bc95b1a72a73",
   "metadata": {},
   "outputs": [],
   "source": [
    "x_train_summer, x_test_summer, y_train_summer, y_test_summer = train_test_split(x_summer_half_2, y_summer_half_2, test_size=0.2, random_state=42)"
   ]
  },
  {
   "cell_type": "code",
   "execution_count": 786,
   "id": "c50767a9-4fcd-4b84-a063-f406a99b314c",
   "metadata": {},
   "outputs": [],
   "source": [
    "y_train_summer, timestamp_train_summer = prepare_Y(y_train_summer)"
   ]
  },
  {
   "cell_type": "code",
   "execution_count": 787,
   "id": "2b44ea7f-d572-43a9-907c-6bd4366f0d41",
   "metadata": {},
   "outputs": [],
   "source": [
    "y_train_winter, timestamp_train_winter = prepare_Y(y_train_winter)"
   ]
  },
  {
   "cell_type": "code",
   "execution_count": 788,
   "id": "77a05e85-50a8-4043-bb00-7565286eb16a",
   "metadata": {},
   "outputs": [],
   "source": [
    "y_test_summer, timestamp_test_summer = prepare_Y(y_test_summer)"
   ]
  },
  {
   "cell_type": "code",
   "execution_count": 789,
   "id": "1524b2ca-84f9-445f-97fc-42d7106319ae",
   "metadata": {},
   "outputs": [],
   "source": [
    "y_test_winter, timestamp_test_winter = prepare_Y(y_test_winter)"
   ]
  },
  {
   "cell_type": "code",
   "execution_count": 790,
   "id": "2a0f8950-7408-41c6-ae1b-7341fcf8059c",
   "metadata": {},
   "outputs": [],
   "source": [
    "class PCA_LR(Essentials.SoftSensor):\n",
    "    def __init__(self, name, x_train, y_train,x_test,y_test):\n",
    "        super().__init__(name)\n",
    "        self.x_scaler = StandardScaler()\n",
    "        self.x_pca = None  # Инициализация будет в методе tune_pca_components\n",
    "        self.fit_scaler(x_train)\n",
    "\n",
    "        # Определение максимального количества компонент на основе минимальной размерности x_train\n",
    "        self.max_components = min(x_train.shape[1], x_train.shape[0])\n",
    "\n",
    "        # Поиск оптимального количества компонент\n",
    "        self.tune_pca_components(x_train, y_train, x_test, y_test)\n",
    "\n",
    "        # Обучение модели\n",
    "        self.model = LinearRegression()\n",
    "        self.train(x_train, y_train)\n",
    "        self.set_model(self.model)\n",
    "\n",
    "    def tune_pca_components(self, x_train, y_train, x_test, y_test):\n",
    "        r2_scores = []\n",
    "        for n_components in range(1, self.max_components + 1):\n",
    "            pca = PCA(n_components=n_components)\n",
    "            self.fit_pca(pca, x_train)\n",
    "            pca_x_train = self.preprocessing(x_train)\n",
    "\n",
    "            # Обучение модели на обучающей выборке с текущим количеством компонент\n",
    "            model = LinearRegression()\n",
    "            model.fit(pca_x_train, y_train)\n",
    "\n",
    "            # Преобразование тестовой выборки и предсказание\n",
    "            pca_x_test = self.preprocessing(x_test)\n",
    "            y_pred = model.predict(pca_x_test)\n",
    "\n",
    "            # Расчёт R^2 и обновление списка r2_scores\n",
    "            r2 = r2_score(y_test, y_pred)\n",
    "            r2_scores.append(r2)\n",
    "\n",
    "        # Определение числа компонент с максимальным R^2\n",
    "        optimal_n_components = np.argmax(r2_scores) + 1\n",
    "        print(f\"Оптимальное количество главных компонент: {optimal_n_components}\")\n",
    "\n",
    "        # Обучение PCA с оптимальным числом компонент\n",
    "        self.x_pca = PCA(n_components=optimal_n_components)\n",
    "        self.x_pca.fit(self.x_scaler.transform(x_train))\n",
    "    \n",
    "    def preprocessing(self, x):\n",
    "        try:\n",
    "            x_scaled = self.x_scaler.transform(x)\n",
    "            return self.x_pca.transform(x_scaled)\n",
    "        except BaseException as err:\n",
    "            print(\"Ошибка скейлера\")\n",
    "            raise err    \n",
    "    \n",
    "    def postprocessing(self, x):\n",
    "        return x\n",
    "\n",
    "    def fit_scaler(self, x):\n",
    "        self.x_scaler.fit(x)\n",
    "\n",
    "    def fit_pca(self, pca, x):\n",
    "        scaled_x = self.x_scaler.transform(x)\n",
    "        pca.fit(scaled_x)\n",
    "        self.x_pca = pca\n",
    "    \n",
    "    def evaluate_model(self, x):\n",
    "        predictions = self.get_model().predict(x)\n",
    "        return predictions\n",
    "\n",
    "    def train(self, x_train, y_train):\n",
    "        pca_x = self.preprocessing(x_train)\n",
    "        self.model.fit(pca_x,y_train)\n",
    "\n",
    "    def __str__(self):\n",
    "        coef_lines = [f\"Коэффициент {i + 1}: {coef:.6f}\" for i, coef in enumerate(self.model.coef_.flatten())]\n",
    "        coef_str = '\\n'.join(coef_lines)\n",
    "        intercept = self.model.intercept_\n",
    "        if isinstance(intercept, np.ndarray):\n",
    "            intercept = intercept.item(0)\n",
    "        return f\"{coef_str}\\nСвободный член (intercept): {intercept:.6f}\""
   ]
  },
  {
   "cell_type": "code",
   "execution_count": 791,
   "id": "02fc1be8-6972-4342-9162-22d026a3fc3f",
   "metadata": {},
   "outputs": [
    {
     "name": "stdout",
     "output_type": "stream",
     "text": [
      "Оптимальное количество главных компонент: 50\n"
     ]
    }
   ],
   "source": [
    "PCA_LR_test = PCA_LR(\"PCA_LR\" ,x_train ,y_train, x_test, y_test)"
   ]
  },
  {
   "cell_type": "code",
   "execution_count": 792,
   "id": "8f472de4-3a08-449c-b2cf-c479921407e9",
   "metadata": {},
   "outputs": [],
   "source": [
    "metric = Essentials.R2Metric()"
   ]
  },
  {
   "cell_type": "code",
   "execution_count": 793,
   "id": "cacadc14-ff37-45f8-bb78-d47ed568032b",
   "metadata": {},
   "outputs": [
    {
     "name": "stdout",
     "output_type": "stream",
     "text": [
      "Коэффициент 1: -0.314532\n",
      "Коэффициент 2: 0.059401\n",
      "Коэффициент 3: 0.037535\n",
      "Коэффициент 4: 0.431867\n",
      "Коэффициент 5: -0.762404\n",
      "Коэффициент 6: -0.039060\n",
      "Коэффициент 7: 0.184929\n",
      "Коэффициент 8: -0.252635\n",
      "Коэффициент 9: -0.281302\n",
      "Коэффициент 10: -0.028317\n",
      "Коэффициент 11: 0.372031\n",
      "Коэффициент 12: -0.425213\n",
      "Коэффициент 13: -0.715824\n",
      "Коэффициент 14: 0.231263\n",
      "Коэффициент 15: -0.750686\n",
      "Коэффициент 16: -0.677179\n",
      "Коэффициент 17: 0.576010\n",
      "Коэффициент 18: -0.836544\n",
      "Коэффициент 19: -0.982275\n",
      "Коэффициент 20: 0.272878\n",
      "Коэффициент 21: -0.643155\n",
      "Коэффициент 22: 0.040018\n",
      "Коэффициент 23: 0.272801\n",
      "Коэффициент 24: -0.386111\n",
      "Коэффициент 25: 0.356523\n",
      "Коэффициент 26: 0.640634\n",
      "Коэффициент 27: -0.154643\n",
      "Коэффициент 28: -0.120615\n",
      "Коэффициент 29: -0.565035\n",
      "Коэффициент 30: -0.228416\n",
      "Коэффициент 31: 0.916049\n",
      "Коэффициент 32: -0.504113\n",
      "Коэффициент 33: 0.119171\n",
      "Коэффициент 34: -0.348923\n",
      "Коэффициент 35: -0.023545\n",
      "Коэффициент 36: -0.200056\n",
      "Коэффициент 37: -0.448982\n",
      "Коэффициент 38: 0.363348\n",
      "Коэффициент 39: 0.073403\n",
      "Коэффициент 40: -0.089199\n",
      "Коэффициент 41: 0.180189\n",
      "Коэффициент 42: -0.913428\n",
      "Коэффициент 43: 2.048535\n",
      "Коэффициент 44: -0.186487\n",
      "Коэффициент 45: 0.867229\n",
      "Коэффициент 46: -1.564569\n",
      "Коэффициент 47: 1.372943\n",
      "Коэффициент 48: 1.603643\n",
      "Коэффициент 49: 3.203987\n",
      "Коэффициент 50: -1.529845\n",
      "Свободный член (intercept): 56.922222\n"
     ]
    }
   ],
   "source": [
    "print(PCA_LR_test)"
   ]
  },
  {
   "cell_type": "code",
   "execution_count": 794,
   "id": "f0ab78b9-1742-4e81-8b94-622231eb5ae2",
   "metadata": {},
   "outputs": [
    {
     "data": {
      "text/plain": [
       "(array([[54.35062788],\n",
       "        [56.20345917],\n",
       "        [56.30633055],\n",
       "        [58.84934758],\n",
       "        [61.5462088 ],\n",
       "        [54.66410933],\n",
       "        [61.55124933],\n",
       "        [52.84950719],\n",
       "        [60.09497816],\n",
       "        [60.89510237],\n",
       "        [51.7038665 ],\n",
       "        [60.53063817],\n",
       "        [60.04639422],\n",
       "        [54.46859119],\n",
       "        [52.14359986],\n",
       "        [50.71166155],\n",
       "        [57.53110089],\n",
       "        [58.49421236],\n",
       "        [51.56151519],\n",
       "        [55.85430389],\n",
       "        [60.5123426 ],\n",
       "        [56.14879202],\n",
       "        [61.38894241],\n",
       "        [57.15281272],\n",
       "        [59.73388708],\n",
       "        [61.16888253],\n",
       "        [63.83375038],\n",
       "        [62.17979772],\n",
       "        [62.64975084],\n",
       "        [51.23357927],\n",
       "        [57.00467495],\n",
       "        [59.49191559],\n",
       "        [60.90236324],\n",
       "        [58.27369453],\n",
       "        [60.44986299],\n",
       "        [59.74387616],\n",
       "        [59.04807291],\n",
       "        [60.68366657],\n",
       "        [55.90028583]]),\n",
       " 0.7250322575602799)"
      ]
     },
     "execution_count": 794,
     "metadata": {},
     "output_type": "execute_result"
    }
   ],
   "source": [
    "PCA_LR_test.test(x_test, y_test, metric)"
   ]
  },
  {
   "cell_type": "code",
   "execution_count": 795,
   "id": "5ef12783-2460-4be1-aa82-76b9a391a60b",
   "metadata": {},
   "outputs": [],
   "source": [
    "PCA_LR_test_visual_train = Essentials.Visualizer(x_train, y_train, timestamp_train, [metric], 'Linear with PCA SoftSensor R2 metric on Train')"
   ]
  },
  {
   "cell_type": "code",
   "execution_count": 796,
   "id": "7f8a24a2-aa98-4d9a-9e32-fc92ef684cd2",
   "metadata": {},
   "outputs": [
    {
     "name": "stdout",
     "output_type": "stream",
     "text": [
      "        Coefficient of determination\n",
      "PCA_LR                      0.918937\n"
     ]
    },
    {
     "data": {
      "image/png": "[encoded data removed]",
      "text/plain": [
       "<Figure size 640x480 with 1 Axes>"
      ]
     },
     "metadata": {},
     "output_type": "display_data"
    }
   ],
   "source": [
    "PCA_LR_test_visual_train.visualize([PCA_LR_test])"
   ]
  },
  {
   "cell_type": "code",
   "execution_count": 797,
   "id": "f6ca9f82-da7b-40b5-9e65-9397973dce78",
   "metadata": {},
   "outputs": [],
   "source": [
    "PCA_LR_test_visual_test = Essentials.Visualizer(x_test, y_test, timestamp_test, [metric], 'Linear with PCA SoftSensor R2 metric on Test')"
   ]
  },
  {
   "cell_type": "code",
   "execution_count": 798,
   "id": "9efeaae2-96fa-4df5-93f6-7e95e34e7305",
   "metadata": {},
   "outputs": [
    {
     "name": "stdout",
     "output_type": "stream",
     "text": [
      "        Coefficient of determination\n",
      "PCA_LR                      0.725032\n"
     ]
    },
    {
     "data": {
      "image/png": "[encoded data removed]",
      "text/plain": [
       "<Figure size 640x480 with 1 Axes>"
      ]
     },
     "metadata": {},
     "output_type": "display_data"
    }
   ],
   "source": [
    "PCA_LR_test_visual_test.visualize([PCA_LR_test])"
   ]
  }
 ],
 "metadata": {
  "kernelspec": {
   "display_name": "Python 3 (ipykernel)",
   "language": "python",
   "name": "python3"
  },
  "language_info": {
   "codemirror_mode": {
    "name": "ipython",
    "version": 3
   },
   "file_extension": ".py",
   "mimetype": "text/x-python",
   "name": "python",
   "nbconvert_exporter": "python",
   "pygments_lexer": "ipython3",
   "version": "3.11.7"
  }
 },
 "nbformat": 4,
 "nbformat_minor": 5
}
