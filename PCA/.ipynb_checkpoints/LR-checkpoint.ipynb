{
 "cells": [
  {
   "cell_type": "code",
   "execution_count": 1,
   "id": "fd089e5c-073c-4899-b1fc-e51d8550cc19",
   "metadata": {},
   "outputs": [],
   "source": [
    "import sys\n",
    "sys.path.append(\"..\")\n",
    "\n",
    "import Essentials"
   ]
  },
  {
   "cell_type": "code",
   "execution_count": 2,
   "id": "13d89c2c-e559-41ad-bff9-dbc07c7793bc",
   "metadata": {},
   "outputs": [],
   "source": [
    "import numpy as np\n",
    "from sklearn.linear_model import LinearRegression\n",
    "from sklearn.decomposition import PCA\n",
    "from sklearn.preprocessing import StandardScaler"
   ]
  },
  {
   "cell_type": "code",
   "execution_count": 3,
   "id": "dd53eeb4-e972-45e1-850d-de1c2920ca30",
   "metadata": {},
   "outputs": [],
   "source": [
    "data_archive = np.load('../Data_First.npz', allow_pickle=True)"
   ]
  },
  {
   "cell_type": "code",
   "execution_count": 4,
   "id": "25214361-3a31-4b64-8533-72d964db39ae",
   "metadata": {},
   "outputs": [],
   "source": [
    "def prepare_Y(y):\n",
    "    timestamp = y[:, 1]   \n",
    "    y = y[:, 0].reshape(len(y), 1)\n",
    "    y = y.astype(np.float64)\n",
    "\n",
    "    return y, timestamp"
   ]
  },
  {
   "cell_type": "code",
   "execution_count": 5,
   "id": "ea1726ec-2d6e-4e3f-85da-1ed6f0b48172",
   "metadata": {},
   "outputs": [
    {
     "name": "stderr",
     "output_type": "stream",
     "text": [
      "C:\\Users\\PC\\AppData\\Local\\Temp\\ipykernel_10660\\4096890530.py:4: DeprecationWarning: Conversion of an array with ndim > 0 to a scalar is deprecated, and will error in future. Ensure you extract a single element from your array before performing this operation. (Deprecated NumPy 1.25.)\n",
      "  y = y.astype(np.float64)\n"
     ]
    }
   ],
   "source": [
    "X_test_1 = data_archive['X_test_1']\n",
    "X_train_1 = data_archive['X_train_1']\n",
    "\n",
    "X_test_2 = data_archive['X_test_2']\n",
    "X_train_2 = data_archive['X_train_2']\n",
    "\n",
    "X_test_3 = data_archive['X_test_3']\n",
    "X_train_3 = data_archive['X_train_3']\n",
    "\n",
    "Y_test_1, timestamp_test_1 = prepare_Y(data_archive['Y_test_1'])\n",
    "Y_train_1, timestamp_train_1 = prepare_Y(data_archive['Y_train_1'])\n",
    "\n",
    "Y_test_2, timestamp_test_2 = prepare_Y(data_archive['Y_test_2'])\n",
    "Y_train_2, timestamp_train_2 = prepare_Y(data_archive['Y_train_2'])\n",
    "\n",
    "Y_test_3, timestamp_test_3 = prepare_Y(data_archive['Y_test_3'])\n",
    "Y_train_3, timestamp_train_3 = prepare_Y(data_archive['Y_train_3'])"
   ]
  },
  {
   "cell_type": "code",
   "execution_count": 6,
   "id": "2a0f8950-7408-41c6-ae1b-7341fcf8059c",
   "metadata": {},
   "outputs": [],
   "source": [
    "class PCA_LR(Essentials.SoftSensor):\n",
    "    def __init__(self, name, x_train, y_train):\n",
    "        super().__init__(name)\n",
    "        self.model = LinearRegression(fit_intercept=True, copy_X=True, n_jobs=None)\n",
    "        self.train(x_train, y_train)\n",
    "        self.set_model(self.model)\n",
    "\n",
    "    def preprocessing(self, x):\n",
    "        return x\n",
    "    def postprocessing(self, x):\n",
    "        return x\n",
    "\n",
    "\n",
    "    def evaluate_model(self, x):\n",
    "        predictions = self.get_model().predict(x)\n",
    "        return predictions\n",
    "\n",
    "    def train(self, x_train, y_train):\n",
    "        self.model.fit(x_train,y_train)\n",
    "\n",
    "    def __str__(self):\n",
    "        pass"
   ]
  },
  {
   "cell_type": "code",
   "execution_count": 7,
   "id": "02fc1be8-6972-4342-9162-22d026a3fc3f",
   "metadata": {},
   "outputs": [],
   "source": [
    "LR_test = PCA_LR(\"LR\" ,X_train_2, Y_train_2)"
   ]
  },
  {
   "cell_type": "code",
   "execution_count": 8,
   "id": "8f472de4-3a08-449c-b2cf-c479921407e9",
   "metadata": {},
   "outputs": [],
   "source": [
    "metric = Essentials.R2Metric()"
   ]
  },
  {
   "cell_type": "code",
   "execution_count": 9,
   "id": "cacadc14-ff37-45f8-bb78-d47ed568032b",
   "metadata": {},
   "outputs": [
    {
     "name": "stdout",
     "output_type": "stream",
     "text": [
      "Коэффициенты линейной регрссии = [[-1.82193766e+00]\n",
      " [-2.85105423e+01]\n",
      " [ 2.84744669e-01]\n",
      " [-3.33170689e+00]\n",
      " [ 1.86779819e+00]\n",
      " [-1.02098962e+02]\n",
      " [ 3.56865185e-01]\n",
      " [ 3.75157377e+00]\n",
      " [-3.96341999e+02]\n",
      " [ 5.54409522e+00]\n",
      " [ 3.99870693e+00]\n",
      " [ 9.61724912e+01]\n",
      " [-2.97424495e+01]\n",
      " [-1.32532457e+01]\n",
      " [ 2.02199829e+02]\n",
      " [ 9.96448064e+00]\n",
      " [-1.60666467e+01]\n",
      " [ 2.00693409e+00]\n",
      " [ 5.09797927e-01]\n",
      " [-5.56439053e+00]\n",
      " [ 2.42534947e+00]\n",
      " [-2.39276657e-01]\n",
      " [ 3.84237357e-02]\n",
      " [ 4.54320596e-01]\n",
      " [ 1.97708541e-01]\n",
      " [-2.51556231e-01]\n",
      " [ 2.59143255e+01]\n",
      " [ 2.88427381e-01]\n",
      " [-7.15949755e+01]\n",
      " [ 1.12654201e+00]\n",
      " [ 1.09624251e-01]\n",
      " [-3.23353449e-01]\n",
      " [ 1.75535078e-01]\n",
      " [-6.47465788e+00]\n",
      " [-1.07377698e-02]\n",
      " [ 4.47173984e-01]\n",
      " [-1.88520981e-01]\n",
      " [ 1.15111998e+01]\n",
      " [ 1.97708541e-01]\n",
      " [ 9.77337962e+00]\n",
      " [-2.41268120e+01]\n",
      " [-5.27201261e-02]\n",
      " [-1.34578062e+00]\n",
      " [-1.30202119e+01]\n",
      " [ 6.72106780e-03]], Свободный член = [[9613.12235872]]\n"
     ]
    }
   ],
   "source": [
    "print(LR_test)"
   ]
  },
  {
   "cell_type": "code",
   "execution_count": 10,
   "id": "f0ab78b9-1742-4e81-8b94-622231eb5ae2",
   "metadata": {},
   "outputs": [
    {
     "ename": "NameError",
     "evalue": "name 'PCA_LR_test' is not defined",
     "output_type": "error",
     "traceback": [
      "\u001b[1;31m---------------------------------------------------------------------------\u001b[0m",
      "\u001b[1;31mNameError\u001b[0m                                 Traceback (most recent call last)",
      "Cell \u001b[1;32mIn[10], line 1\u001b[0m\n\u001b[1;32m----> 1\u001b[0m PCA_LR_test\u001b[38;5;241m.\u001b[39mtest(X_test_2, Y_test_2, metric)\n",
      "\u001b[1;31mNameError\u001b[0m: name 'PCA_LR_test' is not defined"
     ]
    }
   ],
   "source": [
    "PCA_LR_test.test(X_test_2, Y_test_2, metric)"
   ]
  },
  {
   "cell_type": "code",
   "execution_count": null,
   "id": "5ef12783-2460-4be1-aa82-76b9a391a60b",
   "metadata": {},
   "outputs": [],
   "source": [
    "PCA_LR_test_visual_train = Essentials.Visualizer(X_train_2, Y_train_2, timestamp_train_2, [metric], 'Linear with PCA SoftSensor R2 metric on Train')"
   ]
  },
  {
   "cell_type": "code",
   "execution_count": null,
   "id": "7f8a24a2-aa98-4d9a-9e32-fc92ef684cd2",
   "metadata": {},
   "outputs": [],
   "source": [
    "PCA_LR_test_visual_train.visualize([PCA_LR_test])"
   ]
  },
  {
   "cell_type": "code",
   "execution_count": null,
   "id": "f6ca9f82-da7b-40b5-9e65-9397973dce78",
   "metadata": {},
   "outputs": [],
   "source": [
    "PCA_LR_test_visual_test = Essentials.Visualizer(X_test_2, Y_test_2, timestamp_test_2, [metric], 'Linear with PCA SoftSensor R2 metric on Test')"
   ]
  },
  {
   "cell_type": "code",
   "execution_count": null,
   "id": "9efeaae2-96fa-4df5-93f6-7e95e34e7305",
   "metadata": {},
   "outputs": [],
   "source": [
    "PCA_LR_test_visual_test.visualize([PCA_LR_test])"
   ]
  }
 ],
 "metadata": {
  "kernelspec": {
   "display_name": "Python 3 (ipykernel)",
   "language": "python",
   "name": "python3"
  },
  "language_info": {
   "codemirror_mode": {
    "name": "ipython",
    "version": 3
   },
   "file_extension": ".py",
   "mimetype": "text/x-python",
   "name": "python",
   "nbconvert_exporter": "python",
   "pygments_lexer": "ipython3",
   "version": "3.11.7"
  }
 },
 "nbformat": 4,
 "nbformat_minor": 5
}
