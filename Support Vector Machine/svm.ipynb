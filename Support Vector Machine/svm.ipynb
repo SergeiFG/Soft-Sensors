{
 "cells": [
  {
   "cell_type": "code",
   "execution_count": 441,
   "id": "d746fa37-9544-46e5-b23c-99f69bdcf2c2",
   "metadata": {},
   "outputs": [],
   "source": [
    "import sys\n",
    "\n",
    "sys.path.append(\"...\")\n",
    "\n",
    "import Essentials"
   ]
  },
  {
   "cell_type": "code",
   "execution_count": 442,
   "id": "bd9134ca-37c3-4e08-858f-abf5cc29dd06",
   "metadata": {},
   "outputs": [],
   "source": [
    "import numpy as np\n",
    "from sklearn.tree import DecisionTreeRegressor\n",
    "from sklearn.preprocessing import StandardScaler\n",
    "from sklearn.linear_model import LinearRegression\n",
    "import matplotlib.pyplot as plt\n",
    "from sklearn.ensemble import RandomForestRegressor\n",
    "from sklearn.model_selection import train_test_split\n",
    "from sklearn.neighbors import KNeighborsRegressor\n",
    "from sklearn.svm import SVR\n",
    "import pandas as pd"
   ]
  },
  {
   "cell_type": "code",
   "execution_count": 443,
   "id": "5f192e1e-add2-44ff-988e-87c983f71f18",
   "metadata": {},
   "outputs": [],
   "source": [
    "data_archive = np.load('Data_First_newest.npz', allow_pickle=True)"
   ]
  },
  {
   "cell_type": "code",
   "execution_count": 444,
   "id": "3d095264-326c-4fa8-a7ad-d5553895b3ef",
   "metadata": {},
   "outputs": [],
   "source": [
    "def prepare_Y(y):\n",
    "    timestamp = y[:, 1]   \n",
    "    y = y[:, 0].reshape(len(y), 1)\n",
    "    y = y.astype(np.float64)\n",
    "\n",
    "    return y, timestamp"
   ]
  },
  {
   "cell_type": "code",
   "execution_count": 445,
   "id": "1155b26c-a305-40d6-b70e-34b118762740",
   "metadata": {},
   "outputs": [],
   "source": [
    "all_X_1 = data_archive['all_X_1']\n",
    "all_Y_1 = data_archive['all_Y_1']\n",
    "\n",
    "all_X_2 = data_archive['all_X_2']\n",
    "all_Y_2 = data_archive['all_Y_2']\n",
    "\n",
    "all_X_3 = data_archive['all_X_3']\n",
    "all_Y_3 = data_archive['all_Y_3']"
   ]
  },
  {
   "cell_type": "code",
   "execution_count": 446,
   "id": "8f708d31-6321-4bfa-aff5-5d2a6265a01f",
   "metadata": {},
   "outputs": [],
   "source": [
    "df_X1 = pd.read_csv(r'raw_X1.csv', index_col=0)\n",
    "df_X2 = pd.read_csv(r'raw_X2.csv', index_col=0)\n",
    "df_X3 = pd.read_csv(r'raw_X3.csv', index_col=0)\n",
    "df_Y1 = pd.read_csv(r'raw_Y1.csv', index_col=0)\n",
    "df_Y2 = pd.read_csv(r'raw_Y1.csv', index_col=0)\n",
    "df_Y3 = pd.read_csv(r'raw_Y1.csv', index_col=0)"
   ]
  },
  {
   "cell_type": "code",
   "execution_count": 447,
   "id": "8279be29-b28a-4c1d-9328-57c912ee328e",
   "metadata": {},
   "outputs": [],
   "source": [
    "x_train, x_test, y_train, y_test = train_test_split(all_X_1, all_Y_1, test_size=0.25, random_state=42)"
   ]
  },
  {
   "cell_type": "code",
   "execution_count": 448,
   "id": "233dfa9c-08a0-49c2-8bb3-4b8e34e29605",
   "metadata": {},
   "outputs": [],
   "source": [
    "y_train, timestamp_train = prepare_Y(y_train)"
   ]
  },
  {
   "cell_type": "code",
   "execution_count": 449,
   "id": "e700a008-449a-4ece-8dfd-5c1bcef8ac93",
   "metadata": {},
   "outputs": [],
   "source": [
    "y_test, timestamp_test = prepare_Y(y_test)"
   ]
  },
  {
   "cell_type": "code",
   "execution_count": 450,
   "id": "e59b2021-aff0-4670-bcf4-6c5428c38b91",
   "metadata": {},
   "outputs": [
    {
     "data": {
      "text/plain": [
       "(33, 1)"
      ]
     },
     "execution_count": 450,
     "metadata": {},
     "output_type": "execute_result"
    }
   ],
   "source": [
    "all_X_1.shape\n",
    "all_Y_1.shape\n",
    "x_train.shape\n",
    "y_test.shape"
   ]
  },
  {
   "cell_type": "code",
   "execution_count": 451,
   "id": "8369d581-db83-4c75-8789-a92308613ae4",
   "metadata": {},
   "outputs": [],
   "source": [
    "column_names_X1 = df_X1.columns.tolist()\n",
    "column_names_X2 = df_X2.columns.tolist()\n",
    "column_names_X3 = df_X3.columns.tolist()\n",
    "column_name_Y1 = 'Давление насыщенных паров в зимний период'\n",
    "column_name_Y2 = 'Конец кипения легкого бензина'\n",
    "column_name_Y3 = 'Содержание олефинов в продукте'"
   ]
  },
  {
   "cell_type": "code",
   "execution_count": 452,
   "id": "ab96fddf-5361-40f3-accc-e031f31f8d1a",
   "metadata": {},
   "outputs": [
    {
     "data": {
      "text/plain": [
       "'DateTime'"
      ]
     },
     "execution_count": 452,
     "metadata": {},
     "output_type": "execute_result"
    }
   ],
   "source": [
    "column_names_X1.pop()\n",
    "column_names_X2.pop()\n",
    "column_names_X3.pop()"
   ]
  },
  {
   "cell_type": "code",
   "execution_count": 453,
   "id": "7a65f714-5d43-4f70-a9e9-84be15987911",
   "metadata": {},
   "outputs": [],
   "source": [
    "feature_names_1 = column_names_X1\n",
    "feature_names_2 = column_names_X2\n",
    "feature_names_3 = column_names_X3"
   ]
  },
  {
   "cell_type": "code",
   "execution_count": null,
   "id": "c5d5675b-d6f1-4858-a24e-4ff7738bae9b",
   "metadata": {},
   "outputs": [],
   "source": []
  },
  {
   "cell_type": "code",
   "execution_count": 454,
   "id": "b2599f93-a95c-453e-a9b9-7ffeb776e35b",
   "metadata": {},
   "outputs": [],
   "source": [
    "target_name_1 = column_name_Y1\n",
    "target_name_2 = column_name_Y2\n",
    "target_name_3 = column_name_Y3"
   ]
  },
  {
   "cell_type": "code",
   "execution_count": 455,
   "id": "c045efe9-2324-4cd3-8245-3ff117bff768",
   "metadata": {},
   "outputs": [],
   "source": [
    "class svm(Essentials.SoftSensor):\n",
    "    def __init__(self, x_train, y_train, **kwargs):\n",
    "        super().__init__('Test')\n",
    "        self.parameters = kwargs\n",
    "        self.model = SVR(**self.parameters)\n",
    "        self.x_scaler = StandardScaler() \n",
    "        self.y_scaler = StandardScaler()\n",
    "        self.x_scaler.fit(x_train)\n",
    "        self.y_scaler.fit(y_train)\n",
    "        self.train(x_train, y_train)\n",
    "\n",
    "    def preprocessing(self, x):\n",
    "        try:\n",
    "            return self.x_scaler.transform(x)\n",
    "        except:\n",
    "            try:\n",
    "               return self.y_scaler.transform(x)\n",
    "            except BaseException as err:\n",
    "                print(\"Ошибка скейлера\")\n",
    "                raise err\n",
    "    def postprocessing(self, x):\n",
    "        return x\n",
    "                \n",
    "    def evaluate_model(self, x):\n",
    "        predictions = self.get_model().predict(x)\n",
    "        return predictions.reshape(-1, 1)\n",
    "\n",
    "    def train(self, x_train, y_train):\n",
    "        x_train = self.preprocessing(x_train)\n",
    "        self.model.fit(x_train, y_train)\n",
    "        self.set_model(self.model)\n",
    "        \n",
    "    def equation(self, feature_names, target_name):\n",
    "        weights = self.model.coef_[0]\n",
    "        intercept = self.model.intercept_[0]\n",
    "        equation = f\"{target_name} = {intercept:.2f}\"\n",
    "        for i, feature_name in enumerate(feature_names):\n",
    "            equation += f\" + {weights[i]:.2f} * {feature_name}\"\n",
    "        return equation        \n",
    "    def __str__(self):\n",
    "        pass"
   ]
  },
  {
   "cell_type": "code",
   "execution_count": 456,
   "id": "439f0153-8f0b-4f14-9036-bc7a99229f13",
   "metadata": {},
   "outputs": [
    {
     "name": "stderr",
     "output_type": "stream",
     "text": [
      "C:\\ProgramData\\anaconda3\\Lib\\site-packages\\sklearn\\utils\\validation.py:1143: DataConversionWarning: A column-vector y was passed when a 1d array was expected. Please change the shape of y to (n_samples, ), for example using ravel().\n",
      "  y = column_or_1d(y, warn=True)\n"
     ]
    }
   ],
   "source": [
    "test_soft_sensor = svm(x_train, y_train, kernel='linear', C=0.2, epsilon=0.5)"
   ]
  },
  {
   "cell_type": "code",
   "execution_count": 457,
   "id": "773b4ea3-a7d8-4e6b-931a-3e6387cd6e1f",
   "metadata": {},
   "outputs": [
    {
     "name": "stdout",
     "output_type": "stream",
     "text": [
      "Конец кипения легкого бензина = 57.17 + -0.13 * Расход бензина ККР на установку + -0.20 * Расход нафты ККР на установку + -0.14 * Расход бензина на рециркуляцию от Е-1205 + 0.35 * Температура бензина ККР на установку + 0.11 * Расход сырья после Р-1101 + -0.08 * Показатель соотношения водород к углероду + 0.08 * Расход водорода на смешение перед Е-1101 + 0.13 * Температура сырья перед Е-1101 + -0.02 * Давление сырья перед Е-1101 + 0.06 * Температура сырья после Е-1103 + 0.13 * Температура бензина перед Е-1102 + -0.14 * Давление бензина после Е-1102 + 0.22 * Давление на входе в R-1101 + 0.21 * Температура на входе в R-1101 + -0.03 * Перепад давления реактора R-1101 + 0.13 * Температура на входе в С-1101 + 0.19 * Давление верха С-1101 + 0.20 * Температура 2-ой тарелки С-1101 + -0.16 * Расход ЛБ от С-1101 + 0.02 * Температура ЛБ от С-1101 + 0.38 * Температура 9-ой тарелки С-1101 + 0.14 * Температура куба С-1101 + 0.21 * Уровень куба С-1101 + -0.02 * Расход ТБ с куба С-1101 + -0.50 * Расход пара на ребойлеры Е-1105 + 0.27 * Температура пара на ребойлеры Е-1105 + -1.27 * Давление ЛБ после АВО А-1101 + 0.76 * Температура ЛБ после АВО А-1101 + -1.35 * Давление в емкости V-1102 + -0.10 * Уровень в емкости V-1102 + 0.26 * Температура окружающей среды + 0.29 * Расход ЛБ на орошение С-1101 + -0.07 * Температура на входе в R-1201 + -0.16 * Давление ЛБ перед А-1203 + 0.25 * Температура продукта после А-1203 + 0.17 * Температура продукта после Е-1205 + -0.52 * Давление продукта после Е-1205 + 0.25 * Давление продукта на выходе с установки + 0.20 * Расход продукта на выходе с установки + 0.28 * Температура ВСГ на входе в К-1201 + -0.15 * Давление ВСГ на входе в К-1201 + -0.28 * Давление ВСГ на выходе из К-1201А + -0.22 * Давление ВСГ на выходе из К-1201В + -0.13 * Температура ВСГ на выходе из К-1201 + -0.20 * Расход ВСГ от К-1201\n"
     ]
    }
   ],
   "source": [
    "print(test_soft_sensor.equation(feature_names_2, target_name_2))"
   ]
  },
  {
   "cell_type": "code",
   "execution_count": 458,
   "id": "cb8df0f4-e27e-4acd-9339-5dc5780f5cbc",
   "metadata": {},
   "outputs": [],
   "source": [
    "metric = Essentials.R2Metric()"
   ]
  },
  {
   "cell_type": "code",
   "execution_count": 459,
   "id": "7f923080-ba14-4506-b9ac-c0d12b9eef46",
   "metadata": {},
   "outputs": [
    {
     "data": {
      "text/plain": [
       "(array([[54.55561676],\n",
       "        [56.71651924],\n",
       "        [55.98668786],\n",
       "        [58.05004512],\n",
       "        [59.306327  ],\n",
       "        [55.2070396 ],\n",
       "        [59.64774762],\n",
       "        [48.85510904],\n",
       "        [60.14276442],\n",
       "        [60.63641056],\n",
       "        [54.0965897 ],\n",
       "        [58.61628186],\n",
       "        [59.18715621],\n",
       "        [53.60895969],\n",
       "        [51.81289636],\n",
       "        [52.23969179],\n",
       "        [60.35791198],\n",
       "        [61.83246627],\n",
       "        [55.34285111],\n",
       "        [59.09352234],\n",
       "        [59.09687415],\n",
       "        [54.32373568],\n",
       "        [58.40119747],\n",
       "        [57.39893791],\n",
       "        [59.24676962],\n",
       "        [60.51567464],\n",
       "        [59.87906043],\n",
       "        [58.11960001],\n",
       "        [60.99647123],\n",
       "        [52.1387226 ],\n",
       "        [59.0102808 ],\n",
       "        [59.8779078 ],\n",
       "        [60.07378443]]),\n",
       " 0.815211140023418)"
      ]
     },
     "execution_count": 459,
     "metadata": {},
     "output_type": "execute_result"
    }
   ],
   "source": [
    "test_soft_sensor.test(x_test, y_test, metric)"
   ]
  },
  {
   "cell_type": "code",
   "execution_count": 460,
   "id": "f4834630-96f4-40c1-a47f-a9208a7019b3",
   "metadata": {},
   "outputs": [],
   "source": [
    "test_visual = Essentials.Visualizer(x_test, y_test, timestamp_test, [metric], 'Support Vector Model SoftSensor R2 metric on Test')"
   ]
  },
  {
   "cell_type": "code",
   "execution_count": 461,
   "id": "0005d5fb-1eac-4a05-9577-aeabd1d91a9d",
   "metadata": {},
   "outputs": [
    {
     "name": "stdout",
     "output_type": "stream",
     "text": [
      "      Coefficient of determination\n",
      "Test                      0.815211\n"
     ]
    },
    {
     "data": {
      "image/png": "[encoded data removed]",
      "text/plain": [
       "<Figure size 640x480 with 1 Axes>"
      ]
     },
     "metadata": {},
     "output_type": "display_data"
    }
   ],
   "source": [
    "test_visual.visualize([test_soft_sensor])"
   ]
  },
  {
   "cell_type": "code",
   "execution_count": 462,
   "id": "f60d36e9-b00a-4a92-a3e5-b0564639d7bd",
   "metadata": {},
   "outputs": [],
   "source": [
    "test_visual = Essentials.Visualizer(x_train, y_train, timestamp_train, [metric], 'Support Vector Model SoftSensor R2 metric on Train')"
   ]
  },
  {
   "cell_type": "code",
   "execution_count": 463,
   "id": "ce5054bb-feae-48aa-9404-adb8ffbc6181",
   "metadata": {},
   "outputs": [
    {
     "name": "stdout",
     "output_type": "stream",
     "text": [
      "      Coefficient of determination\n",
      "Test                      0.890655\n"
     ]
    },
    {
     "data": {
      "image/png": "[encoded data removed]",
      "text/plain": [
       "<Figure size 640x480 with 1 Axes>"
      ]
     },
     "metadata": {},
     "output_type": "display_data"
    }
   ],
   "source": [
    "test_visual.visualize([test_soft_sensor])"
   ]
  }
 ],
 "metadata": {
  "kernelspec": {
   "display_name": "Python 3 (ipykernel)",
   "language": "python",
   "name": "python3"
  },
  "language_info": {
   "codemirror_mode": {
    "name": "ipython",
    "version": 3
   },
   "file_extension": ".py",
   "mimetype": "text/x-python",
   "name": "python",
   "nbconvert_exporter": "python",
   "pygments_lexer": "ipython3",
   "version": "3.11.7"
  }
 },
 "nbformat": 4,
 "nbformat_minor": 5
}
